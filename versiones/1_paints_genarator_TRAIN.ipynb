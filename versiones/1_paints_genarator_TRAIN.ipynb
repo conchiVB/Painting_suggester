{
 "cells": [
  {
   "cell_type": "markdown",
   "id": "b23fdf5f",
   "metadata": {},
   "source": [
    "## GENERATING THE DDBB OF PICTURES TO TRAIN THE MODEL\n",
    "\n",
    "\n",
    "\n",
    "\n",
    "1. choosing the brush stroke:\n",
    "    - from the brush stroke data base, randomly select a bs shape, (./data/brush_strokes/00_bs_db/) (1 to n bs's at time)\n",
    "    - apply transformations (size, rotation degrees, mirror,..) \n",
    "    - select a color from the palette  https://stackoverflow.com/questions/28999287/generate-random-colors-rgb\n",
    "    \n",
    "\n",
    "2. painting:\n",
    "    - include the bs in the frame,\n",
    "    - random location, \n",
    "    - retain the new variable \"deepness\"\n",
    "    \n",
    "    \n",
    "    \n",
    "  ____  \n",
    "   \n",
    "### Notas a tener en cuenta:\n",
    "    - concentración de pinceladas en el mismo sitio (por el tema de aleatoriedad)\n",
    "    - trabajar con paletas de colores o randoms que produzcan saltos controlados entre un color y otro (evitar concentración en el mismo color,.. )\n",
    "    - permitir que se den varias pinceladas en el mismo color (dejando que se elijan 1 o mas bs de cada selección)\n",
    "    - si existe superposición de colores completa, desestimar el bs que ha desaparecido en su totalidad ocultado por otro posterior.\n",
    "    - dar un color inicial al fondo\n",
    "    - formato del frame en el que trabajar, a partir de varios modelos o en modo aleatorio, horizontal,vertical??\n",
    "    - ...\n",
    "____________________\n",
    "\n",
    "\n",
    "\n",
    "## Posible plan B ...¿?\n",
    "\n",
    "\n",
    "    Crear una especie de app que a partir de una foto de un cuadro + una foto de combinación de colores (reconocer los colores de la foto). Cree un cuadro, similar al de la foto inicial pero con los colores extraidos del input2.\n",
    "    Generar pinturas, fotos,... etc a partir de colores que se extraen de algún sitio --- mediante foto /video....\n",
    " \n",
    " \n",
    "\n"
   ]
  },
  {
   "cell_type": "code",
   "execution_count": 7,
   "id": "91a6c72c",
   "metadata": {},
   "outputs": [
    {
     "name": "stdout",
     "output_type": "stream",
     "text": [
      "Collecting colourlovers\n",
      "  Downloading colourlovers-0.2.0-py3-none-any.whl (12 kB)\n",
      "Requirement already satisfied: Pillow in /home/dsc/anaconda3/lib/python3.8/site-packages (from colourlovers) (7.0.0)\n",
      "Installing collected packages: colourlovers\n",
      "Successfully installed colourlovers-0.2.0\n"
     ]
    }
   ],
   "source": [
    "#!pip install colourlovers     descartado, encontrado un punto a seguir que no era este"
   ]
  },
  {
   "cell_type": "code",
   "execution_count": 1,
   "id": "1a46410c",
   "metadata": {},
   "outputs": [],
   "source": [
    "import numpy as np\n",
    "import cv2"
   ]
  },
  {
   "cell_type": "markdown",
   "id": "7a7e8105",
   "metadata": {},
   "source": [
    "_____\n",
    "### NOTA: Ver como se ha desarrollado este proyecto, transmisión de técnica pictórica\n",
    "\n",
    "https://github.com/matteo-ronchetti/Pointillism/commit/cb6d4454b636488fc2a1993b93f338a2341ba459\n",
    "\n",
    "____"
   ]
  },
  {
   "cell_type": "code",
   "execution_count": 2,
   "id": "d447c7db",
   "metadata": {},
   "outputs": [],
   "source": [
    "#https://github.com/matteo-ronchetti/Pointillism/commit/cb6d4454b636488fc2a1993b93f338a2341ba459\n",
    "# utilizar esta función para repartir las coordenadas de los bs en toda la dimensión del frame, analizarla en detalle, \n",
    "#muy útil. Ver si se puede jugar un poco a que el reparto sea mas desigual\n",
    "import cv2\n",
    "import random\n",
    "\n",
    "import matplotlib.pyplot as plt\n",
    "\n",
    "\n",
    "def randomized_grid(h, w, scale):\n",
    "    if ( scale==0):\n",
    "        scale=min(h,w)//3\n",
    "    assert (scale > 0)\n",
    "\n",
    "    r = scale//2\n",
    "\n",
    "    grid = []\n",
    "    for i in range(0, h, scale):\n",
    "        for j in range(0, w, scale):\n",
    "            y = random.randint(-r, r) + i\n",
    "            x = random.randint(-r, r) + j\n",
    "\n",
    "            grid.append((y % h, x % w))\n",
    "\n",
    "    random.shuffle(grid)\n",
    "    return grid\n",
    "    \n",
    "#type(grid)\n",
    "#len(grid)\n",
    "#type(grid[0])\n",
    "def plot_grid(grid):\n",
    "    x_val = [x[0] for x in grid]\n",
    "    y_val = [x[1] for x in grid]\n",
    "    \n",
    "    plt.scatter(x_val,y_val)\n",
    "    plt.show()\n",
    "\n",
    "\n"
   ]
  },
  {
   "cell_type": "code",
   "execution_count": 3,
   "id": "022ff3aa",
   "metadata": {},
   "outputs": [
    {
     "data": {
      "image/png": "[encoded data removed]",
      "text/plain": [
       "<Figure size 432x288 with 1 Axes>"
      ]
     },
     "metadata": {
      "needs_background": "light"
     },
     "output_type": "display_data"
    }
   ],
   "source": [
    "#llamada____________________\n",
    "\n",
    "grid_g = randomized_grid(h=800, w=800,scale=100)\n",
    "\n",
    "plot_grid (grid=grid_g)\n",
    "    \n",
    "\n",
    "#path_bs='./data/brush_strokes/'\n",
    "#img = cv2.imread(path_bs + \"bs_01.jpg\")\n",
    "#grid = randomized_grid(img.shape[0], img.shape[1], scale=min(img.shape[0],img.shape[1])//5)\n",
    "\n",
    "#print (img.shape[0],img.shape[1], img.shape[0]*img.shape[1], len(grid))\n",
    "#print(img.shape[0]*img.shape[1]/len(grid))"
   ]
  },
  {
   "cell_type": "markdown",
   "id": "a77f19b1",
   "metadata": {},
   "source": [
    "## Paleta de colores \n",
    "\n",
    "primeros intentos\n",
    "https://codeboje.de/fun-colors-or-making-art-python/\n",
    "\n",
    "Palette from picture https://kylermintah.medium.com/coding-a-color-palette-generator-in-python-inspired-by-procreate-5x-b10df37834ae\n",
    "\n",
    "\n",
    "\n",
    "\n",
    "## para aplicar colores a los bs\n",
    "https://stackoverflow.com/questions/28999287/generate-random-colors-rgb\n",
    "\n",
    "##### ver si puedo modificar la selección de colores del modo siguiente:\n",
    "- elegir los colores de algún sitio (es un plus- plus para despuès, aunque no necesario, pero mola)\n",
    "- ver si hay características, además del grado de pastel, que se puedan parametrizar\n",
    "- limitar a colores que se alejen del blanco o negro .. que se alejen de extremos.\n",
    "\n",
    "\n",
    "\n"
   ]
  },
  {
   "cell_type": "code",
   "execution_count": 1,
   "id": "b3d994f2",
   "metadata": {},
   "outputs": [],
   "source": [
    "#https://gist.github.com/adewes/5884820\n",
    "\n",
    "import random\n",
    "import numpy as np\n",
    "import matplotlib.pyplot as plt\n",
    "\n",
    "%matplotlib inline\n",
    "\n",
    "\n",
    "def get_random_color(pastel_factor = 0.5):\n",
    "    return [(x+pastel_factor)/(1.0+pastel_factor) for x in [random.uniform(0,1.0) for i in [1,2,3]]]\n",
    "\n",
    "def color_distance(c1,c2):\n",
    "    return sum([abs(x[0]-x[1]) for x in zip(c1,c2)])\n",
    "\n",
    "def generate_new_color(existing_colors,pastel_factor = 0.5):\n",
    "    max_distance = None\n",
    "    best_color = None\n",
    "    for i in range(0,100):\n",
    "        color = get_random_color(pastel_factor = pastel_factor)\n",
    "        if not existing_colors:\n",
    "            return color\n",
    "        best_distance = min([color_distance(color,c) for c in existing_colors])\n",
    "        if not max_distance or best_distance > max_distance:\n",
    "            max_distance = best_distance\n",
    "            best_color = color\n",
    "    return best_color\n",
    "\n",
    "def generate_palette(n_colors,pastel_factor=0.5):\n",
    "    palette_color = []\n",
    "\n",
    "    for i in range(0,n_colors):\n",
    "        palette_color.append(generate_new_color(palette_color,pastel_factor = pastel_factor))\n",
    "       # print(palette_color)\n",
    "    return palette_color  \n",
    "\n",
    "   "
   ]
  },
  {
   "cell_type": "code",
   "execution_count": 2,
   "id": "cd08780e",
   "metadata": {},
   "outputs": [
    {
     "data": {
      "image/png": "[encoded data removed]",
      "text/plain": [
       "<Figure size 432x288 with 1 Axes>"
      ]
     },
     "metadata": {
      "needs_background": "light"
     },
     "output_type": "display_data"
    }
   ],
   "source": [
    "#https://stackoverflow.com/questions/51728957/create-a-color-palette-image-from-a-list-of-rgb-color\n",
    "#llamada____________________\n",
    "\n",
    "palette = generate_palette(15,pastel_factor=0.2)\n",
    "\n",
    "palette_array = np.array(palette)[np.newaxis, :, :]\n",
    "#print(palette_array)\n",
    "plt.imshow(palette_array)\n",
    "plt.axis('off')\n",
    "plt.show()"
   ]
  },
  {
   "cell_type": "code",
   "execution_count": 6,
   "id": "39af53f9",
   "metadata": {},
   "outputs": [
    {
     "data": {
      "text/plain": [
       "(1, 15, 3)"
      ]
     },
     "execution_count": 6,
     "metadata": {},
     "output_type": "execute_result"
    }
   ],
   "source": [
    "palette_array.shape"
   ]
  },
  {
   "cell_type": "markdown",
   "id": "beee0dcf",
   "metadata": {},
   "source": [
    "### Pintar sobre un frame\n",
    "- seleccionar frame vertical/horizontal....a partir de unas medidas +- limitadas\n",
    "- random del número de elementos a pintar (rango limitado)\n",
    "- random del elemento de nuestra bs_db\n",
    "- random del número de colores a usar (rango limitado)\n",
    "- a partir del dato anterior, crear paletta\n",
    "- pintar en el frame a partir de una selección de centros aleatoria\n",
    "- \n",
    "\n",
    "\n",
    "**Notas**\n",
    "- si tenemos + puntos que colores, se puede repetir algún color. Coger color aleatorio hasta terminar con los posibles, utilizar todos si los puntos de los bs son <= n_colores en paletta.\n",
    "- que se puedan seleccionar varias figuras para un mismo color, 1 a n (n puede ser 3-5, testear)\n",
    "\n"
   ]
  },
  {
   "cell_type": "code",
   "execution_count": null,
   "id": "9743d96d",
   "metadata": {},
   "outputs": [],
   "source": []
  },
  {
   "cell_type": "code",
   "execution_count": 7,
   "id": "27195aac",
   "metadata": {},
   "outputs": [],
   "source": [
    "#db of  brush strokes images in list\n",
    "\n",
    "import os\n",
    "\n",
    "# folder path\n",
    "dir_path = './data/brush_strokes/00_bs_db/'\n",
    "\n",
    "# list to store files\n",
    "lst_bs = []\n",
    "\n",
    "# Iterate directory\n",
    "for path in os.listdir(dir_path):\n",
    "    # check if current path is a file\n",
    "    if os.path.isfile(os.path.join(dir_path, path)):\n",
    "        lst_bs.append(path)\n",
    "#print(lst_bs, len(lst_bs))\n"
   ]
  },
  {
   "cell_type": "code",
   "execution_count": 13,
   "id": "749fddc8",
   "metadata": {},
   "outputs": [
    {
     "name": "stdout",
     "output_type": "stream",
     "text": [
      "Randomly selected frame size: (600, 400)\n"
     ]
    },
    {
     "data": {
      "image/png": "[encoded data removed]",
      "text/plain": [
       "<Figure size 432x288 with 1 Axes>"
      ]
     },
     "metadata": {
      "needs_background": "light"
     },
     "output_type": "display_data"
    },
    {
     "name": "stdout",
     "output_type": "stream",
     "text": [
      "Num de brush strokes 96. Donde las coordenadas de los centroides[(302, 23), (564, 284), (219, 386), (477, 363), (225, 185), (528, 9), (93, 48), (87, 381), (511, 111), (164, 164), (191, 117), (303, 351), (262, 340), (379, 325), (121, 245), (151, 249), (309, 82), (101, 363), (459, 166), (456, 271), (446, 77), (57, 54), (272, 162), (341, 368), (474, 337), (362, 201), (478, 214), (446, 26), (123, 125), (202, 151), (22, 18), (545, 183), (184, 372), (48, 368), (233, 87), (386, 119), (339, 305), (536, 140), (291, 144), (185, 302), (212, 47), (158, 365), (320, 193), (70, 313), (449, 316), (544, 234), (596, 204), (141, 279), (522, 168), (326, 125), (242, 27), (167, 3), (25, 104), (586, 226), (271, 251), (499, 75), (589, 275), (357, 77), (598, 155), (253, 220), (388, 217), (94, 294), (455, 20), (363, 395), (145, 92), (557, 58), (154, 179), (266, 19), (527, 356), (408, 334), (30, 271), (5, 374), (380, 382), (58, 112), (498, 310), (312, 54), (427, 206), (413, 259), (417, 59), (496, 13), (166, 34), (304, 307), (53, 183), (507, 225), (398, 157), (346, 264), (45, 150), (240, 322), (12, 53), (289, 249), (541, 113), (118, 127), (348, 64), (114, 213), (31, 385), (189, 234)]:\n",
      "brush strokes seleccionados de la db de bs: ['bsu_00151.jpg', 'bsu_00025.jpg', 'bsu_00132.jpg', 'bsu_00052.jpg', 'bsu_00155.jpg', 'bsu_00032.jpg', 'bsu_00035.jpg', 'bsu_00051.jpg', 'bsu_00084.jpg', 'bsu_00105.jpg', 'bsu_00154.jpg', 'bsu_00174.jpg', 'bsu_00160.jpg', 'bsu_00136.jpg', 'bsu_00170.jpg', 'bsu_00192.jpg', 'bsu_00157.jpg', 'bsu_00107.jpg', 'bsu_00041.jpg', 'bsu_00042.jpg', 'bsu_00129.jpg', 'bsu_00150.jpg', 'bsu_00048.jpg', 'bsu_00177.jpg', 'bsu_00062.jpg', 'bsu_00039.jpg', 'bsu_00054.jpg', 'bsu_00193.jpg', 'bsu_00061.jpg', 'bsu_00009.jpg', 'bsu_00081.jpg', 'bsu_00102.jpg', 'bsu_00059.jpg', 'bsu_00043.jpg', 'bsu_00019.jpg', 'bsu_00123.jpg', 'bsu_00063.jpg', 'bsu_00011.jpg', 'bsu_00173.jpg', 'bsu_00090.jpg', 'bsu_00109.jpg', 'bsu_00056.jpg', 'bsu_00195.jpg', 'bsu_00133.jpg', 'bsu_00083.jpg', 'bsu_00128.jpg', 'bsu_00189.jpg', 'bsu_00158.jpg', 'bsu_00085.jpg', 'bsu_00022.jpg', 'bsu_00071.jpg', 'bsu_00127.jpg', 'bsu_00144.jpg', 'bsu_00168.jpg', 'bsu_00005.jpg', 'bsu_00175.jpg', 'bsu_00016.jpg', 'bsu_00010.jpg', 'bsu_00064.jpg', 'bsu_00145.jpg', 'bsu_00187.jpg', 'bsu_00017.jpg', 'bsu_00153.jpg', 'bsu_00028.jpg', 'bsu_00134.jpg', 'bsu_00023.jpg', 'bsu_00003.jpg', 'bsu_00141.jpg', 'bsu_00179.jpg', 'bsu_00138.jpg', 'bsu_00100.jpg', 'bsu_00152.jpg', 'bsu_00171.jpg', 'bsu_00103.jpg', 'bsu_00094.jpg', 'bsu_00112.jpg', 'bsu_00006.jpg', 'bsu_00074.jpg', 'bsu_00030.jpg', 'bsu_00147.jpg', 'bsu_00004.jpg', 'bsu_00185.jpg', 'bsu_00027.jpg', 'bsu_00126.jpg', 'bsu_00172.jpg', 'bsu_00148.jpg', 'bsu_00053.jpg', 'bsu_00024.jpg', 'bsu_00178.jpg', 'bsu_00191.jpg', 'bsu_00021.jpg', 'bsu_00140.jpg', 'bsu_00183.jpg', 'bsu_00120.jpg', 'bsu_00169.jpg', 'bsu_00099.jpg']\n",
      "grados de giro para los bs: [1, 315, 268, 269, 169, 24, 254, 167, 283, 46, 159, 52, 104, 270, 332, 280, 116, 206, 136, 263, 343, 44, 151, 155, 354, 303, 346, 249, 248, 357, 49, 247, 132, 121, 255, 330, 109, 211, 30, 301, 123, 21, 94, 22, 23, 170, 353, 341, 67, 171, 291, 120, 74, 60, 192, 92, 205, 113, 267, 310, 266, 26, 278, 10, 179, 313, 119, 93, 40, 257, 229, 80, 356, 41, 324, 197, 25, 215, 214, 349, 102, 221, 149, 35, 38, 302, 14, 174, 253, 51, 162, 337, 223, 276, 231, 295]\n",
      "escala de tamaño a aplicar en %: [195, 141, 157, 126, 182, 178, 144, 167, 125, 186, 115, 166, 102, 196, 146, 111, 139, 116, 137, 173, 122, 165, 103, 129, 112, 131, 168, 123, 185, 191, 156, 180, 152, 143, 108, 197, 198, 133, 188, 190, 140, 187, 154, 114, 155, 109, 172, 189, 149, 151, 150, 130, 124, 138, 177, 113, 134, 100, 148, 128, 158, 147, 199, 145, 160, 135, 101, 174, 110, 175, 181, 117, 179, 107, 169, 118, 136, 106, 142, 161, 127, 162, 153, 194, 171, 170, 176, 163, 184, 192, 104, 121, 120, 159, 193, 132]\n"
     ]
    },
    {
     "data": {
      "image/png": "[encoded data removed]",
      "text/plain": [
       "<Figure size 432x288 with 1 Axes>"
      ]
     },
     "metadata": {
      "needs_background": "light"
     },
     "output_type": "display_data"
    },
    {
     "name": "stdout",
     "output_type": "stream",
     "text": [
      "Array con los rgb de la paleta seleccionada [[[0.5301754717827264, 0.983608076776028, 0.8732710952429638], [0.9753597799300467, 0.5232416173517218, 0.4752615530881694], [0.6846084328878341, 0.5153104316195537, 0.9749464896344152], [0.8451144444980528, 0.909263891459829, 0.6204479470003887], [0.5313374709161834, 0.7226990699855648, 0.4775723693010514], [0.972873409093784, 0.6622638817609806, 0.8691042795122493], [0.5625171814847431, 0.47935255538620697, 0.6271790515770314], [0.7858043532960126, 0.8878636299114427, 0.9744047932236877], [0.6466983554907288, 0.7626309010814633, 0.7871074124706025], [0.8248390168035733, 0.5720065915380967, 0.705505475283402], [0.49551989502876714, 0.9810449396335964, 0.5810843864840812], [0.7342665632670538, 0.9884415160398679, 0.7537256167996066], [0.9714588058413192, 0.9961917933228108, 0.898321427117263], [0.5251150242533654, 0.6192569939920523, 0.8411831962366435], [0.9832400615621162, 0.8493163963243016, 0.4825503181580519], [0.7156601203805035, 0.8318100257397961, 0.5169248128239915], [0.7345375482328237, 0.48858572363155955, 0.5232225279399015], [0.9549242813952842, 0.7975657416253976, 0.6938671130246387], [0.4756960363108354, 0.8147182468176336, 0.9749363101011252], [0.8917415743268358, 0.7024854914890245, 0.560746745612444], [0.8192092937179946, 0.7662009403145059, 0.871056609617606], [0.8969635392017402, 0.47631631168419036, 0.8567038024027693], [0.6974641443947828, 0.6845077423419783, 0.652158922932429], [0.675995577043462, 0.6380323155272186, 0.480545436664047], [0.6232635092639891, 0.9015801008589014, 0.7001771645341001], [0.48109887538864765, 0.6605638698936259, 0.6353497367943219], [0.952990688005277, 0.8052872456503749, 0.9811747428834434], [0.7972161254797435, 0.9843153404501167, 0.4895081143796349], [0.7727219439337832, 0.6032861750858022, 0.9129226359535096], [0.7108553382234941, 0.7161551705398589, 0.994609412564886], [0.959007455442155, 0.5285740632327733, 0.9946971231096571], [0.6202946640463592, 0.9516563803471412, 0.9964954040390611], [0.531935149897845, 0.7809178227113357, 0.6902547002250273], [0.636396858959869, 0.49108055227248454, 0.7807385536779871], [0.9836489366242336, 0.6282975526527078, 0.6286433689414442], [0.6156179440803733, 0.9408240713960008, 0.49739975543839265], [0.9914883081979695, 0.5245331082411065, 0.7348724377911033], [0.8913268248820863, 0.8901724748209513, 0.8414983964289146], [0.6850151689648633, 0.8320803551869954, 0.8998687708354058], [0.5089425517740489, 0.519405827434021, 0.4924492571773412], [0.9021815969599957, 0.48922851856022176, 0.6536446164545121], [0.7747541205751781, 0.8284785126242615, 0.7727594014805603], [0.9812841640043654, 0.9952974379578743, 0.61027724516405], [0.6698127470872183, 0.6455571179085392, 0.8683182104141969], [0.8712511662723041, 0.6755222408594042, 0.9912410028698698], [0.5607800078239438, 0.8165974275466991, 0.5332649880650131], [0.5883225077778045, 0.6056354314844856, 0.6987187394362125], [0.5679487813413985, 0.7130206429513328, 0.9005403381652509], [0.49020423445741806, 0.5397272200436558, 0.9461319853736321], [0.6313482348496122, 0.7162449911417434, 0.5601806828702158], [0.7809588514179031, 0.6151318511359469, 0.5590180295119396], [0.9996856496608411, 0.9325531867090914, 0.7421466273163864], [0.7725508077462199, 0.7830686422376195, 0.6186673255170727], [0.49897130613919644, 0.5553375150315537, 0.7454000381042337], [0.6546547580472301, 0.5427494339531429, 0.5884889034950951], [0.49881377820363426, 0.8520449605988519, 0.8426583444100865], [0.8699911220552913, 0.7252467482166918, 0.7607531826032222], [0.7196552084687066, 0.5347668188765208, 0.837855068795419], [0.7597647573130092, 0.6317363994283295, 0.7599283110969798], [0.5307335237176964, 0.4778175849764639, 0.8688602661042767], [0.8346185865709504, 0.9592960031468887, 0.8928285730273382], [0.7395437394572614, 0.5143288513315822, 0.6815465811756428], [0.9433911183439719, 0.8961999421531943, 0.5658964638872609], [0.64630725957238, 0.9934420309169286, 0.6183952593108979], [0.6507448549238212, 0.9517863559352646, 0.8269438411791247], [0.9931776901790373, 0.8841358181580022, 0.9358829110797428], [0.9908052224774367, 0.8401069276831682, 0.796328672188044], [0.891825380091003, 0.9922272296961444, 0.7179745701140112], [0.9982620722391827, 0.7037105599561994, 0.7774713404033612], [0.5832434517426012, 0.6386291165115299, 0.9958819709296233], [0.5176248055400995, 0.9452285269346362, 0.7462464649468993], [0.7242579410156856, 0.9846680513026361, 0.9315019287326831], [0.8673964243009206, 0.6289605633246997, 0.4766472765024395], [0.7337282634568032, 0.8907712692550959, 0.5890016206709491], [0.6159107991504761, 0.5504816281554209, 0.8811356294298461], [0.918603660829428, 0.9684693326218875, 0.9942473164048603], [0.6868743426398884, 0.8157002901400173, 0.6997733234872069], [0.8062510317145527, 0.47759051292111865, 0.9881205957148746], [0.4859664255228087, 0.982657967918683, 0.9788210765994226], [0.867695010175702, 0.8808875856195932, 0.4833786785817719], [0.8794971582898073, 0.5604928744817682, 0.9405105449048983], [0.787892654601026, 0.737791119960877, 0.4825300790793737], [0.4927464469563821, 0.8583312358821351, 0.6203232698452817], [0.8646614180745751, 0.6558362798009546, 0.6475216522606653], [0.4982763244230899, 0.721643025084021, 0.7763778057342982], [0.9086608549195447, 0.5522727172141733, 0.5598802600006847], [0.5241103022667941, 0.6394372074187317, 0.5498276854455629], [0.8029725335242174, 0.5050448681423911, 0.7596724039275449], [0.9100586139850112, 0.599866688300745, 0.7715331800967791], [0.5744791994656924, 0.8306779595623605, 0.7798651389127474], [0.9830932218928226, 0.6806754891895853, 0.4837792655411434], [0.9983283592985204, 0.7486795176837694, 0.911376317829801], [0.9644487825837097, 0.7459566475103739, 0.6127270348497704], [0.5978809532167241, 0.7991439528013013, 0.9462395183375011], [0.4823183952351735, 0.9032050267527462, 0.5152483573953034], [0.6070636101429459, 0.48269009020051123, 0.5077604278965462]]].\n"
     ]
    }
   ],
   "source": [
    "#frame. çTtamaños fijos, tupla con los posibles tamaños, selecc. aleatoria.\n",
    "\n",
    "lst_frame_sizes=[(600,600),(400,600),(600,400),(800,400),(400,800),(600,200), (200,600)]\n",
    "\n",
    "import random\n",
    "\n",
    "#______________frame selection from the list\n",
    "frame_size=random.choice(lst_frame_sizes)\n",
    "\n",
    "print(\"Randomly selected frame size:\",frame_size)\n",
    "\n",
    "\n",
    "bs_centers = randomized_grid(h=frame_size[0], w=frame_size[1],scale=50) # valorar introducir la scale en un random limitado\n",
    "plot_grid (grid=bs_centers)\n",
    "\n",
    "print('Num de brush strokes {}. Donde las coordenadas de los centroides{}:'.format(len(bs_centers),bs_centers))\n",
    "\n",
    "\n",
    "#______________elegir aleatoriamente n=len(bs_centers) centroides donde se van a situar los bs, selección de bs\n",
    "bs_select=random.sample(lst_bs, len(bs_centers))\n",
    "print(\"brush strokes seleccionados de la db de bs:\", bs_select)\n",
    "\n",
    "#______________ seleccionar un angulo para girar la figura [0,360]\n",
    "lst_degrees=[x for x in range(360)]\n",
    "degree=random.sample(lst_degrees, len(bs_centers))\n",
    "print(\"grados de giro para los bs:\", degree)\n",
    "\n",
    "#______________añadir un cambio en el tamaño del bs en base a un %. Rango elegido :de -30 a 30\n",
    "lst_pct=[(x) for x in range(100,200)]\n",
    "lst_scale_percent=random.sample(lst_pct, len(bs_centers))\n",
    "print(\"escala de tamaño a aplicar en %:\", lst_scale_percent)\n",
    "\n",
    "\n",
    "\n",
    "#______________colors\n",
    "palette = generate_palette(len(bs_centers),pastel_factor=0.9)\n",
    "palette_array = np.array(palette)[np.newaxis, :, :]\n",
    "plt.imshow(palette_array)\n",
    "plt.axis('off')\n",
    "plt.show()\n",
    "lst_colors=palette_array.tolist()\n",
    "print('Array con los rgb de la paleta seleccionada {}.'.format(lst_colors))\n",
    "\n",
    "\n",
    "\n"
   ]
  },
  {
   "cell_type": "code",
   "execution_count": 21,
   "id": "59b980ac",
   "metadata": {},
   "outputs": [],
   "source": [
    "from PIL import Image\n",
    "import random\n",
    "\n",
    "paint_path = './data/brush_strokes/02_paintings/'\n",
    "\n",
    "def paint_generator (paint_idx):   \n",
    "    \n",
    "#random parameters\n",
    "\n",
    "    lst_frame_sizes=[(600,600),(400,600),(600,400),(800,400),(400,800),(600,200), (200,600)]\n",
    "\n",
    "\n",
    "    #______________frame selection from the list\n",
    "    frame_size=random.choice(lst_frame_sizes)\n",
    "\n",
    "    print(\"Randomly selected frame size:\",frame_size)\n",
    "\n",
    "    bs_centers = randomized_grid(h=frame_size[0], w=frame_size[1],scale=100) # valorar introducir la scale en un random limitado\n",
    "    \n",
    "    plt.axis([0, frame_size[0],0, frame_size[1]])    \n",
    "    plt.gca().set_aspect('equal', adjustable='box')\n",
    "    \n",
    "    plot_grid (grid=bs_centers)\n",
    "\n",
    "    print('Num de brush strokes {}. Donde las coordenadas de los centroides{}:'.format(len(bs_centers),bs_centers))\n",
    "\n",
    "\n",
    "    #______________elegir aleatoriamente n=len(bs_centers) centroides donde se van a situar los bs, selección de bs\n",
    "    bs_select=random.sample(lst_bs, len(bs_centers))\n",
    "    print(\"brush strokes seleccionados de la db de bs:\", bs_select)\n",
    "\n",
    "    #______________ seleccionar un angulo para girar la figura [0,360]\n",
    "    lst_degrees=[x for x in range(360)]\n",
    "    degree=random.sample(lst_degrees, len(bs_centers))\n",
    "    print(\"grados de giro para los bs:\", degree)\n",
    "\n",
    "    #______________añadir un cambio en el tamaño del bs en base a un %. Rango elegido :de -30 a 30\n",
    "    lst_pct=[(x) for x in range(50,250)]\n",
    "    lst_scale_percent=random.sample(lst_pct, len(bs_centers))\n",
    "    print(\"escala de tamaño a aplicar en %:\", lst_scale_percent)\n",
    "\n",
    "    #______________colors\n",
    "    palette = generate_palette(len(bs_centers),pastel_factor=0.9)\n",
    "    palette_array = np.array(palette)[np.newaxis, :, :]\n",
    "    plt.imshow(palette_array)\n",
    "    plt.axis('off')\n",
    "    plt.show()\n",
    "    lst_colors=palette_array.tolist()\n",
    "    print('Array con los rgb de la paleta seleccionada {}.'.format(lst_colors))\n",
    "    \n",
    "    \n",
    "#painting\n",
    "\n",
    "    #generating the frame from frame_size\n",
    "    blank_image = np.zeros((frame_size[0],frame_size[1],3), np.uint8)\n",
    "    #adding bs's en bs_centers, en el color de la paleta\n",
    "    #[0]\n",
    "\n",
    "    for k in range (len(bs_centers)):\n",
    "\n",
    "        bs=bs_select[k]\n",
    "        bs_xy=bs_centers[k]\n",
    "        bs_color=lst_colors[0][k]\n",
    "        bs_scale=lst_scale_percent[k]\n",
    "        bs_angle=degree[k]\n",
    "\n",
    "        #print (\"\\n figura bs:\",bs,\"\\n coord:\",bs_xy,\"\\n color:\",bs_color,'\\n scale:',bs_scale,\"\\n angle:\",bs_angle )\n",
    "        #blank_image[bs_xy[0],bs_xy[1]]=bs_color\n",
    "\n",
    "        #rotation\n",
    "        bs_k_im=Image.open(dir_path + bs)\n",
    "        rotated=bs_k_im.rotate(bs_angle, expand=True)\n",
    "        bs_k = np.asarray(rotated)\n",
    "\n",
    "        #resize\n",
    "        width = int(bs_k.shape[1] * (1 + bs_scale / 100))\n",
    "        height = int(bs_k.shape[0] * (1 +  bs_scale / 100))\n",
    "        #print(bs_k.shape[0],bs_k.shape[1])\n",
    "        bs_k = cv2.resize(bs_k, (width, height))\n",
    "\n",
    "\n",
    "        #centramos el bs en el punto donde tenemos que colocarlo\n",
    "        bs_center=(int(bs_k.shape[0] /2) , int(bs_k.shape[1] /2))\n",
    "        adjust=(bs_xy[0]-bs_center[0],bs_xy[1]-bs_center[1])\n",
    "\n",
    "        rgb_tresh=200\n",
    "        (x,y) = np.where((bs_k[:,:, 0] > rgb_tresh) & (bs_k[ :,:, 1] > rgb_tresh) & (bs_k[:, :, 2] >  rgb_tresh))\n",
    "        (x,y) = (x + adjust[0], y + adjust[1] )\n",
    "\n",
    "\n",
    "        #implot = plt.imshow(blank_image)\n",
    "\n",
    "        #plt.axis('equal')\n",
    "        plt.xlim(0, frame_size[0]) \n",
    "        plt.ylim(0, frame_size[1])\n",
    "        plt.scatter(x,y,color=lst_colors[0][k])\n",
    "\n",
    "\n",
    "        #plt.show()\n",
    "        #bs_k_im\n",
    "    plt.savefig(paint_path + \"paint_\" + (\"0\"*4 + str(paint_idx))[-5:]  + \".png\")\n",
    "    return \n",
    "\n",
    "\n",
    "\n",
    "\n",
    "    \n",
    "    \n",
    "    "
   ]
  },
  {
   "cell_type": "code",
   "execution_count": null,
   "id": "d2401437",
   "metadata": {},
   "outputs": [
    {
     "name": "stdout",
     "output_type": "stream",
     "text": [
      "Randomly selected frame size: (400, 800)\n"
     ]
    },
    {
     "data": {
      "image/png": "[encoded data removed]",
      "text/plain": [
       "<Figure size 432x288 with 1 Axes>"
      ]
     },
     "metadata": {
      "needs_background": "light"
     },
     "output_type": "display_data"
    },
    {
     "name": "stdout",
     "output_type": "stream",
     "text": [
      "Num de brush strokes 32. Donde las coordenadas de los centroides[(152, 276), (232, 435), (364, 534), (181, 594), (376, 124), (85, 295), (144, 660), (213, 26), (64, 353), (322, 227), (192, 710), (107, 12), (119, 88), (19, 425), (85, 511), (377, 645), (8, 729), (276, 758), (291, 471), (209, 188), (220, 531), (50, 257), (265, 258), (316, 650), (271, 86), (297, 614), (378, 760), (307, 442), (389, 159), (112, 227), (56, 638), (250, 122)]:\n",
      "brush strokes seleccionados de la db de bs: ['bsu_00154.jpg', 'bsu_00030.jpg', 'bsu_00045.jpg', 'bsu_00023.jpg', 'bsu_00155.jpg', 'bsu_00031.jpg', 'bsu_00136.jpg', 'bsu_00078.jpg', 'bsu_00185.jpg', 'bsu_00107.jpg', 'bsu_00044.jpg', 'bsu_00097.jpg', 'bsu_00072.jpg', 'bsu_00025.jpg', 'bsu_00117.jpg', 'bsu_00104.jpg', 'bsu_00068.jpg', 'bsu_00042.jpg', 'bsu_00177.jpg', 'bsu_00032.jpg', 'bsu_00075.jpg', 'bsu_00098.jpg', 'bsu_00194.jpg', 'bsu_00010.jpg', 'bsu_00043.jpg', 'bsu_00047.jpg', 'bsu_00001.jpg', 'bsu_00176.jpg', 'bsu_00039.jpg', 'bsu_00033.jpg', 'bsu_00143.jpg', 'bsu_00128.jpg']\n",
      "grados de giro para los bs: [0, 339, 211, 266, 244, 170, 274, 84, 101, 196, 62, 230, 188, 176, 204, 263, 147, 250, 345, 79, 352, 237, 82, 113, 1, 201, 337, 128, 208, 124, 127, 346]\n",
      "escala de tamaño a aplicar en %: [100, 71, 154, 227, 85, 112, 94, 163, 78, 200, 124, 166, 74, 55, 145, 208, 219, 68, 185, 90, 81, 203, 242, 99, 237, 194, 204, 240, 243, 231, 171, 63]\n"
     ]
    },
    {
     "data": {
      "image/png": "[encoded data removed]",
      "text/plain": [
       "<Figure size 432x288 with 1 Axes>"
      ]
     },
     "metadata": {
      "needs_background": "light"
     },
     "output_type": "display_data"
    },
    {
     "name": "stdout",
     "output_type": "stream",
     "text": [
      "Array con los rgb de la paleta seleccionada [[[0.4864883235785065, 0.5289724137276485, 0.591217697900221], [0.9858054677818262, 0.9390418738876749, 0.9878438978092428], [0.7121760673680045, 0.9613913564418807, 0.5101944276262712], [0.7967007230319919, 0.47522923238126163, 0.9574444138840214], [0.5253423453922134, 0.8150603590743115, 0.9147612384641768], [0.9795485858772307, 0.5775008149881391, 0.5004787410640211], [0.6689975683098163, 0.6292010133014041, 0.7753749984335879], [0.8631577638929395, 0.7919505712054895, 0.6570729213285662], [0.7626972841605918, 0.9747916649573537, 0.8540617975128187], [0.4963860436931776, 0.8601435105398157, 0.562710644822735], [0.999539714593219, 0.4739812578773088, 0.7808889649044548], [0.8486413024037117, 0.7306662695893488, 0.9848200520324188], [0.6122812505419736, 0.6276418757517049, 0.4777947828423465], [0.5524957020994458, 0.5107569464894463, 0.9919766721409782], [0.5468662503189551, 0.740545826450194, 0.6974162523056403], [0.505729366105738, 0.9998919780448653, 0.8072248574127396], [0.7686846745136703, 0.5160061737874179, 0.6699860582184393], [0.8811353030134873, 0.5972088638892065, 0.8597108224861836], [0.6331139788879259, 0.9190926126356588, 0.7073977913974682], [0.9942643891746493, 0.9172182270450785, 0.4777577163808669], [0.952165783674454, 0.9361850537189245, 0.7291036698569376], [0.7445926522438718, 0.7318407104320966, 0.5389736320940722], [0.7034186837872751, 0.4823871702226754, 0.4965956833806468], [0.5174174283782836, 0.5992644501317509, 0.8481638226761612], [0.9840097029035815, 0.6807806303803674, 0.7156322199543311], [0.6587293468313663, 0.6882644080469712, 0.9525612590611511], [0.47746389562928665, 0.9586149499474947, 0.9922257336049911], [0.961209885853156, 0.7958765216689481, 0.8602211011637958], [0.9076959891330885, 0.7596702759436903, 0.49027982050382385], [0.7383587869621762, 0.8005592704490511, 0.9145107012527932], [0.5526957188303706, 0.47435179729191246, 0.7297749730554924], [0.4768719182924468, 0.7185336585199131, 0.4919692259688259]]].\n"
     ]
    }
   ],
   "source": [
    "paint_generator(1)"
   ]
  },
  {
   "cell_type": "code",
   "execution_count": 15,
   "id": "aa972085",
   "metadata": {},
   "outputs": [
    {
     "data": {
      "image/png": "[encoded data removed]",
      "text/plain": [
       "<Figure size 432x288 with 1 Axes>"
      ]
     },
     "metadata": {
      "needs_background": "light"
     },
     "output_type": "display_data"
    }
   ],
   "source": [
    "# el siguiente código hace la selección, transformaciones y pintado de un bs unitario\n",
    "# hay que terminar recogiendo la info del eje \"layer deepness\", para almacenarlo en el array de salida.\n",
    "\n",
    "\n",
    "from PIL import Image\n",
    "\n",
    "\n",
    "#generating the frame from frame_size\n",
    "blank_image = np.zeros((frame_size[0],frame_size[1],3), np.uint8)\n",
    "#adding bs's en bs_centers, en el color de la paleta\n",
    "#[0]\n",
    "\n",
    "for k in range (len(bs_centers)):\n",
    "\n",
    "    bs=bs_select[k]\n",
    "    bs_xy=bs_centers[k]\n",
    "    bs_color=lst_colors[0][k]\n",
    "    bs_scale=lst_scale_percent[k]\n",
    "    bs_angle=degree[k]\n",
    "\n",
    "    #print (\"\\n figura bs:\",bs,\"\\n coord:\",bs_xy,\"\\n color:\",bs_color,'\\n scale:',bs_scale,\"\\n angle:\",bs_angle )\n",
    "    #blank_image[bs_xy[0],bs_xy[1]]=bs_color\n",
    "\n",
    "    #rotation\n",
    "    bs_k_im=Image.open(dir_path + bs)\n",
    "    rotated=bs_k_im.rotate(bs_angle, expand=True)\n",
    "    bs_k = np.asarray(rotated)\n",
    "\n",
    "    #resize\n",
    "    width = int(bs_k.shape[1] * (1 + bs_scale / 100))\n",
    "    height = int(bs_k.shape[0] * (1 +  bs_scale / 100))\n",
    "    #print(bs_k.shape[0],bs_k.shape[1])\n",
    "    bs_k = cv2.resize(bs_k, (width, height))\n",
    "\n",
    "\n",
    "    #centramos el bs en el punto donde tenemos que colocarlo\n",
    "    bs_center=(int(bs_k.shape[0] /2) , int(bs_k.shape[1] /2))\n",
    "    adjust=(bs_xy[0]-bs_center[0],bs_xy[1]-bs_center[1])\n",
    "\n",
    "    rgb_tresh=200\n",
    "    (x,y) = np.where((bs_k[:,:, 0] > rgb_tresh) & (bs_k[ :,:, 1] > rgb_tresh) & (bs_k[:, :, 2] >  rgb_tresh))\n",
    "    (x,y) = (x + adjust[0], y + adjust[1] )\n",
    "\n",
    "\n",
    "    #implot = plt.imshow(blank_image)\n",
    "\n",
    "    #plt.axis('equal')\n",
    "    plt.xlim(0, frame_size[0]) \n",
    "    plt.ylim(0, frame_size[1])\n",
    "    plt.scatter(x,y,color=lst_colors[0][k])\n",
    "   \n",
    "    \n",
    "    #plt.show()\n",
    "    #bs_k_im\n"
   ]
  },
  {
   "cell_type": "code",
   "execution_count": 183,
   "id": "74c9f5b8",
   "metadata": {},
   "outputs": [
    {
     "data": {
      "text/plain": [
       "600"
      ]
     },
     "execution_count": 183,
     "metadata": {},
     "output_type": "execute_result"
    }
   ],
   "source": [
    "frame_size[0]\n",
    "frame_size[1]"
   ]
  },
  {
   "cell_type": "code",
   "execution_count": 133,
   "id": "58324f1f",
   "metadata": {},
   "outputs": [
    {
     "data": {
      "text/plain": [
       "array([0, 0, 0, 0, 0, 0, 0, 0, 0, 0, 0, 0, 0, 0, 0, 0, 0, 0, 0, 0, 0, 0,\n",
       "       0, 0, 0, 0, 0, 0, 0, 0, 0, 0, 0, 0, 0, 0, 0, 0, 0, 0, 0, 0, 0, 0,\n",
       "       0, 0, 0, 0, 0, 0, 0, 0, 0, 0, 0, 0, 0, 0, 0, 0, 0, 0, 0, 0, 0, 0,\n",
       "       0, 0, 0, 0, 0, 0, 0, 0, 0, 0, 0, 0, 0, 0, 0, 1, 1, 0, 1, 1, 0, 1,\n",
       "       0, 0, 0, 0, 1, 0, 2, 1, 1, 1, 0, 0, 0, 0, 1, 1, 1, 1, 0, 1, 0, 0,\n",
       "       1, 1, 0, 0, 0, 1, 0, 0, 0, 0, 1, 2, 2, 1, 0, 0, 0, 0, 0],\n",
       "      dtype=uint8)"
      ]
     },
     "execution_count": 133,
     "metadata": {},
     "output_type": "execute_result"
    }
   ],
   "source": [
    "blue[1]"
   ]
  },
  {
   "cell_type": "code",
   "execution_count": 32,
   "id": "2a060fa4",
   "metadata": {},
   "outputs": [
    {
     "name": "stdout",
     "output_type": "stream",
     "text": [
      "244 27\n",
      "blank image: (600, 400, 3) / imagen shape (135, 55, 3) / centro imagen (505, 244) / imagen scale 4 \n"
     ]
    }
   ],
   "source": [
    "print(bs_xy[1],\n",
    "bs_center[1])\n",
    "\n",
    "print('blank image: {} / imagen shape {} / centro imagen {} / imagen scale {} '.format(blank_image.shape,bs_k.shape,bs_xy,bs_scale))\n",
    "\n",
    "\n",
    "\n"
   ]
  },
  {
   "cell_type": "code",
   "execution_count": 34,
   "id": "06bca650",
   "metadata": {},
   "outputs": [],
   "source": [
    "#https://stackoverflow.com/questions/14063070/overlay-a-smaller-image-on-a-larger-image-python-opencv\n",
    "\n",
    "def overlay_image_alpha(img, img_overlay, x, y, alpha_mask=None):\n",
    "    \"\"\"Overlay `img_overlay` onto `img` at (x, y) and blend using optional `alpha_mask`.\n",
    "\n",
    "    `alpha_mask` must have same HxW as `img_overlay` and values in range [0, 1].\n",
    "    \"\"\"\n",
    "\n",
    "    if y < 0 or y + img_overlay.shape[0] > img.shape[0] or x < 0 or x + img_overlay.shape[1] > img.shape[1]:\n",
    "        y_origin = 0 if y > 0 else -y\n",
    "        y_end = img_overlay.shape[0] if y < 0 else min(img.shape[0] - y, img_overlay.shape[0])\n",
    "\n",
    "        x_origin = 0 if x > 0 else -x\n",
    "        x_end = img_overlay.shape[1] if x < 0 else min(img.shape[1] - x, img_overlay.shape[1])\n",
    "\n",
    "        img_overlay_crop = img_overlay[y_origin:y_end, x_origin:x_end]\n",
    "        alpha = alpha_mask[y_origin:y_end, x_origin:x_end] if alpha_mask is not None else None\n",
    "    else:\n",
    "        img_overlay_crop = img_overlay\n",
    "        alpha = alpha_mask\n",
    "\n",
    "    y1 = max(y, 0)\n",
    "    y2 = min(img.shape[0], y1 + img_overlay_crop.shape[0])\n",
    "\n",
    "    x1 = max(x, 0)\n",
    "    x2 = min(img.shape[1], x1 + img_overlay_crop.shape[1])\n",
    "\n",
    "    img_crop = img[y1:y2, x1:x2]\n",
    "    img_crop[:] = alpha * img_overlay_crop + (1.0 - alpha) * img_crop if alpha is not None else img_overlay_crop"
   ]
  },
  {
   "cell_type": "code",
   "execution_count": 35,
   "id": "7fbfcc79",
   "metadata": {},
   "outputs": [
    {
     "ename": "ValueError",
     "evalue": "could not broadcast input array from shape (135,17,3) into shape (135,0,3)",
     "output_type": "error",
     "traceback": [
      "\u001b[0;31m---------------------------------------------------------------------------\u001b[0m",
      "\u001b[0;31mValueError\u001b[0m                                Traceback (most recent call last)",
      "\u001b[0;32m/tmp/ipykernel_2219/1415444758.py\u001b[0m in \u001b[0;36m<module>\u001b[0;34m\u001b[0m\n\u001b[0;32m----> 1\u001b[0;31m \u001b[0moverlay_image_alpha\u001b[0m\u001b[0;34m(\u001b[0m\u001b[0mblank_image\u001b[0m\u001b[0;34m,\u001b[0m\u001b[0mbs_k\u001b[0m\u001b[0;34m,\u001b[0m\u001b[0madjust\u001b[0m\u001b[0;34m[\u001b[0m\u001b[0;36m0\u001b[0m\u001b[0;34m]\u001b[0m\u001b[0;34m,\u001b[0m\u001b[0madjust\u001b[0m\u001b[0;34m[\u001b[0m\u001b[0;36m1\u001b[0m\u001b[0;34m]\u001b[0m\u001b[0;34m,\u001b[0m\u001b[0malpha_mask\u001b[0m\u001b[0;34m=\u001b[0m\u001b[0;32mNone\u001b[0m\u001b[0;34m)\u001b[0m\u001b[0;34m\u001b[0m\u001b[0;34m\u001b[0m\u001b[0m\n\u001b[0m\u001b[1;32m      2\u001b[0m \u001b[0mImage\u001b[0m\u001b[0;34m.\u001b[0m\u001b[0mfromarray\u001b[0m\u001b[0;34m(\u001b[0m\u001b[0mblank_image\u001b[0m\u001b[0;34m)\u001b[0m\u001b[0;34m.\u001b[0m\u001b[0msave\u001b[0m\u001b[0;34m(\u001b[0m\u001b[0;34m\"img_result_borrar.jpg\"\u001b[0m\u001b[0;34m)\u001b[0m\u001b[0;34m\u001b[0m\u001b[0;34m\u001b[0m\u001b[0m\n",
      "\u001b[0;32m/tmp/ipykernel_2219/2951508600.py\u001b[0m in \u001b[0;36moverlay_image_alpha\u001b[0;34m(img, img_overlay, x, y, alpha_mask)\u001b[0m\n\u001b[1;32m     27\u001b[0m \u001b[0;34m\u001b[0m\u001b[0m\n\u001b[1;32m     28\u001b[0m     \u001b[0mimg_crop\u001b[0m \u001b[0;34m=\u001b[0m \u001b[0mimg\u001b[0m\u001b[0;34m[\u001b[0m\u001b[0my1\u001b[0m\u001b[0;34m:\u001b[0m\u001b[0my2\u001b[0m\u001b[0;34m,\u001b[0m \u001b[0mx1\u001b[0m\u001b[0;34m:\u001b[0m\u001b[0mx2\u001b[0m\u001b[0;34m]\u001b[0m\u001b[0;34m\u001b[0m\u001b[0;34m\u001b[0m\u001b[0m\n\u001b[0;32m---> 29\u001b[0;31m     \u001b[0mimg_crop\u001b[0m\u001b[0;34m[\u001b[0m\u001b[0;34m:\u001b[0m\u001b[0;34m]\u001b[0m \u001b[0;34m=\u001b[0m \u001b[0malpha\u001b[0m \u001b[0;34m*\u001b[0m \u001b[0mimg_overlay_crop\u001b[0m \u001b[0;34m+\u001b[0m \u001b[0;34m(\u001b[0m\u001b[0;36m1.0\u001b[0m \u001b[0;34m-\u001b[0m \u001b[0malpha\u001b[0m\u001b[0;34m)\u001b[0m \u001b[0;34m*\u001b[0m \u001b[0mimg_crop\u001b[0m \u001b[0;32mif\u001b[0m \u001b[0malpha\u001b[0m \u001b[0;32mis\u001b[0m \u001b[0;32mnot\u001b[0m \u001b[0;32mNone\u001b[0m \u001b[0;32melse\u001b[0m \u001b[0mimg_overlay_crop\u001b[0m\u001b[0;34m\u001b[0m\u001b[0;34m\u001b[0m\u001b[0m\n\u001b[0m",
      "\u001b[0;31mValueError\u001b[0m: could not broadcast input array from shape (135,17,3) into shape (135,0,3)"
     ]
    }
   ],
   "source": [
    "overlay_image_alpha(blank_image,bs_k,adjust[0],adjust[1],alpha_mask=None)\n",
    "Image.fromarray(blank_image).save(\"img_result_borrar.jpg\")"
   ]
  },
  {
   "cell_type": "code",
   "execution_count": 33,
   "id": "4480b17a",
   "metadata": {},
   "outputs": [
    {
     "ename": "NameError",
     "evalue": "name 'img_crop' is not defined",
     "output_type": "error",
     "traceback": [
      "\u001b[0;31m---------------------------------------------------------------------------\u001b[0m",
      "\u001b[0;31mNameError\u001b[0m                                 Traceback (most recent call last)",
      "\u001b[0;32m/tmp/ipykernel_2135/3709417187.py\u001b[0m in \u001b[0;36m<module>\u001b[0;34m\u001b[0m\n\u001b[0;32m----> 1\u001b[0;31m \u001b[0mplt\u001b[0m\u001b[0;34m.\u001b[0m\u001b[0mimshow\u001b[0m\u001b[0;34m(\u001b[0m\u001b[0mimg_crop\u001b[0m\u001b[0;34m)\u001b[0m\u001b[0;34m\u001b[0m\u001b[0;34m\u001b[0m\u001b[0m\n\u001b[0m\u001b[1;32m      2\u001b[0m \u001b[0;31m#plt.imshow(bs_k)\u001b[0m\u001b[0;34m\u001b[0m\u001b[0;34m\u001b[0m\u001b[0;34m\u001b[0m\u001b[0m\n\u001b[1;32m      3\u001b[0m \u001b[0mprint\u001b[0m \u001b[0;34m(\u001b[0m\u001b[0madjust\u001b[0m\u001b[0;34m[\u001b[0m\u001b[0;36m0\u001b[0m\u001b[0;34m]\u001b[0m\u001b[0;34m,\u001b[0m\u001b[0madjust\u001b[0m\u001b[0;34m[\u001b[0m\u001b[0;36m1\u001b[0m\u001b[0;34m]\u001b[0m\u001b[0;34m)\u001b[0m\u001b[0;34m\u001b[0m\u001b[0;34m\u001b[0m\u001b[0m\n",
      "\u001b[0;31mNameError\u001b[0m: name 'img_crop' is not defined"
     ]
    }
   ],
   "source": [
    "plt.imshow(img_crop)\n",
    "#plt.imshow(bs_k)\n",
    "print (adjust[0],adjust[1])\n"
   ]
  },
  {
   "cell_type": "code",
   "execution_count": 37,
   "id": "6261c170",
   "metadata": {},
   "outputs": [],
   "source": [
    "import cv2\n",
    "\n",
    "def merge_image(back, front, x,y):\n",
    "    # convert to rgba\n",
    "    if back.shape[2] == 3:\n",
    "        back = cv2.cvtColor(back, cv2.COLOR_BGR2BGRA)\n",
    "    if front.shape[2] == 3:\n",
    "        front = cv2.cvtColor(front, cv2.COLOR_BGR2BGRA)\n",
    "\n",
    "    # crop the overlay from both images\n",
    "    bh,bw = back.shape[:2]\n",
    "    fh,fw = front.shape[:2]\n",
    "    x1, x2 = max(x, 0), min(x+fw, bw)\n",
    "    y1, y2 = max(y, 0), min(y+fh, bh)\n",
    "    front_cropped = front[y1-y:y2-y, x1-x:x2-x]\n",
    "    back_cropped = back[y1:y2, x1:x2]\n",
    "\n",
    "    alpha_front = front_cropped[:,:,3:4] / 255\n",
    "    alpha_back = back_cropped[:,:,3:4] / 255\n",
    "    \n",
    "    # replace an area in result with overlay\n",
    "    result = back.copy()\n",
    "    print(f'af: {alpha_front.shape}\\nab: {alpha_back.shape}\\nfront_cropped: {front_cropped.shape}\\nback_cropped: {back_cropped.shape}')\n",
    "    result[y1:y2, x1:x2, :3] = alpha_front * front_cropped[:,:,:3] + (1-alpha_front) * back_cropped[:,:,:3]\n",
    "    result[y1:y2, x1:x2, 3:4] = (alpha_front + alpha_back) / (1 + alpha_front*alpha_back) * 255\n",
    "\n",
    "    return result"
   ]
  },
  {
   "cell_type": "code",
   "execution_count": 41,
   "id": "519e6a10",
   "metadata": {},
   "outputs": [
    {
     "name": "stdout",
     "output_type": "stream",
     "text": [
      "af: (0, 54, 1)\n",
      "ab: (0, 54, 1)\n",
      "front_cropped: (0, 54, 4)\n",
      "back_cropped: (0, 54, 4)\n"
     ]
    },
    {
     "data": {
      "text/plain": [
       "<matplotlib.image.AxesImage at 0x7f7eb1be74c0>"
      ]
     },
     "execution_count": 41,
     "metadata": {},
     "output_type": "execute_result"
    },
    {
     "data": {
      "image/png": "[encoded data removed]",
      "text/plain": [
       "<Figure size 432x288 with 1 Axes>"
      ]
     },
     "metadata": {
      "needs_background": "light"
     },
     "output_type": "display_data"
    }
   ],
   "source": [
    "aa=merge_image(blank_image,bs_k,adjust[0],adjust[1])\n",
    "\n",
    "plt.imshow(aa)\n"
   ]
  },
  {
   "cell_type": "code",
   "execution_count": 151,
   "id": "21a77d5b",
   "metadata": {},
   "outputs": [
    {
     "data": {
      "text/plain": [
       "matplotlib.collections.PathCollection"
      ]
     },
     "execution_count": 151,
     "metadata": {},
     "output_type": "execute_result"
    }
   ],
   "source": [
    "blank_image[1:10,1:20] +=[]"
   ]
  },
  {
   "cell_type": "code",
   "execution_count": 145,
   "id": "dc8e3521",
   "metadata": {},
   "outputs": [
    {
     "ename": "error",
     "evalue": "OpenCV(4.3.0) /io/opencv/modules/core/src/arithm.cpp:666: error: (-209:Sizes of input arguments do not match) The operation is neither 'array op array' (where arrays have the same size and the same number of channels), nor 'array op scalar', nor 'scalar op array' in function 'arithm_op'\n",
     "output_type": "error",
     "traceback": [
      "\u001b[0;31m---------------------------------------------------------------------------\u001b[0m",
      "\u001b[0;31merror\u001b[0m                                     Traceback (most recent call last)",
      "\u001b[0;32m/tmp/ipykernel_2130/3261094513.py\u001b[0m in \u001b[0;36m<module>\u001b[0;34m\u001b[0m\n\u001b[1;32m     13\u001b[0m \u001b[0;31m# OPTIONAL: make the circles transparent (larger alpha --> more transparent)\u001b[0m\u001b[0;34m\u001b[0m\u001b[0;34m\u001b[0m\u001b[0;34m\u001b[0m\u001b[0m\n\u001b[1;32m     14\u001b[0m \u001b[0malpha\u001b[0m \u001b[0;34m=\u001b[0m \u001b[0;36m0\u001b[0m\u001b[0;34m\u001b[0m\u001b[0;34m\u001b[0m\u001b[0m\n\u001b[0;32m---> 15\u001b[0;31m \u001b[0mproj_image\u001b[0m \u001b[0;34m=\u001b[0m \u001b[0mcv2\u001b[0m\u001b[0;34m.\u001b[0m\u001b[0maddWeighted\u001b[0m\u001b[0;34m(\u001b[0m\u001b[0mproj_image\u001b[0m\u001b[0;34m,\u001b[0m \u001b[0;36m1\u001b[0m \u001b[0;34m-\u001b[0m \u001b[0malpha\u001b[0m\u001b[0;34m,\u001b[0m\u001b[0mbs_k\u001b[0m \u001b[0;34m,\u001b[0m \u001b[0malpha\u001b[0m\u001b[0;34m,\u001b[0m \u001b[0;36m0\u001b[0m\u001b[0;34m)\u001b[0m\u001b[0;34m\u001b[0m\u001b[0;34m\u001b[0m\u001b[0m\n\u001b[0m",
      "\u001b[0;31merror\u001b[0m: OpenCV(4.3.0) /io/opencv/modules/core/src/arithm.cpp:666: error: (-209:Sizes of input arguments do not match) The operation is neither 'array op array' (where arrays have the same size and the same number of channels), nor 'array op scalar', nor 'scalar op array' in function 'arithm_op'\n"
     ]
    }
   ],
   "source": [
    "import numpy as np\n",
    "import matplotlib.pyplot as plt\n",
    "import imageio\n",
    "from contextlib import contextmanager\n",
    "\n",
    "@contextmanager\n",
    "def plot_over(img, extent=None, origin=\"upper\", dpi=100):\n",
    "    h, w, d = img.shape\n",
    "    assert d == 3\n",
    "    if extent is None:\n",
    "        xmin, xmax, ymin, ymax = -0.5, w + 0.5, -0.5, h + 0.5\n",
    "    else:\n",
    "        xmin, xmax, ymin, ymax = extent\n",
    "    if origin == \"upper\":\n",
    "        ymin, ymax = ymax, ymin\n",
    "    elif origin != \"lower\":\n",
    "        raise ValueError(\"origin must be 'upper' or 'lower'\")\n",
    "    fig = plt.figure(figsize=(w / dpi, h / dpi), dpi=dpi)\n",
    "    ax = plt.Axes(fig, (0, 0, 1, 1))\n",
    "    ax.set_axis_off()\n",
    "    ax.set_xlim(xmin, xmax)\n",
    "    ax.set_ylim(ymin, ymax)\n",
    "    fig.add_axes(ax)\n",
    "    fig.set_facecolor((0, 0, 0, 0))\n",
    "    yield ax\n",
    "    fig.canvas.draw()\n",
    "    plot = np.frombuffer(fig.canvas.buffer_rgba(), dtype=np.uint8).reshape(h, w, 4)\n",
    "    plt.close(fig)\n",
    "    rgb = plot[..., :3]\n",
    "    alpha = plot[..., 3, None]\n",
    "    img[...] = ((255 - alpha) * img.astype(np.uint16) + alpha * rgb.astype(np.uint16)) // 255\n",
    "\n",
    "img = imageio.imread(\"image.jpg\")\n",
    "img_with_plot = img.copy()\n",
    "with plot_over(img_with_plot) as ax:\n",
    "    ax.scatter(...)\n",
    "    # etc\n",
    "imageio.imwrite(\"result.png\", img_with_plot)"
   ]
  },
  {
   "cell_type": "code",
   "execution_count": 9,
   "id": "b5d70504",
   "metadata": {},
   "outputs": [
    {
     "ename": "NameError",
     "evalue": "name 'k' is not defined",
     "output_type": "error",
     "traceback": [
      "\u001b[0;31m---------------------------------------------------------------------------\u001b[0m",
      "\u001b[0;31mNameError\u001b[0m                                 Traceback (most recent call last)",
      "\u001b[0;32m/tmp/ipykernel_2166/2826760311.py\u001b[0m in \u001b[0;36m<module>\u001b[0;34m\u001b[0m\n\u001b[1;32m      1\u001b[0m \u001b[0;32mimport\u001b[0m \u001b[0mmatplotlib\u001b[0m\u001b[0;34m.\u001b[0m\u001b[0mpyplot\u001b[0m \u001b[0;32mas\u001b[0m \u001b[0mplt\u001b[0m\u001b[0;34m\u001b[0m\u001b[0;34m\u001b[0m\u001b[0m\n\u001b[0;32m----> 2\u001b[0;31m \u001b[0mim\u001b[0m \u001b[0;34m=\u001b[0m \u001b[0mplt\u001b[0m\u001b[0;34m.\u001b[0m\u001b[0mimread\u001b[0m\u001b[0;34m(\u001b[0m\u001b[0mdir_path\u001b[0m \u001b[0;34m+\u001b[0m \u001b[0mbs_select\u001b[0m\u001b[0;34m[\u001b[0m\u001b[0mk\u001b[0m\u001b[0;34m]\u001b[0m\u001b[0;34m)\u001b[0m\u001b[0;34m\u001b[0m\u001b[0;34m\u001b[0m\u001b[0m\n\u001b[0m\u001b[1;32m      3\u001b[0m \u001b[0mimplot\u001b[0m \u001b[0;34m=\u001b[0m \u001b[0mplt\u001b[0m\u001b[0;34m.\u001b[0m\u001b[0mimshow\u001b[0m\u001b[0;34m(\u001b[0m\u001b[0mim\u001b[0m\u001b[0;34m)\u001b[0m\u001b[0;34m\u001b[0m\u001b[0;34m\u001b[0m\u001b[0m\n\u001b[1;32m      4\u001b[0m \u001b[0;34m\u001b[0m\u001b[0m\n\u001b[1;32m      5\u001b[0m \u001b[0;31m# put a blue dot at (10, 20)\u001b[0m\u001b[0;34m\u001b[0m\u001b[0;34m\u001b[0m\u001b[0;34m\u001b[0m\u001b[0m\n",
      "\u001b[0;31mNameError\u001b[0m: name 'k' is not defined"
     ]
    }
   ],
   "source": [
    "import matplotlib.pyplot as plt\n",
    "im = plt.imread(dir_path + bs_select[k])\n",
    "implot = plt.imshow(im)\n",
    "\n",
    "# put a blue dot at (10, 20)\n",
    "plt.scatter([10], [20])\n",
    "\n",
    "# put a red dot, size 40, at 2 locations:\n",
    "plt.scatter(x=[30, 40], y=[50, 60], c='r', s=40)\n",
    "\n",
    "plt.show()"
   ]
  },
  {
   "cell_type": "code",
   "execution_count": 143,
   "id": "42dcdec9",
   "metadata": {},
   "outputs": [
    {
     "data": {
      "text/plain": [
       "PIL.JpegImagePlugin.JpegImageFile"
      ]
     },
     "execution_count": 143,
     "metadata": {},
     "output_type": "execute_result"
    }
   ],
   "source": [
    "#lst_f= [x,y for x,y in (x,y)  if x>0 ]\n",
    "frame_size\n",
    "type(x)\n",
    "frame_size\n",
    "adjust[1]\n",
    "type(bs_k_im)"
   ]
  },
  {
   "cell_type": "code",
   "execution_count": 55,
   "id": "7813a813",
   "metadata": {},
   "outputs": [
    {
     "name": "stdout",
     "output_type": "stream",
     "text": [
      "(95, 90)\n"
     ]
    },
    {
     "data": {
      "text/plain": [
       "(51, -5)"
      ]
     },
     "execution_count": 55,
     "metadata": {},
     "output_type": "execute_result"
    }
   ],
   "source": [
    "\n",
    "\n",
    "\n",
    "\n",
    "print(bs_center)\n",
    "adjust=(bs_xy[0]-bs_center[0],bs_xy[1]-bs_center[1])\n",
    "adjust\n"
   ]
  },
  {
   "cell_type": "code",
   "execution_count": 57,
   "id": "c39ca0a6",
   "metadata": {},
   "outputs": [
    {
     "name": "stdout",
     "output_type": "stream",
     "text": [
      "191 181\n"
     ]
    },
    {
     "data": {
      "text/plain": [
       "(array([ 58,  60,  61, ..., 226, 226, 227]),\n",
       " array([94, 94, 94, ..., 81, 82, 79]))"
      ]
     },
     "execution_count": 57,
     "metadata": {},
     "output_type": "execute_result"
    },
    {
     "data": {
      "image/png": "[encoded data removed]",
      "text/plain": [
       "<Figure size 432x288 with 1 Axes>"
      ]
     },
     "metadata": {
      "needs_background": "light"
     },
     "output_type": "display_data"
    }
   ],
   "source": [
    "1 +  bs_scale / 100\n",
    "print(bs_k.shape[0],bs_k.shape[1])\n",
    "plt.imshow(bs_k_im)\n",
    "(x,y)"
   ]
  },
  {
   "cell_type": "code",
   "execution_count": 81,
   "id": "d0730369",
   "metadata": {},
   "outputs": [
    {
     "name": "stdout",
     "output_type": "stream",
     "text": [
      "[94 94 94 ... 81 82 79]\n"
     ]
    }
   ],
   "source": []
  },
  {
   "cell_type": "code",
   "execution_count": 39,
   "id": "1a1bdaa6",
   "metadata": {},
   "outputs": [
    {
     "data": {
      "text/plain": [
       "'bsu_00018.jpg'"
      ]
     },
     "execution_count": 39,
     "metadata": {},
     "output_type": "execute_result"
    },
    {
     "data": {
      "image/png": "[encoded data removed]",
      "text/plain": [
       "<Figure size 432x288 with 1 Axes>"
      ]
     },
     "metadata": {
      "needs_background": "light"
     },
     "output_type": "display_data"
    }
   ],
   "source": [
    "\n",
    "plt.imshow(bs_k)\n",
    "bs"
   ]
  },
  {
   "cell_type": "code",
   "execution_count": 45,
   "id": "d0a2ac5c",
   "metadata": {},
   "outputs": [
    {
     "data": {
      "text/plain": [
       "(146, 85)"
      ]
     },
     "execution_count": 45,
     "metadata": {},
     "output_type": "execute_result"
    }
   ],
   "source": [
    "bs_color\n",
    "bs_xy\n",
    "bs\n",
    "bs_scale\n",
    "bs_angle\n",
    "\n",
    "bs_k\n",
    "bs_scale\n",
    "bs_angle\n",
    "bs_xy"
   ]
  },
  {
   "cell_type": "code",
   "execution_count": 10,
   "id": "5b8ebe35",
   "metadata": {},
   "outputs": [
    {
     "data": {
      "text/plain": [
       "[-0.05, -0.04, -0.03, -0.02, -0.01, 0.0, 0.01, 0.02, 0.03, 0.04, 0.05]"
      ]
     },
     "execution_count": 10,
     "metadata": {},
     "output_type": "execute_result"
    }
   ],
   "source": [
    "lst_size_pct=[(x-5)/100 for x in range(11)]\n",
    "lst_size_pct"
   ]
  },
  {
   "cell_type": "code",
   "execution_count": 108,
   "id": "51d2fdab",
   "metadata": {},
   "outputs": [
    {
     "data": {
      "image/png": "[encoded data removed]",
      "text/plain": [
       "<Figure size 432x288 with 1 Axes>"
      ]
     },
     "metadata": {
      "needs_background": "light"
     },
     "output_type": "display_data"
    },
    {
     "data": {
      "image/png": "[encoded data removed]",
      "text/plain": [
       "<Figure size 432x288 with 1 Axes>"
      ]
     },
     "metadata": {
      "needs_background": "light"
     },
     "output_type": "display_data"
    },
    {
     "data": {
      "image/png": "[encoded data removed]",
      "text/plain": [
       "<Figure size 432x288 with 1 Axes>"
      ]
     },
     "metadata": {
      "needs_background": "light"
     },
     "output_type": "display_data"
    }
   ],
   "source": [
    "#vamos añadiendo los bs, localizando los puntos de las mask en el frame y añadiendo colores.....\n",
    "#el primero\n",
    "#tener  en cuenta el tamaño de los bs, aunque luego se manipula, todos tienen que tener un tamaño limitado en la base\n",
    "#https://stackoverflow.com/questions/33287156/specify-color-of-each-point-in-scatter-plot-matplotlib\n",
    "\n",
    "plot_grid (grid=bs_centers)\n",
    "\n",
    "#plt.scatter (bs_centers[0][0],bs_centers[0][1])\n",
    "#plt.scatter (list(zip(*bs_centers))[0],list(zip(*bs_centers))[1])\n",
    "plt.imshow(palette_array)\n",
    "plt.axis('off')\n",
    "plt.show()\n",
    "\n",
    "for k in range(len(bs_centers)):\n",
    "    plt.scatter (list(zip(*bs_centers))[0][k],list(zip(*bs_centers))[1][k],color=lst_colors[0][k])\n",
    "\n",
    "for k in range(len(bs_centers)):\n",
    "    plt.scatter (list(zip(*bs_centers))[0][k],list(zip(*bs_centers))[1][k],color=lst_colors[0][k])\n"
   ]
  },
  {
   "cell_type": "code",
   "execution_count": 163,
   "id": "ffcb822c",
   "metadata": {},
   "outputs": [
    {
     "data": {
      "text/plain": [
       "<matplotlib.collections.PathCollection at 0x7f92d1da0d00>"
      ]
     },
     "execution_count": 163,
     "metadata": {},
     "output_type": "execute_result"
    },
    {
     "data": {
      "image/png": "[encoded data removed]",
      "text/plain": [
       "<Figure size 432x288 with 1 Axes>"
      ]
     },
     "metadata": {
      "needs_background": "light"
     },
     "output_type": "display_data"
    }
   ],
   "source": [
    "# nota_1  https://levelup.gitconnected.com/how-to-approach-image-overlay-problems-ad2d4a8e22bc\n",
    "k=10\n",
    "\n",
    "image_1 = cv2.imread(dir_path + bs_select[k])\n",
    "image_1 = (255-image_1)\n",
    "gray = cv2.cvtColor(image_1, cv2.COLOR_BGR2GRAY) #to gray scale\n",
    "blur = cv2.GaussianBlur(gray, (3,3), 0)\n",
    "thresh  = cv2.threshold(blur, 225, 255, cv2.THRESH_BINARY + cv2.THRESH_OTSU)[1]\n",
    "#print(image_1)\n",
    "\n",
    "#convertir de vuelta el thresh a rgb\n",
    "backtorgb = cv2.cvtColor(thresh,cv2.COLOR_GRAY2RGB)\n",
    "cv2.imwrite(\"test_borrar.jpg\", backtorgb)\n",
    "\n",
    "\n",
    "#(x, y) = np.where((backtorgb[:,:, 0] ==0) & (backtorgb[ :,:, 1]==0) & (backtorgb[:, :, 2]==0))\n",
    "#plt.scatter(x, y,color=lst_colors[0][k])\n",
    "\n",
    "(x,y) = np.where((image_1[:,:, 0] <230) & (image_1[ :,:, 1] <230) & (image_1[:, :, 2] <230))\n",
    "plt.axis('equal')\n",
    "plt.scatter(y,x,color=lst_colors[0][k])\n"
   ]
  },
  {
   "cell_type": "code",
   "execution_count": null,
   "id": "0dc99ff9",
   "metadata": {},
   "outputs": [],
   "source": []
  },
  {
   "cell_type": "code",
   "execution_count": 164,
   "id": "6824168b",
   "metadata": {},
   "outputs": [
    {
     "data": {
      "image/png": "[encoded data removed]",
      "text/plain": [
       "<Figure size 432x288 with 1 Axes>"
      ]
     },
     "metadata": {
      "needs_background": "light"
     },
     "output_type": "display_data"
    },
    {
     "data": {
      "image/png": "[encoded data removed]",
      "text/plain": [
       "<Figure size 432x288 with 1 Axes>"
      ]
     },
     "metadata": {
      "needs_background": "light"
     },
     "output_type": "display_data"
    }
   ],
   "source": [
    "plt.subplot(1,1,1),plt.imshow(backtorgb,'gray',vmin=0,vmax=255)\n",
    "plt.show()\n",
    "#plt.title('test')\n",
    "#plt.xticks([]),plt.yticks([])\n",
    "plt.subplot(1,1,1),plt.imshow(image_1,'gray',vmin=0,vmax=255)\n",
    "plt.show()"
   ]
  },
  {
   "cell_type": "code",
   "execution_count": 86,
   "id": "68385e66",
   "metadata": {},
   "outputs": [
    {
     "data": {
      "text/plain": [
       "<matplotlib.image.AxesImage at 0x7f92d2d451c0>"
      ]
     },
     "execution_count": 86,
     "metadata": {},
     "output_type": "execute_result"
    },
    {
     "data": {
      "image/png": "[encoded data removed]",
      "text/plain": [
       "<Figure size 432x288 with 1 Axes>"
      ]
     },
     "metadata": {
      "needs_background": "light"
     },
     "output_type": "display_data"
    }
   ],
   "source": [
    "plt.imshow(thresh,'gray',vmin=0,vmax=255)"
   ]
  },
  {
   "cell_type": "code",
   "execution_count": null,
   "id": "fd4ab226",
   "metadata": {},
   "outputs": [],
   "source": []
  },
  {
   "cell_type": "code",
   "execution_count": null,
   "id": "d828a6e9",
   "metadata": {},
   "outputs": [],
   "source": []
  },
  {
   "cell_type": "code",
   "execution_count": null,
   "id": "ccb41923",
   "metadata": {},
   "outputs": [],
   "source": []
  },
  {
   "cell_type": "code",
   "execution_count": 77,
   "id": "65d2ac8f",
   "metadata": {},
   "outputs": [
    {
     "ename": "AttributeError",
     "evalue": "module 'matplotlib.colors' has no attribute 'normalize'",
     "output_type": "error",
     "traceback": [
      "\u001b[0;31m---------------------------------------------------------------------------\u001b[0m",
      "\u001b[0;31mAttributeError\u001b[0m                            Traceback (most recent call last)",
      "\u001b[0;32m/tmp/ipykernel_2176/3160509241.py\u001b[0m in \u001b[0;36m<module>\u001b[0;34m\u001b[0m\n\u001b[1;32m      5\u001b[0m \u001b[0ma\u001b[0m \u001b[0;34m=\u001b[0m \u001b[0mnp\u001b[0m\u001b[0;34m.\u001b[0m\u001b[0mrandom\u001b[0m\u001b[0;34m.\u001b[0m\u001b[0mrandn\u001b[0m\u001b[0;34m(\u001b[0m\u001b[0;36m10\u001b[0m\u001b[0;34m,\u001b[0m\u001b[0;36m10\u001b[0m\u001b[0;34m)\u001b[0m\u001b[0;34m\u001b[0m\u001b[0;34m\u001b[0m\u001b[0m\n\u001b[1;32m      6\u001b[0m \u001b[0;34m\u001b[0m\u001b[0m\n\u001b[0;32m----> 7\u001b[0;31m \u001b[0mnorm\u001b[0m \u001b[0;34m=\u001b[0m \u001b[0mcolors\u001b[0m\u001b[0;34m.\u001b[0m\u001b[0mnormalize\u001b[0m\u001b[0;34m(\u001b[0m\u001b[0;34m)\u001b[0m\u001b[0;34m\u001b[0m\u001b[0;34m\u001b[0m\u001b[0m\n\u001b[0m\u001b[1;32m      8\u001b[0m \u001b[0mcmap\u001b[0m \u001b[0;34m=\u001b[0m \u001b[0mcm\u001b[0m\u001b[0;34m.\u001b[0m\u001b[0mhsv\u001b[0m\u001b[0;34m\u001b[0m\u001b[0;34m\u001b[0m\u001b[0m\n\u001b[1;32m      9\u001b[0m \u001b[0ma_colors\u001b[0m \u001b[0;34m=\u001b[0m \u001b[0mcmap\u001b[0m\u001b[0;34m(\u001b[0m\u001b[0mnorm\u001b[0m\u001b[0;34m(\u001b[0m\u001b[0ma\u001b[0m\u001b[0;34m)\u001b[0m\u001b[0;34m)\u001b[0m\u001b[0;34m\u001b[0m\u001b[0;34m\u001b[0m\u001b[0m\n",
      "\u001b[0;31mAttributeError\u001b[0m: module 'matplotlib.colors' has no attribute 'normalize'"
     ]
    }
   ],
   "source": [
    "import matplotlib.pyplot as plt\n",
    "from matplotlib import colors, cm\n",
    "import numpy as np\n",
    "\n",
    "a = np.random.randn(10,10)\n",
    "\n",
    "norm = colors.normalize()\n",
    "cmap = cm.hsv\n",
    "a_colors = cmap(norm(a))\n",
    "\n",
    "col1 = colors.colorConverter.to_rgba('w')\n",
    "col2 = colors.colorConverter.to_rgba('k')\n",
    "\n",
    "a_colors[a<-0.1,:] = col1\n",
    "a_colors[a>0.1,:] = col2\n",
    "plt.imshow(a_colors, interpolation='nearest')\n",
    "plt.show()"
   ]
  },
  {
   "cell_type": "code",
   "execution_count": null,
   "id": "32622336",
   "metadata": {},
   "outputs": [],
   "source": [
    "\n"
   ]
  },
  {
   "cell_type": "code",
   "execution_count": null,
   "id": "a671c71e",
   "metadata": {},
   "outputs": [],
   "source": []
  },
  {
   "cell_type": "code",
   "execution_count": null,
   "id": "96b2ebea",
   "metadata": {},
   "outputs": [],
   "source": []
  },
  {
   "cell_type": "code",
   "execution_count": null,
   "id": "5285d78f",
   "metadata": {},
   "outputs": [],
   "source": []
  },
  {
   "cell_type": "code",
   "execution_count": null,
   "id": "4db91f78",
   "metadata": {},
   "outputs": [],
   "source": []
  },
  {
   "cell_type": "code",
   "execution_count": null,
   "id": "6a6cd3c4",
   "metadata": {},
   "outputs": [],
   "source": []
  },
  {
   "cell_type": "code",
   "execution_count": null,
   "id": "9ae5f059",
   "metadata": {},
   "outputs": [],
   "source": []
  },
  {
   "cell_type": "code",
   "execution_count": null,
   "id": "71698a1c",
   "metadata": {},
   "outputs": [],
   "source": []
  },
  {
   "cell_type": "code",
   "execution_count": null,
   "id": "bddf1417",
   "metadata": {},
   "outputs": [],
   "source": [
    "# Aplicar un ratio de tamaño a los bs - percent by which the image is resized\n",
    "scale_percent = lst_scale_percent(0)\n",
    "\n",
    "#calculate the 50 percent of original dimensions\n",
    "width = int(src.shape[1] * scale_percent / 100)\n",
    "height = int(src.shape[0] * scale_percent / 100)\n",
    "\n",
    "# dsize\n",
    "dsize = (width, height)\n",
    "\n",
    "# resize image\n",
    "output = cv2.resize(src, dsize)\n"
   ]
  },
  {
   "cell_type": "code",
   "execution_count": null,
   "id": "6206e05e",
   "metadata": {},
   "outputs": [],
   "source": [
    "\n"
   ]
  },
  {
   "cell_type": "code",
   "execution_count": null,
   "id": "1bdea5db",
   "metadata": {},
   "outputs": [],
   "source": []
  },
  {
   "cell_type": "code",
   "execution_count": 199,
   "id": "b917f654",
   "metadata": {},
   "outputs": [
    {
     "data": {
      "text/plain": [
       "list"
      ]
     },
     "execution_count": 199,
     "metadata": {},
     "output_type": "execute_result"
    }
   ],
   "source": [
    "type(bs_centers) #coordenadas\n",
    "type(bs_select) #figuras\n",
    "type(degree) # degrees to apply to figures\n",
    "\n",
    "type(lst_colors) # colors\n"
   ]
  },
  {
   "cell_type": "code",
   "execution_count": 115,
   "id": "5ca6a9cd",
   "metadata": {},
   "outputs": [
    {
     "ename": "AttributeError",
     "evalue": "'numpy.ndarray' object has no attribute 'paste'",
     "output_type": "error",
     "traceback": [
      "\u001b[0;31m---------------------------------------------------------------------------\u001b[0m",
      "\u001b[0;31mAttributeError\u001b[0m                            Traceback (most recent call last)",
      "\u001b[0;32m/tmp/ipykernel_2130/708025686.py\u001b[0m in \u001b[0;36m<module>\u001b[0;34m\u001b[0m\n\u001b[1;32m      9\u001b[0m \u001b[0mmask\u001b[0m \u001b[0;34m=\u001b[0m \u001b[0mImage\u001b[0m\u001b[0;34m.\u001b[0m\u001b[0mopen\u001b[0m\u001b[0;34m(\u001b[0m\u001b[0mdir_path\u001b[0m \u001b[0;34m+\u001b[0m \u001b[0mbs_file\u001b[0m\u001b[0;34m)\u001b[0m\u001b[0;34m.\u001b[0m\u001b[0mconvert\u001b[0m\u001b[0;34m(\u001b[0m\u001b[0;34m'L'\u001b[0m\u001b[0;34m)\u001b[0m\u001b[0;34m.\u001b[0m\u001b[0mresize\u001b[0m\u001b[0;34m(\u001b[0m\u001b[0mim1\u001b[0m\u001b[0;34m.\u001b[0m\u001b[0msize\u001b[0m\u001b[0;34m)\u001b[0m\u001b[0;34m\u001b[0m\u001b[0;34m\u001b[0m\u001b[0m\n\u001b[1;32m     10\u001b[0m \u001b[0;34m\u001b[0m\u001b[0m\n\u001b[0;32m---> 11\u001b[0;31m \u001b[0mim_blend\u001b[0m \u001b[0;34m=\u001b[0m \u001b[0mImage\u001b[0m\u001b[0;34m.\u001b[0m\u001b[0mcomposite\u001b[0m\u001b[0;34m(\u001b[0m\u001b[0mim1\u001b[0m\u001b[0;34m,\u001b[0m \u001b[0mim2\u001b[0m\u001b[0;34m,\u001b[0m\u001b[0mmask\u001b[0m\u001b[0;34m)\u001b[0m\u001b[0;34m\u001b[0m\u001b[0;34m\u001b[0m\u001b[0m\n\u001b[0m\u001b[1;32m     12\u001b[0m \u001b[0mim_blend\u001b[0m\u001b[0;34m\u001b[0m\u001b[0;34m\u001b[0m\u001b[0m\n\u001b[1;32m     13\u001b[0m \u001b[0mmask\u001b[0m\u001b[0;34m\u001b[0m\u001b[0;34m\u001b[0m\u001b[0m\n",
      "\u001b[0;32m~/anaconda3/lib/python3.8/site-packages/PIL/Image.py\u001b[0m in \u001b[0;36mcomposite\u001b[0;34m(image1, image2, mask)\u001b[0m\n\u001b[1;32m   3205\u001b[0m \u001b[0;34m\u001b[0m\u001b[0m\n\u001b[1;32m   3206\u001b[0m     \u001b[0mimage\u001b[0m \u001b[0;34m=\u001b[0m \u001b[0mimage2\u001b[0m\u001b[0;34m.\u001b[0m\u001b[0mcopy\u001b[0m\u001b[0;34m(\u001b[0m\u001b[0;34m)\u001b[0m\u001b[0;34m\u001b[0m\u001b[0;34m\u001b[0m\u001b[0m\n\u001b[0;32m-> 3207\u001b[0;31m     \u001b[0mimage\u001b[0m\u001b[0;34m.\u001b[0m\u001b[0mpaste\u001b[0m\u001b[0;34m(\u001b[0m\u001b[0mimage1\u001b[0m\u001b[0;34m,\u001b[0m \u001b[0;32mNone\u001b[0m\u001b[0;34m,\u001b[0m \u001b[0mmask\u001b[0m\u001b[0;34m)\u001b[0m\u001b[0;34m\u001b[0m\u001b[0;34m\u001b[0m\u001b[0m\n\u001b[0m\u001b[1;32m   3208\u001b[0m     \u001b[0;32mreturn\u001b[0m \u001b[0mimage\u001b[0m\u001b[0;34m\u001b[0m\u001b[0;34m\u001b[0m\u001b[0m\n\u001b[1;32m   3209\u001b[0m \u001b[0;34m\u001b[0m\u001b[0m\n",
      "\u001b[0;31mAttributeError\u001b[0m: 'numpy.ndarray' object has no attribute 'paste'"
     ]
    }
   ],
   "source": [
    "from PIL import Image, ImageDraw, ImageFilter\n",
    "\n",
    "#frame_size=random.choice(lst_frame_sizes)\n",
    "im1 = Image.open('./data/nat_geo.jpg')\n",
    "bs_file='bsu_00010.jpg'\n",
    "im2=np.zeros_like(im1) \n",
    "\n",
    "im3=Image.open(dir_path + bs_file)\n",
    "mask = Image.open(dir_path + bs_file).convert('L').resize(im1.size)\n",
    "\n",
    "im_blend = Image.composite(im1, im2,mask)\n",
    "im_blend\n",
    "mask\n",
    "im3"
   ]
  },
  {
   "cell_type": "code",
   "execution_count": null,
   "id": "fb9842cb",
   "metadata": {},
   "outputs": [],
   "source": [
    "\n",
    "\n",
    "mask = Image.open('data/src/horse.png').convert('L').resize(im1.size)\n",
    "\n",
    "\n",
    "im = Image.composite(im1, im2, mask)"
   ]
  },
  {
   "cell_type": "code",
   "execution_count": null,
   "id": "a38f3335",
   "metadata": {},
   "outputs": [],
   "source": []
  },
  {
   "cell_type": "code",
   "execution_count": null,
   "id": "01f2bba3",
   "metadata": {},
   "outputs": [],
   "source": []
  },
  {
   "cell_type": "code",
   "execution_count": null,
   "id": "e7dd7260",
   "metadata": {},
   "outputs": [],
   "source": []
  },
  {
   "cell_type": "code",
   "execution_count": 287,
   "id": "a4353dcf",
   "metadata": {},
   "outputs": [
    {
     "data": {
      "image/png": "[encoded data removed]",
      "text/plain": [
       "<Figure size 720x720 with 2 Axes>"
      ]
     },
     "metadata": {
      "needs_background": "light"
     },
     "output_type": "display_data"
    }
   ],
   "source": [
    "\n",
    "#rotation sample\n",
    "\n",
    "from PIL import Image\n",
    "from numpy import asarray\n",
    "# open image\n",
    "bs_file='bsu_00023.jpg'\n",
    "image=Image.open(dir_path + bs_file)\n",
    "image_cv= cv2.imread(dir_path + bs_file)\n",
    "# rotate image\n",
    "rotated=image.rotate(-30, expand=True)\n",
    "numpydata = asarray(rotated)\n",
    "\n",
    "\n",
    "plt.figure(figsize=(10,10))\n",
    "titles = ['Original',\"Rotate x degree counter clock wise\"]\n",
    "images = [image_cv,numpydata]\n",
    "\n",
    "for i in range(2):\n",
    "    plt.subplot(2,2,i+1)\n",
    "    plt.imshow(cv2.cvtColor(images[i], cv2.COLOR_BGR2RGB))\n",
    "    plt.title(titles[i])\n",
    "plt.tight_layout()\n",
    "plt.show()\n"
   ]
  },
  {
   "cell_type": "code",
   "execution_count": 161,
   "id": "f3ff81c2",
   "metadata": {},
   "outputs": [],
   "source": []
  },
  {
   "cell_type": "code",
   "execution_count": 162,
   "id": "39e9784f",
   "metadata": {},
   "outputs": [],
   "source": []
  },
  {
   "cell_type": "code",
   "execution_count": 163,
   "id": "503110e5",
   "metadata": {},
   "outputs": [
    {
     "data": {
      "text/plain": [
       "[251, 120, 223, 352, 9, 253, 211, 17, 37, 338, 128, 323]"
      ]
     },
     "execution_count": 163,
     "metadata": {},
     "output_type": "execute_result"
    }
   ],
   "source": [
    "degree"
   ]
  },
  {
   "cell_type": "code",
   "execution_count": null,
   "id": "6b8fe076",
   "metadata": {},
   "outputs": [],
   "source": []
  }
 ],
 "metadata": {
  "kernelspec": {
   "display_name": "Python 3 (ipykernel)",
   "language": "python",
   "name": "python3"
  },
  "language_info": {
   "codemirror_mode": {
    "name": "ipython",
    "version": 3
   },
   "file_extension": ".py",
   "mimetype": "text/x-python",
   "name": "python",
   "nbconvert_exporter": "python",
   "pygments_lexer": "ipython3",
   "version": "3.8.11"
  }
 },
 "nbformat": 4,
 "nbformat_minor": 5
}
