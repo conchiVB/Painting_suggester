{
 "cells": [
  {
   "cell_type": "markdown",
   "id": "fe6b7b2e",
   "metadata": {},
   "source": [
    "### GENERATING THE DATA TO TRAIN DE MODEL\n",
    "\n",
    "Randomly produce \"brush strokes\" matrices with 3 + 1 dimensions:\n",
    "\n",
    "* D1 Height\n",
    "* D2 Width\n",
    "* D3 RGB color codification \n",
    "* D4 Depth : which will codify the layer in the picture, from 0 to N_layers\n",
    "\n",
    "Notes: H & W could be fixed to certain values although higher enough to be able to capture enough information later (check this out) \n",
    " \n",
    "Layers: When assigning layers, there is no need to increase the number of the layer if there is not overlap on a previous layer. The number of layer should be the max(previous layers overlaped by the actual \"brush stroke\") + 1.\n",
    "\n",
    "\n",
    "\n",
    "(note: the input data could be also a section of any of the original items produced)\n"
   ]
  },
  {
   "cell_type": "code",
   "execution_count": 1,
   "id": "f71d46e2",
   "metadata": {},
   "outputs": [
    {
     "data": {
      "image/png": "[encoded data removed]",
      "text/plain": [
       "<PIL.Image.Image image mode=RGB size=500x700 at 0x7FCB1045E190>"
      ]
     },
     "metadata": {},
     "output_type": "display_data"
    }
   ],
   "source": [
    "#basic sample\n",
    "\n",
    "from PIL import Image\n",
    "import numpy as np\n",
    "\n",
    "w, h = 500, 700\n",
    "data = np.zeros((h, w, 3), dtype=np.uint8)\n",
    "data[0:256, 0:256] = [255, 0, 0] # red patch in upper left\n",
    "data[0:257,257:w] = [0, 0, 255] # \n",
    "data[257:h,257:w] = [0, 255, 0] # \n",
    "img = Image.fromarray(data, 'RGB')\n",
    "#img.save('my.png')\n",
    "img.show()"
   ]
  },
  {
   "cell_type": "markdown",
   "id": "d724da1a",
   "metadata": {},
   "source": [
    "### Tips\n",
    "\n",
    "A data base of \"brush strokes\" shapes could be produced from: \n",
    "*  random linear regresions, curves,...\n",
    "*  obtain shapes of strokes from a data base and increse them by applying any transformation: changing size, rotation, etc.."
   ]
  },
  {
   "cell_type": "code",
   "execution_count": null,
   "id": "73363b58",
   "metadata": {},
   "outputs": [],
   "source": []
  }
 ],
 "metadata": {
  "kernelspec": {
   "display_name": "Python 3 (ipykernel)",
   "language": "python",
   "name": "python3"
  },
  "language_info": {
   "codemirror_mode": {
    "name": "ipython",
    "version": 3
   },
   "file_extension": ".py",
   "mimetype": "text/x-python",
   "name": "python",
   "nbconvert_exporter": "python",
   "pygments_lexer": "ipython3",
   "version": "3.8.11"
  }
 },
 "nbformat": 4,
 "nbformat_minor": 5
}
