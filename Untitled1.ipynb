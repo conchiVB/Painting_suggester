{
 "cells": [
  {
   "cell_type": "code",
   "execution_count": null,
   "id": "f26b004f",
   "metadata": {},
   "outputs": [],
   "source": [
    "#!pip install streamlit\\n#!pip3 install --upgrade tensorflow\\n#!pip3 install --upgrade keras\\n\\n\\n# In[3]:\\n\\n\\nimport streamlit as st\\nimport os\\nimport asyncio\\nfrom PIL import Image\\n\\n\\ndef get_or_create_eventloop():\\n    try:\\n        return asyncio.get_event_loop()\\n    except RuntimeError as ex:\\n        if \\\"There is no current event loop in thread\\\" in str(ex):\\n            loop = asyncio.new_event_loop()\\n            asyncio.set_event_loop(loop)\\n            return asyncio.get_event_loop()\\n        \\n        \\ndef save_uploadedfile(uploadedfile):\\n    filename=uploadedfile.name\\\\n    with open(os.path.join(\\\"./data/tmp/\\\",filename_new),\\\"wb\\\") as f:\\n        f.write(uploadedfile.getbuffer())\\n    #st.success(\\\"Saved File:{} to ./data/tmp/\\\".format(uploadedfile.name))    \\n    return filename_new\\n\\n\\ndef load_image():\\n    uploaded_file = st.file_uploader(label='Pick a painting to test')\\n    if uploaded_file is not None:\\n        image_data = uploaded_file.getvalue()\\n        st.image(image_data)\\n        name_file = uploaded_file.name  \\n        \\n        filename_new=save_uploadedfile(uploaded_file)        \\n        import Paleta_picture\\n        df_colours=Paleta_picture.exact_color(\\\"./data/tmp/\\\",filename_new, 900, 10, 2.5,500)\\n        df_colours.to_csv('./data/tmp/tmp_df_colours.csv',index=False)\\n        image_colors= Image.open('./data/tmp/tmp_colors.png')\\n        st.image(image_colors, caption='Palette of colours')           \\n        \\n\\ndef main():\\n    \\n    #get_or_create_eventloop()\\n    \\n    st.title('Painting suggester')\\n    load_image()\\n\\n\\nif __name__ == '__main__':\\n    main()\\n\\n\\n\n"
   ]
  }
 ],
 "metadata": {
  "kernelspec": {
   "display_name": "Python 3 (ipykernel)",
   "language": "python",
   "name": "python3"
  },
  "language_info": {
   "codemirror_mode": {
    "name": "ipython",
    "version": 3
   },
   "file_extension": ".py",
   "mimetype": "text/x-python",
   "name": "python",
   "nbconvert_exporter": "python",
   "pygments_lexer": "ipython3",
   "version": "3.8.11"
  }
 },
 "nbformat": 4,
 "nbformat_minor": 5
}
