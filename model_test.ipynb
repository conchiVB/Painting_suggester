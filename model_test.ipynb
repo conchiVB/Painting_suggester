{
 "cells": [
  {
   "cell_type": "code",
   "execution_count": 27,
   "id": "74b92946",
   "metadata": {},
   "outputs": [],
   "source": [
    "import cv2\n",
    "import numpy as np\n",
    "import matplotlib.pyplot as plt\n",
    "import pandas as pd\n"
   ]
  },
  {
   "cell_type": "code",
   "execution_count": 28,
   "id": "97eb30ca",
   "metadata": {},
   "outputs": [],
   "source": [
    "#!pip install tensorflow\n"
   ]
  },
  {
   "cell_type": "code",
   "execution_count": 29,
   "id": "cbac53a3",
   "metadata": {},
   "outputs": [],
   "source": [
    "# Import necessary libraries\n",
    "from tensorflow import keras\n",
    "from keras.models import Sequential\n",
    "from keras.layers import Conv2D, MaxPooling2D, UpSampling2D, Input\n",
    "from keras.layers import Reshape, concatenate"
   ]
  },
  {
   "cell_type": "code",
   "execution_count": 43,
   "id": "d643bec0",
   "metadata": {},
   "outputs": [
    {
     "name": "stdout",
     "output_type": "stream",
     "text": [
      "(288, 432, 3)\n",
      "(238, 382, 3)\n"
     ]
    },
    {
     "data": {
      "image/png": "[encoded data removed]",
      "text/plain": [
       "<Figure size 432x288 with 1 Axes>"
      ]
     },
     "metadata": {
      "needs_background": "light"
     },
     "output_type": "display_data"
    }
   ],
   "source": [
    "path=\"./data/brush_strokes/02_paintings/\"\n",
    "nameInFile=\"paint_00001.png\"\n",
    "\n",
    "image = cv2.imread(path + nameInFile)\n",
    "image = cv2.cvtColor(image, cv2.COLOR_BGR2RGB)\n",
    "print(image.shape)\n",
    "\n",
    "\n",
    "height, width = image.shape[:2]\n",
    "\n",
    "# Define the border size (in pixels) to be removed\n",
    "border_size = 25\n",
    "\n",
    "# Crop the image using indexing\n",
    "image = image[border_size:height-border_size, border_size:width-border_size]\n",
    "print(image.shape)\n",
    "#width = int(image.shape[1] * (1 + bs_scale / 100))\n",
    "#height = int(bs_k.shape[0] * (1 +  bs_scale / 100))\n",
    "#print(bs_k.shape[0],bs_k.shape[1])\n",
    "#bs_k = cv2.resize(bs_k, (width, height))\n",
    "\n",
    "#plt.axis([0, image.shape[0],0, image.shape[1]])\n",
    "#plt.gca().set_aspect('equal', adjustable='box')\n",
    "\n",
    "\n",
    "\n",
    "\n",
    "plt.gca().get_yaxis().set_visible(False)\n",
    "plt.gca().get_xaxis().set_visible(False)\n",
    "\n",
    "plt.imshow(image)\n",
    "plt.title(\"image_orig_rgb\")\n",
    "plt.show()"
   ]
  },
  {
   "cell_type": "code",
   "execution_count": 6,
   "id": "bacce4b0",
   "metadata": {},
   "outputs": [
    {
     "data": {
      "text/plain": [
       "numpy.ndarray"
      ]
     },
     "execution_count": 6,
     "metadata": {},
     "output_type": "execute_result"
    }
   ],
   "source": [
    "type(image)"
   ]
  },
  {
   "cell_type": "code",
   "execution_count": 7,
   "id": "a25b8256",
   "metadata": {},
   "outputs": [
    {
     "data": {
      "text/plain": [
       "(500, 739, 3)"
      ]
     },
     "execution_count": 7,
     "metadata": {},
     "output_type": "execute_result"
    }
   ],
   "source": [
    "image.shape"
   ]
  },
  {
   "cell_type": "code",
   "execution_count": null,
   "id": "338de95d",
   "metadata": {},
   "outputs": [],
   "source": []
  },
  {
   "cell_type": "code",
   "execution_count": null,
   "id": "f28ee226",
   "metadata": {},
   "outputs": [],
   "source": [
    "# Import necessary libraries for colour RGB input\n",
    "\n",
    "from keras.models import Sequential\n",
    "from keras.layers import Conv2D, MaxPooling2D, UpSampling2D, Input\n",
    "\n",
    "# Define the architecture of the model\n",
    "input_shape = (256, 256, 3) # assuming the images are 256x256 RGB images\n",
    "model = Sequential()\n",
    "model.add(Conv2D(64, (3,3), activation='relu', padding='same', input_shape=input_shape))\n",
    "model.add(MaxPooling2D((2,2)))\n",
    "model.add(Conv2D(128, (3,3), activation='relu', padding='same'))\n",
    "model.add(MaxPooling2D((2,2)))\n",
    "model.add(Conv2D(256, (3,3), activation='relu', padding='same'))\n",
    "model.add(MaxPooling2D((2,2)))\n",
    "\n",
    "model.add(UpSampling2D((2,2)))\n",
    "model.add(Conv2D(128, (3,3), activation='relu', padding='same'))\n",
    "model.add(UpSampling2D((2,2)))\n",
    "model.add(Conv2D(64, (3,3), activation='relu', padding='same'))\n",
    "model.add(UpSampling2D((2,2)))\n",
    "model.add(Conv2D(1, (3,3), activation='linear', padding='same'))\n",
    "\n",
    "# Compile the model\n",
    "model.compile(optimizer='adam', loss='mean_squared_error')\n",
    "\n",
    "# Train the model on your dataset\n",
    "model.fit(X_train, y_train, validation_data=(X_val, y_val), batch_size=32, epochs=50)\n",
    "\n",
    "# Use the trained model to make predictions on new images\n",
    "predicted_depths = model.predict(X_test)\n"
   ]
  },
  {
   "cell_type": "code",
   "execution_count": null,
   "id": "9fc4db67",
   "metadata": {},
   "outputs": [],
   "source": []
  },
  {
   "cell_type": "code",
   "execution_count": null,
   "id": "225cbf86",
   "metadata": {},
   "outputs": [],
   "source": []
  },
  {
   "cell_type": "code",
   "execution_count": null,
   "id": "b281a440",
   "metadata": {},
   "outputs": [],
   "source": []
  },
  {
   "cell_type": "code",
   "execution_count": null,
   "id": "b2cb86a0",
   "metadata": {},
   "outputs": [],
   "source": []
  },
  {
   "cell_type": "code",
   "execution_count": null,
   "id": "126ed63a",
   "metadata": {},
   "outputs": [],
   "source": []
  },
  {
   "cell_type": "code",
   "execution_count": null,
   "id": "409e8543",
   "metadata": {},
   "outputs": [],
   "source": [
    "# Define the architecture of the model for grey input\n",
    "\n",
    "\n",
    "input_shape = (256, 256, 1) # assuming the images are 256x256 grayscale images\n",
    "model = Sequential()\n",
    "model.add(Input(shape=input_shape))\n",
    "model.add(Conv2D(32, (3,3), activation='relu', padding='same'))\n",
    "model.add(MaxPooling2D((2,2)))\n",
    "model.add(Conv2D(64, (3,3), activation='relu', padding='same'))\n",
    "model.add(MaxPooling2D((2,2)))\n",
    "model.add(Conv2D(128, (3,3), activation='relu', padding='same'))\n",
    "model.add(MaxPooling2D((2,2)))\n",
    "model.add(Conv2D(256, (3,3), activation='relu', padding='same'))\n",
    "model.add(MaxPooling2D((2,2)))\n",
    "\n",
    "# Encoder-Decoder structure\n",
    "model.add(UpSampling2D((2,2)))\n",
    "model.add(Conv2D(128, (3,3), activation='relu', padding='same'))\n",
    "model.add(UpSampling2D((2,2)))\n",
    "model.add(Conv2D(64, (3,3), activation='relu', padding='same'))\n",
    "model.add(UpSampling2D((2,2)))\n",
    "model.add(Conv2D(32, (3,3), activation='relu', padding='same'))\n",
    "model.add(UpSampling2D((2,2)))\n",
    "model.add(Conv2D(1, (3,3), activation='linear', padding='same'))\n",
    "\n",
    "# Compile the model\n",
    "model.compile(optimizer='adam', loss='mean_squared_error')\n",
    "\n",
    "# Train the model on your dataset\n",
    "model.fit(X_train, y_train, validation_data=(X_val, y_val), batch_size=32, epochs=50)\n",
    "\n",
    "# Use the trained model to make predictions on new images\n",
    "predicted_depths = model.predict(X_test)\n"
   ]
  },
  {
   "cell_type": "code",
   "execution_count": null,
   "id": "50713fd6",
   "metadata": {},
   "outputs": [],
   "source": []
  },
  {
   "cell_type": "markdown",
   "id": "bef2279a",
   "metadata": {},
   "source": [
    "https://stackoverflow.com/questions/59930637/how-can-i-train-a-model-with-different-image-shapes-in-a-batch\n",
    "import cv2\n",
    "import glob\n",
    "import os\n",
    "import numpy as np\n",
    "\n",
    "\n",
    "paint_path = './data/brush_strokes/02_paintings/' \n",
    "\n",
    "try:                                        # making the destination folder\n",
    "    if not os.path.exists(paint_path):\n",
    "        os.makedirs(paint_path)\n",
    "except OSError:\n",
    "    print ('Error while creating directory')\n",
    "\n",
    "\n",
    "resolution = (256, 256) # use your desired resolution\n",
    "\n",
    "for img_path in glob.glob(paint_path + '*.jpng'): \n",
    "\n",
    "    img = cv2.imread(img_path)\n",
    "\n",
    "    if img is None:  # checking if the read image is not a NoneType\n",
    "        continue\n",
    "\n",
    "    img = cv2.resize(img, resolution) # the image will be zoomed in or out depending on the resolution\n",
    "\n",
    "    cv2.imwrite(destination + 'resize_' +  + '.png', img)\n",
    "\n",
    "    image_no = image_no + 1"
   ]
  },
  {
   "cell_type": "code",
   "execution_count": null,
   "id": "95cfcbea",
   "metadata": {},
   "outputs": [],
   "source": []
  }
 ],
 "metadata": {
  "kernelspec": {
   "display_name": "Python 3 (ipykernel)",
   "language": "python",
   "name": "python3"
  },
  "language_info": {
   "codemirror_mode": {
    "name": "ipython",
    "version": 3
   },
   "file_extension": ".py",
   "mimetype": "text/x-python",
   "name": "python",
   "nbconvert_exporter": "python",
   "pygments_lexer": "ipython3",
   "version": "3.8.11"
  }
 },
 "nbformat": 4,
 "nbformat_minor": 5
}
