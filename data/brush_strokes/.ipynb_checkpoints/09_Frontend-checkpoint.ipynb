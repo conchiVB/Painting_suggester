{
 "cells": [
  {
   "cell_type": "markdown",
   "id": "37442b4f",
   "metadata": {},
   "source": [
    "### FRONTEND\n",
    "\n",
    "Crear el entorno de presentación del TFM\n",
    "\n",
    "* Input: picture of painting\n",
    "* Output: several pictures in a specific order given by the brush stroke deepness in the paint (layers)\n",
    "\n",
    "https://streamlit.io/\n",
    "\n",
    "https://blog.jcharistech.com/2019/12/25/building-a-drag-drop-machine-learning-app-with-streamlit/\n",
    "\n"
   ]
  },
  {
   "cell_type": "code",
   "execution_count": 13,
   "id": "642865b4",
   "metadata": {},
   "outputs": [
    {
     "name": "stdout",
     "output_type": "stream",
     "text": [
      "Requirement already satisfied: scikit-learn in /home/dsc/anaconda3/lib/python3.8/site-packages (0.24.2)\r\n",
      "Requirement already satisfied: threadpoolctl>=2.0.0 in /home/dsc/anaconda3/lib/python3.8/site-packages (from scikit-learn) (2.2.0)\r\n",
      "Requirement already satisfied: joblib>=0.11 in /home/dsc/anaconda3/lib/python3.8/site-packages (from scikit-learn) (1.0.1)\r\n",
      "Requirement already satisfied: scipy>=0.19.1 in /home/dsc/anaconda3/lib/python3.8/site-packages (from scikit-learn) (1.4.1)\r\n",
      "Requirement already satisfied: numpy>=1.13.3 in /home/dsc/anaconda3/lib/python3.8/site-packages (from scikit-learn) (1.23.4)\r\n"
     ]
    }
   ],
   "source": [
    "#!pip install streamlit\n",
    "#!pip3 install --upgrade tensorflow\n",
    "#!pip3 install --upgrade keras\n",
    "#!pip install scikit-learn"
   ]
  },
  {
   "cell_type": "code",
   "execution_count": 16,
   "id": "a405faab",
   "metadata": {},
   "outputs": [],
   "source": [
    "import pandas as pd\n",
    "import numpy as np\n",
    "#import Scikit-learn\n",
    "import streamlit as st\n",
    "import matplotlib.pyplot as plt\n",
    "#import seaborn\n",
    "#joblib\n"
   ]
  },
  {
   "cell_type": "code",
   "execution_count": 17,
   "id": "3363ee3c",
   "metadata": {},
   "outputs": [
    {
     "name": "stderr",
     "output_type": "stream",
     "text": [
      "2022-11-16 21:22:02.503 \n",
      "  \u001b[33m\u001b[1mWarning:\u001b[0m to view this Streamlit app on a browser, run it with the following\n",
      "  command:\n",
      "\n",
      "    streamlit run /home/dsc/anaconda3/lib/python3.8/site-packages/ipykernel_launcher.py [ARGUMENTS]\n"
     ]
    }
   ],
   "source": [
    "data = st.file_uploader(\"Upload a Dataset\", type=[\"jpg\", \"png\"])"
   ]
  },
  {
   "cell_type": "code",
   "execution_count": null,
   "id": "1206808d",
   "metadata": {},
   "outputs": [],
   "source": []
  },
  {
   "cell_type": "code",
   "execution_count": null,
   "id": "c2990cce",
   "metadata": {},
   "outputs": [],
   "source": []
  },
  {
   "cell_type": "code",
   "execution_count": null,
   "id": "ac5ccb8d",
   "metadata": {},
   "outputs": [],
   "source": []
  },
  {
   "cell_type": "code",
   "execution_count": null,
   "id": "5dc098a2",
   "metadata": {},
   "outputs": [],
   "source": []
  },
  {
   "cell_type": "code",
   "execution_count": null,
   "id": "c8622076",
   "metadata": {},
   "outputs": [],
   "source": []
  },
  {
   "cell_type": "code",
   "execution_count": null,
   "id": "bed28249",
   "metadata": {},
   "outputs": [],
   "source": []
  },
  {
   "cell_type": "code",
   "execution_count": null,
   "id": "4a740fc7",
   "metadata": {},
   "outputs": [],
   "source": []
  }
 ],
 "metadata": {
  "kernelspec": {
   "display_name": "Python 3 (ipykernel)",
   "language": "python",
   "name": "python3"
  },
  "language_info": {
   "codemirror_mode": {
    "name": "ipython",
    "version": 3
   },
   "file_extension": ".py",
   "mimetype": "text/x-python",
   "name": "python",
   "nbconvert_exporter": "python",
   "pygments_lexer": "ipython3",
   "version": "3.8.11"
  }
 },
 "nbformat": 4,
 "nbformat_minor": 5
}
