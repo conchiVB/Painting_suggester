{
 "cells": [
  {
   "cell_type": "code",
   "execution_count": null,
   "id": "5f16b59a",
   "metadata": {},
   "outputs": [],
   "source": [
    "import pandas as pd\n",
    "import numpy as np\n",
    "#import Scikit-learn\n",
    "import streamlit as st\n",
    "import matplotlib.pyplot as plt\n",
    "#import seaborn\n",
    "#joblib\n",
    "\n",
    "\n",
    "import asyncio\n",
    "def get_or_create_eventloop():\n",
    "    try:\n",
    "        return asyncio.get_event_loop()\n",
    "    except RuntimeError as ex:\n",
    "        if \"There is no current event loop in thread\" in str(ex):\n",
    "            loop = asyncio.new_event_loop()\n",
    "            asyncio.set_event_loop(loop)\n",
    "            return asyncio.get_event_loop()\n",
    "        \n",
    "def main():\n",
    "    data = st.file_uploader(\"Upload a Dataset\", type=[\"jpg\", \"png\"])\n",
    "    \n",
    "if __name__ == '__main__':\n",
    "\tmain()"
   ]
  }
 ],
 "metadata": {
  "kernelspec": {
   "display_name": "Python 3 (ipykernel)",
   "language": "python",
   "name": "python3"
  },
  "language_info": {
   "codemirror_mode": {
    "name": "ipython",
    "version": 3
   },
   "file_extension": ".py",
   "mimetype": "text/x-python",
   "name": "python",
   "nbconvert_exporter": "python",
   "pygments_lexer": "ipython3",
   "version": "3.8.11"
  }
 },
 "nbformat": 4,
 "nbformat_minor": 5
}
