{
 "cells": [
  {
   "cell_type": "code",
   "execution_count": null,
   "id": "6a5d0d11",
   "metadata": {},
   "outputs": [],
   "source": [
    "#!pip install streamlit\n",
    "#!pip3 install --upgrade tensorflow\n",
    "#!pip3 install --upgrade keras"
   ]
  },
  {
   "cell_type": "code",
   "execution_count": 1,
   "id": "5f16b59a",
   "metadata": {},
   "outputs": [
    {
     "name": "stderr",
     "output_type": "stream",
     "text": [
      "2022-12-29 19:04:35.254 \n",
      "  \u001b[33m\u001b[1mWarning:\u001b[0m to view this Streamlit app on a browser, run it with the following\n",
      "  command:\n",
      "\n",
      "    streamlit run /home/dsc/anaconda3/lib/python3.8/site-packages/ipykernel_launcher.py [ARGUMENTS]\n"
     ]
    }
   ],
   "source": [
    "import streamlit as st\n",
    "\n",
    "import asyncio\n",
    "\n",
    "def get_or_create_eventloop():\n",
    "    try:\n",
    "        return asyncio.get_event_loop()\n",
    "    except RuntimeError as ex:\n",
    "        if \"There is no current event loop in thread\" in str(ex):\n",
    "            loop = asyncio.new_event_loop()\n",
    "            asyncio.set_event_loop(loop)\n",
    "            return asyncio.get_event_loop()\n",
    "\n",
    "def load_image():\n",
    "    uploaded_file = st.file_uploader(label='Pick a painting to test')\n",
    "    if uploaded_file is not None:\n",
    "        image_data = uploaded_file.getvalue()\n",
    "        st.image(image_data)\n",
    "\n",
    "\n",
    "def main():\n",
    "    \n",
    "    #get_or_create_eventloop()\n",
    "    \n",
    "    st.title('Painting suggester')\n",
    "    load_image()\n",
    "\n",
    "\n",
    "if __name__ == '__main__':\n",
    "    main()"
   ]
  },
  {
   "cell_type": "code",
   "execution_count": null,
   "id": "ef93d0ba",
   "metadata": {},
   "outputs": [],
   "source": []
  },
  {
   "cell_type": "code",
   "execution_count": null,
   "id": "4d619208",
   "metadata": {},
   "outputs": [],
   "source": []
  }
 ],
 "metadata": {
  "kernelspec": {
   "display_name": "Python 3 (ipykernel)",
   "language": "python",
   "name": "python3"
  },
  "language_info": {
   "codemirror_mode": {
    "name": "ipython",
    "version": 3
   },
   "file_extension": ".py",
   "mimetype": "text/x-python",
   "name": "python",
   "nbconvert_exporter": "python",
   "pygments_lexer": "ipython3",
   "version": "3.8.11"
  }
 },
 "nbformat": 4,
 "nbformat_minor": 5
}
