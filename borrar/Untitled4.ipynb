{
 "cells": [
  {
   "cell_type": "code",
   "execution_count": 20,
   "id": "04e22184",
   "metadata": {},
   "outputs": [
    {
     "data": {
      "text/plain": [
       "Text(0.5, 1.0, 'Reversed Inferno Palette 10 Colors')"
      ]
     },
     "execution_count": 20,
     "metadata": {},
     "output_type": "execute_result"
    },
    {
     "data": {
      "image/png": "[encoded data removed]",
      "text/plain": [
       "<Figure size 504x360 with 1 Axes>"
      ]
     },
     "metadata": {},
     "output_type": "display_data"
    }
   ],
   "source": [
    "import matplotlib.pyplot as plt\n",
    "import seaborn as sns\n",
    "\n",
    "fig = plt.figure(figsize=(7,5))\n",
    "axes = fig.add_subplot(1,1,1)\n",
    "axes.set_ylim(0, 900)\n",
    "plt.style.use(\"seaborn\")\n",
    "\n",
    "lst = [50,100,200,300,400,500,600,700,800,900]\n",
    "palette = sns.color_palette(, 10)\n",
    "\n",
    "\n",
    "\n",
    "#palette = sns.color_palette(\"inferno_r\", 7)\n",
    "\n",
    "plt.bar(range(10), sorted(lst), color=palette)\n",
    "tick_lst=[\"one\", \"two\", \"three\", \"four\", \"five\", \"six\", \"seven\",\"eight\",\"nine\",\"ten\"]\n",
    "plt.xticks(np.arange(10), tick_lst)\n",
    "plt.title(\"Reversed Inferno Palette 10 Colors\", color=\"darkblue\")"
   ]
  },
  {
   "cell_type": "code",
   "execution_count": 18,
   "id": "f573a6bd",
   "metadata": {},
   "outputs": [
    {
     "data": {
      "text/plain": [
       "function"
      ]
     },
     "execution_count": 18,
     "metadata": {},
     "output_type": "execute_result"
    }
   ],
   "source": [
    "type(sns.color_palette)"
   ]
  },
  {
   "cell_type": "code",
   "execution_count": 19,
   "id": "d806d7e3",
   "metadata": {},
   "outputs": [],
   "source": [
    "sns.color_palette?\n"
   ]
  },
  {
   "cell_type": "code",
   "execution_count": 21,
   "id": "1a4421f3",
   "metadata": {},
   "outputs": [],
   "source": [
    "palette = sns.color_palette(\"viridis\", 10)\n",
    "\n"
   ]
  },
  {
   "cell_type": "code",
   "execution_count": 22,
   "id": "745371ef",
   "metadata": {},
   "outputs": [
    {
     "data": {
      "text/plain": [
       "seaborn.palettes._ColorPalette"
      ]
     },
     "execution_count": 22,
     "metadata": {},
     "output_type": "execute_result"
    }
   ],
   "source": [
    "type(palette)"
   ]
  },
  {
   "cell_type": "code",
   "execution_count": 23,
   "id": "39d2d393",
   "metadata": {},
   "outputs": [
    {
     "data": {
      "text/plain": [
       "10"
      ]
     },
     "execution_count": 23,
     "metadata": {},
     "output_type": "execute_result"
    }
   ],
   "source": [
    "len(palette)"
   ]
  },
  {
   "cell_type": "code",
   "execution_count": 26,
   "id": "d77af33b",
   "metadata": {},
   "outputs": [
    {
     "data": {
      "text/html": [
       "<svg  width=\"550\" height=\"55\"><rect x=\"0\" y=\"0\" width=\"55\" height=\"55\" style=\"fill:#482173;stroke-width:2;stroke:rgb(255,255,255)\"/><rect x=\"55\" y=\"0\" width=\"55\" height=\"55\" style=\"fill:#433e85;stroke-width:2;stroke:rgb(255,255,255)\"/><rect x=\"110\" y=\"0\" width=\"55\" height=\"55\" style=\"fill:#38588c;stroke-width:2;stroke:rgb(255,255,255)\"/><rect x=\"165\" y=\"0\" width=\"55\" height=\"55\" style=\"fill:#2d708e;stroke-width:2;stroke:rgb(255,255,255)\"/><rect x=\"220\" y=\"0\" width=\"55\" height=\"55\" style=\"fill:#25858e;stroke-width:2;stroke:rgb(255,255,255)\"/><rect x=\"275\" y=\"0\" width=\"55\" height=\"55\" style=\"fill:#1e9b8a;stroke-width:2;stroke:rgb(255,255,255)\"/><rect x=\"330\" y=\"0\" width=\"55\" height=\"55\" style=\"fill:#2ab07f;stroke-width:2;stroke:rgb(255,255,255)\"/><rect x=\"385\" y=\"0\" width=\"55\" height=\"55\" style=\"fill:#52c569;stroke-width:2;stroke:rgb(255,255,255)\"/><rect x=\"440\" y=\"0\" width=\"55\" height=\"55\" style=\"fill:#86d549;stroke-width:2;stroke:rgb(255,255,255)\"/><rect x=\"495\" y=\"0\" width=\"55\" height=\"55\" style=\"fill:#c2df23;stroke-width:2;stroke:rgb(255,255,255)\"/></svg>"
      ],
      "text/plain": [
       "[(0.283072, 0.130895, 0.449241),\n",
       " (0.262138, 0.242286, 0.520837),\n",
       " (0.220057, 0.343307, 0.549413),\n",
       " (0.177423, 0.437527, 0.557565),\n",
       " (0.143343, 0.522773, 0.556295),\n",
       " (0.119512, 0.607464, 0.540218),\n",
       " (0.166383, 0.690856, 0.496502),\n",
       " (0.319809, 0.770914, 0.411152),\n",
       " (0.525776, 0.833491, 0.288127),\n",
       " (0.762373, 0.876424, 0.137064)]"
      ]
     },
     "execution_count": 26,
     "metadata": {},
     "output_type": "execute_result"
    }
   ],
   "source": [
    "palette"
   ]
  },
  {
   "cell_type": "code",
   "execution_count": 28,
   "id": "4e14f27f",
   "metadata": {},
   "outputs": [
    {
     "ename": "SyntaxError",
     "evalue": "invalid syntax (3759012700.py, line 1)",
     "output_type": "error",
     "traceback": [
      "\u001b[0;36m  File \u001b[0;32m\"/tmp/ipykernel_3646/3759012700.py\"\u001b[0;36m, line \u001b[0;32m1\u001b[0m\n\u001b[0;31m    palette = sns.color_palette(, 10)\u001b[0m\n\u001b[0m                                ^\u001b[0m\n\u001b[0;31mSyntaxError\u001b[0m\u001b[0;31m:\u001b[0m invalid syntax\n"
     ]
    }
   ],
   "source": [
    "palette = sns.color_palette(, 10)"
   ]
  },
  {
   "cell_type": "code",
   "execution_count": 29,
   "id": "ddcc9bfe",
   "metadata": {},
   "outputs": [],
   "source": [
    "sns.color_palette?"
   ]
  },
  {
   "cell_type": "code",
   "execution_count": 39,
   "id": "fdd43585",
   "metadata": {},
   "outputs": [
    {
     "ename": "NameError",
     "evalue": "name 'random' is not defined",
     "output_type": "error",
     "traceback": [
      "\u001b[0;31m---------------------------------------------------------------------------\u001b[0m",
      "\u001b[0;31mNameError\u001b[0m                                 Traceback (most recent call last)",
      "\u001b[0;32m/tmp/ipykernel_3646/4069983893.py\u001b[0m in \u001b[0;36m<module>\u001b[0;34m\u001b[0m\n\u001b[0;32m----> 1\u001b[0;31m \u001b[0msns\u001b[0m\u001b[0;34m.\u001b[0m\u001b[0mcolor_palette\u001b[0m\u001b[0;34m(\u001b[0m\u001b[0mpalette\u001b[0m\u001b[0;34m=\u001b[0m\u001b[0mrandom\u001b[0m\u001b[0;34m,\u001b[0m \u001b[0mn_colors\u001b[0m\u001b[0;34m=\u001b[0m\u001b[0;36m18\u001b[0m\u001b[0;34m)\u001b[0m\u001b[0;34m\u001b[0m\u001b[0;34m\u001b[0m\u001b[0m\n\u001b[0m",
      "\u001b[0;31mNameError\u001b[0m: name 'random' is not defined"
     ]
    }
   ],
   "source": [
    "sns.color_palette(palette=, n_colors=18)"
   ]
  },
  {
   "cell_type": "code",
   "execution_count": 60,
   "id": "9efe9745",
   "metadata": {},
   "outputs": [],
   "source": [
    "import cv2\n",
    "palette = np.arange(0, 255, dtype=np.uint8).reshape(1, 255, 1)\n",
    "palette = cv2.applyColorMap(palette, 0).squeeze(0)\n",
    "#np.random.shuffle(palette)\n",
    "palette=palette/255"
   ]
  },
  {
   "cell_type": "code",
   "execution_count": 61,
   "id": "ffb65020",
   "metadata": {},
   "outputs": [
    {
     "data": {
      "text/html": [
       "<svg  width=\"990\" height=\"55\"><rect x=\"0\" y=\"0\" width=\"55\" height=\"55\" style=\"fill:#0000ff;stroke-width:2;stroke:rgb(255,255,255)\"/><rect x=\"55\" y=\"0\" width=\"55\" height=\"55\" style=\"fill:#0001ff;stroke-width:2;stroke:rgb(255,255,255)\"/><rect x=\"110\" y=\"0\" width=\"55\" height=\"55\" style=\"fill:#0002ff;stroke-width:2;stroke:rgb(255,255,255)\"/><rect x=\"165\" y=\"0\" width=\"55\" height=\"55\" style=\"fill:#0003ff;stroke-width:2;stroke:rgb(255,255,255)\"/><rect x=\"220\" y=\"0\" width=\"55\" height=\"55\" style=\"fill:#0004ff;stroke-width:2;stroke:rgb(255,255,255)\"/><rect x=\"275\" y=\"0\" width=\"55\" height=\"55\" style=\"fill:#0005ff;stroke-width:2;stroke:rgb(255,255,255)\"/><rect x=\"330\" y=\"0\" width=\"55\" height=\"55\" style=\"fill:#0006ff;stroke-width:2;stroke:rgb(255,255,255)\"/><rect x=\"385\" y=\"0\" width=\"55\" height=\"55\" style=\"fill:#0007ff;stroke-width:2;stroke:rgb(255,255,255)\"/><rect x=\"440\" y=\"0\" width=\"55\" height=\"55\" style=\"fill:#0008ff;stroke-width:2;stroke:rgb(255,255,255)\"/><rect x=\"495\" y=\"0\" width=\"55\" height=\"55\" style=\"fill:#0009ff;stroke-width:2;stroke:rgb(255,255,255)\"/><rect x=\"550\" y=\"0\" width=\"55\" height=\"55\" style=\"fill:#000aff;stroke-width:2;stroke:rgb(255,255,255)\"/><rect x=\"605\" y=\"0\" width=\"55\" height=\"55\" style=\"fill:#000bff;stroke-width:2;stroke:rgb(255,255,255)\"/><rect x=\"660\" y=\"0\" width=\"55\" height=\"55\" style=\"fill:#000cff;stroke-width:2;stroke:rgb(255,255,255)\"/><rect x=\"715\" y=\"0\" width=\"55\" height=\"55\" style=\"fill:#000dff;stroke-width:2;stroke:rgb(255,255,255)\"/><rect x=\"770\" y=\"0\" width=\"55\" height=\"55\" style=\"fill:#000eff;stroke-width:2;stroke:rgb(255,255,255)\"/><rect x=\"825\" y=\"0\" width=\"55\" height=\"55\" style=\"fill:#000fff;stroke-width:2;stroke:rgb(255,255,255)\"/><rect x=\"880\" y=\"0\" width=\"55\" height=\"55\" style=\"fill:#0010ff;stroke-width:2;stroke:rgb(255,255,255)\"/><rect x=\"935\" y=\"0\" width=\"55\" height=\"55\" style=\"fill:#0011ff;stroke-width:2;stroke:rgb(255,255,255)\"/></svg>"
      ],
      "text/plain": [
       "[(0.0, 0.0, 1.0),\n",
       " (0.0, 0.00392156862745098, 1.0),\n",
       " (0.0, 0.00784313725490196, 1.0),\n",
       " (0.0, 0.011764705882352941, 1.0),\n",
       " (0.0, 0.01568627450980392, 1.0),\n",
       " (0.0, 0.0196078431372549, 1.0),\n",
       " (0.0, 0.023529411764705882, 1.0),\n",
       " (0.0, 0.027450980392156862, 1.0),\n",
       " (0.0, 0.03137254901960784, 1.0),\n",
       " (0.0, 0.03529411764705882, 1.0),\n",
       " (0.0, 0.0392156862745098, 1.0),\n",
       " (0.0, 0.043137254901960784, 1.0),\n",
       " (0.0, 0.047058823529411764, 1.0),\n",
       " (0.0, 0.050980392156862744, 1.0),\n",
       " (0.0, 0.054901960784313725, 1.0),\n",
       " (0.0, 0.058823529411764705, 1.0),\n",
       " (0.0, 0.06274509803921569, 1.0),\n",
       " (0.0, 0.06666666666666667, 1.0)]"
      ]
     },
     "execution_count": 61,
     "metadata": {},
     "output_type": "execute_result"
    }
   ],
   "source": [
    "sns.color_palette(palette=palette, n_colors=18)"
   ]
  },
  {
   "cell_type": "code",
   "execution_count": null,
   "id": "d1d32548",
   "metadata": {},
   "outputs": [],
   "source": []
  },
  {
   "cell_type": "code",
   "execution_count": 113,
   "id": "3484924d",
   "metadata": {},
   "outputs": [
    {
     "name": "stdout",
     "output_type": "stream",
     "text": [
      "Your colors: [[0.884443534436244, 0.7379508577437754, 0.7506921671597142], [0.4857046345627471, 0.9452701637144819, 0.9571563699958056], [0.5098178470061423, 0.5065965929546965, 0.5188290946649987], [0.6718777616190932, 0.9814497838168934, 0.5173131729229826], [0.6503310706279712, 0.5031164800602166, 0.9995760028689765], [0.955646809154247, 0.9110413307053391, 0.9453012821103652], [0.5407035443421468, 0.8285542471761994, 0.6673129093210015], [0.9674962850382552, 0.8442984085737095, 0.5055059800617554], [0.8766640637772992, 0.4993893279706477, 0.5829721058701794], [0.9930351040295025, 0.5869460530957309, 0.875378269664653], [0.5290992101446074, 0.6195113181491447, 0.8397185563890962], [0.7052510797137759, 0.7991114088186234, 0.9972261532819807], [0.757671885113308, 0.9680916562190901, 0.781305979508343], [0.6440821879610672, 0.5789251979216755, 0.6477418284054334], [0.7373409610317745, 0.6865462860196531, 0.49021586757468893], [0.903045266786534, 0.9949170525555948, 0.593227074306167], [0.585046495953824, 0.8556616011727968, 0.8742914783313595], [0.8044863715493846, 0.7994069717447722, 0.6034637480075218], [0.7680282512894532, 0.609428387483356, 0.8952999167209623], [0.6915628006882886, 0.4984696815665026, 0.7777388771387297]]\n"
     ]
    }
   ],
   "source": [
    "import random\n",
    "\n",
    "def get_random_color(pastel_factor = 0.5):\n",
    "    return [(x+pastel_factor)/(1.0+pastel_factor) for x in [random.uniform(0,1.0) for i in [1,2,3]]]\n",
    "\n",
    "def color_distance(c1,c2):\n",
    "    return sum([abs(x[0]-x[1]) for x in zip(c1,c2)])\n",
    "\n",
    "def generate_new_color(existing_colors,pastel_factor = 0.5):\n",
    "    max_distance = None\n",
    "    best_color = None\n",
    "    for i in range(0,100):\n",
    "        color = get_random_color(pastel_factor = pastel_factor)\n",
    "        if not existing_colors:\n",
    "            return color\n",
    "        best_distance = min([color_distance(color,c) for c in existing_colors])\n",
    "        if not max_distance or best_distance > max_distance:\n",
    "            max_distance = best_distance\n",
    "            best_color = color\n",
    "    return best_color\n",
    "\n",
    "#Example:\n",
    "\n",
    "if __name__ == '__main__':\n",
    "\n",
    "  #To make your color choice reproducible, uncomment the following line:\n",
    "    #random.seed(10)\n",
    "\n",
    "    colors = []\n",
    "\n",
    "    for i in range(0,20):\n",
    "        colors.append(generate_new_color(colors,pastel_factor = 0.9))\n",
    "    \n",
    "    print (\"Your colors:\",colors)\n",
    "    \n",
    "    "
   ]
  },
  {
   "cell_type": "code",
   "execution_count": 99,
   "id": "2455429c",
   "metadata": {},
   "outputs": [
    {
     "ename": "SyntaxError",
     "evalue": "invalid syntax (2719473320.py, line 1)",
     "output_type": "error",
     "traceback": [
      "\u001b[0;36m  File \u001b[0;32m\"/tmp/ipykernel_3646/2719473320.py\"\u001b[0;36m, line \u001b[0;32m1\u001b[0m\n\u001b[0;31m    type(colors[])\u001b[0m\n\u001b[0m                ^\u001b[0m\n\u001b[0;31mSyntaxError\u001b[0m\u001b[0;31m:\u001b[0m invalid syntax\n"
     ]
    }
   ],
   "source": [
    "type(colors[])"
   ]
  },
  {
   "cell_type": "code",
   "execution_count": 96,
   "id": "e4ace389",
   "metadata": {},
   "outputs": [
    {
     "data": {
      "text/plain": [
       "[0.8893316295141318, 0.9924705587262757, 0.8843038440656439]"
      ]
     },
     "execution_count": 96,
     "metadata": {},
     "output_type": "execute_result"
    }
   ],
   "source": [
    "colors[10]"
   ]
  },
  {
   "cell_type": "code",
   "execution_count": null,
   "id": "270335e9",
   "metadata": {},
   "outputs": [],
   "source": []
  }
 ],
 "metadata": {
  "kernelspec": {
   "display_name": "Python 3 (ipykernel)",
   "language": "python",
   "name": "python3"
  },
  "language_info": {
   "codemirror_mode": {
    "name": "ipython",
    "version": 3
   },
   "file_extension": ".py",
   "mimetype": "text/x-python",
   "name": "python",
   "nbconvert_exporter": "python",
   "pygments_lexer": "ipython3",
   "version": "3.8.11"
  }
 },
 "nbformat": 4,
 "nbformat_minor": 5
}
