{
 "cells": [
  {
   "cell_type": "code",
   "execution_count": null,
   "id": "5c5eba7e",
   "metadata": {},
   "outputs": [],
   "source": [
    "  \n",
    "import cv2\n",
    "\n",
    "path_bs='./data/brush_strokes/'\n",
    "image = cv2.imread(path_bs + \"bs_04.jpg\")\n",
    "#gray = cv2.cvtColor(image, cv2.COLOR_BGR2GRAY)\n",
    "canny = cv2.Canny(image, 10, 150)\n",
    "canny = cv2.dilate(canny, None, iterations=1)\n",
    "canny = cv2.erode(canny, None, iterations=1)\n",
    "#_, th = cv2.threshold(gray, 10, 255, cv2.THRESH_BINARY)\n",
    "#_,cnts,_ = cv2.findContours(canny, cv2.RETR_EXTERNAL, cv2.CHAIN_APPROX_SIMPLE)# OpenCV 3\n",
    "cnts,_ = cv2.findContours(canny, cv2.RETR_EXTERNAL, cv2.CHAIN_APPROX_SIMPLE)# OpenCV 4\n",
    "cv2.drawContours(image, cnts, -1, (0,255,0), 2)\n",
    "cv2.imshow('image',image)\n",
    "cv2.waitKey(0)\n"
   ]
  },
  {
   "cell_type": "code",
   "execution_count": null,
   "id": "9b79c234",
   "metadata": {},
   "outputs": [],
   "source": [
    "cnts"
   ]
  },
  {
   "cell_type": "code",
   "execution_count": null,
   "id": "e46e0dfd",
   "metadata": {},
   "outputs": [],
   "source": []
  },
  {
   "cell_type": "code",
   "execution_count": null,
   "id": "a0837e3f",
   "metadata": {},
   "outputs": [],
   "source": []
  },
  {
   "cell_type": "code",
   "execution_count": null,
   "id": "419b08d1",
   "metadata": {},
   "outputs": [],
   "source": []
  }
 ],
 "metadata": {
  "kernelspec": {
   "display_name": "Python 3 (ipykernel)",
   "language": "python",
   "name": "python3"
  },
  "language_info": {
   "codemirror_mode": {
    "name": "ipython",
    "version": 3
   },
   "file_extension": ".py",
   "mimetype": "text/x-python",
   "name": "python",
   "nbconvert_exporter": "python",
   "pygments_lexer": "ipython3",
   "version": "3.8.11"
  }
 },
 "nbformat": 4,
 "nbformat_minor": 5
}
