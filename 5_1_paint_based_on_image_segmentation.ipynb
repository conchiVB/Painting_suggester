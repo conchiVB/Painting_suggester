{
 "cells": [
  {
   "cell_type": "code",
   "execution_count": 1,
   "id": "654fa03c",
   "metadata": {},
   "outputs": [],
   "source": [
    "import numpy as np\n",
    "import cv2\n",
    "\n",
    "\n",
    "import random\n",
    "import matplotlib.pyplot as plt\n",
    "\n",
    "%matplotlib inline\n",
    "\n",
    "import os\n",
    "\n",
    "from PIL import Image\n",
    "\n",
    "import pandas as pd\n"
   ]
  },
  {
   "cell_type": "code",
   "execution_count": null,
   "id": "087e4185",
   "metadata": {},
   "outputs": [],
   "source": []
  },
  {
   "cell_type": "code",
   "execution_count": null,
   "id": "18bcd916",
   "metadata": {},
   "outputs": [],
   "source": []
  },
  {
   "cell_type": "code",
   "execution_count": 2,
   "id": "92aea911",
   "metadata": {},
   "outputs": [],
   "source": [
    "# preprocesar\n",
    "\n",
    "import cv2\n",
    "bs_path = './data/bs_external/'\n",
    "bs_path_o = './data/bs_external/original_bs/'\n",
    "\n",
    "def bs_to_rgb(name):\n",
    "       \n",
    "    bs= name  + '.png'\n",
    "\n",
    "    # grayscale image\n",
    "    gray_image = cv2.imread(bs_path_o + bs, cv2.IMREAD_GRAYSCALE)\n",
    "    #print(gray_image.shape)\n",
    "    \n",
    "    scale_percent= 1/2\n",
    "    width = int(gray_image.shape[1] * scale_percent )\n",
    "    height = int(gray_image.shape[0] * scale_percent )\n",
    "\n",
    "    # resize image\n",
    "    gray_image = cv2.resize(gray_image, (width, height))    \n",
    "\n",
    "    # Convert to 3-channel image\n",
    "    rgb_image = cv2.cvtColor(gray_image, cv2.COLOR_GRAY2BGR)   \n",
    "    \n",
    "    \n",
    "    #print(rgb_image.shape)\n",
    "    plt.imshow(rgb_image)\n",
    "    plt.show\n",
    "\n",
    "\n",
    "    #save\n",
    "    img = Image.fromarray(rgb_image, 'RGB')\n",
    "    img.save(bs_path + name + '_rgb' + '.png')\n",
    "    \n",
    "#bs_to_rgb('brush_fromweb2_large_vertical')    \n",
    "#bs_to_rgb('brush_fromweb2_large_horizontal')    \n",
    "#bs_to_rgb('brush_fromweb2_small_vertical')    \n",
    "#bs_to_rgb('brush_fromweb2_small_horizontal')    \n"
   ]
  },
  {
   "cell_type": "code",
   "execution_count": null,
   "id": "1110bba0",
   "metadata": {},
   "outputs": [],
   "source": []
  },
  {
   "cell_type": "code",
   "execution_count": 3,
   "id": "54eb0636",
   "metadata": {},
   "outputs": [],
   "source": [
    "bs_path = './data/bs_external/'\n",
    "paint_path = './data/bs_external_paints/'\n"
   ]
  },
  {
   "cell_type": "code",
   "execution_count": 4,
   "id": "fbac73c9",
   "metadata": {},
   "outputs": [],
   "source": [
    "def load_lst_of_bs(dir_path):\n",
    "\n",
    "    # list to store files\n",
    "    lst_bs = []\n",
    "   \n",
    "    for bs in os.listdir(dir_path):\n",
    "        # check if current path is a file\n",
    "        if os.path.isfile(os.path.join(dir_path, bs)):\n",
    "            lst_bs.append(bs)\n",
    "    \n",
    "    return lst_bs"
   ]
  },
  {
   "cell_type": "code",
   "execution_count": 5,
   "id": "7eb6932a",
   "metadata": {},
   "outputs": [],
   "source": [
    "#lst_bs=load_lst_of_bs(bs_path)\n"
   ]
  },
  {
   "cell_type": "code",
   "execution_count": 6,
   "id": "cd5d3454",
   "metadata": {},
   "outputs": [],
   "source": [
    "#https://github.com/matteo-ronchetti/Pointillism/commit/cb6d4454b636488fc2a1993b93f338a2341ba459\n",
    "# función para repartir las coordenadas de los bs en toda la dimensión del frame\n",
    "\n",
    "def randomized_grid(h, w, scale):\n",
    "    \n",
    "    if ( scale==0):\n",
    "        scale=min(h,w)//3\n",
    "    assert (scale > 0)\n",
    "\n",
    "    r = scale//2   \n",
    "    \n",
    "    grid = []\n",
    "    for i in range(0, h, scale):\n",
    "        for j in range(0, w, scale) :\n",
    "            y = random.randint(-r, r) + i\n",
    "            x = random.randint(-r, r) + j          \n",
    "            \n",
    "             \n",
    "            grid.append((y % h, x % w))           \n",
    "                     \n",
    "                \n",
    "    random.shuffle(grid)\n",
    "    return grid\n",
    "    \n",
    "\n",
    "def plot_grid(grid,h,w):\n",
    "    \n",
    "    x_val = [x[0] for x in grid]\n",
    "    y_val = [x[1] for x in grid]\n",
    "    \n",
    "    plt.axis([0, h,0, w])    \n",
    "    plt.gca().set_aspect('equal', adjustable='box')\n",
    "    \n",
    "    plt.scatter(x_val,y_val)\n",
    "    plt.show()"
   ]
  },
  {
   "cell_type": "code",
   "execution_count": 7,
   "id": "c8b46caa",
   "metadata": {},
   "outputs": [
    {
     "data": {
      "text/plain": [
       "'grid1=randomized_grid(600,400,50)\\nplot_grid(grid1,600,400)\\n\\nframe_size=(600,400)\\nscale_points=100\\nbs_centers = randomized_grid(h=frame_size[0], w=frame_size[1],scale=scale_points) # valorar introducir la scale en un random limitado\\nbs_select = np.random.choice(lst_bs, size=len(bs_centers), replace=True)\\n#bs_select=random.sample.choice(lst_bs, len(bs_centers), replace=True)'"
      ]
     },
     "execution_count": 7,
     "metadata": {},
     "output_type": "execute_result"
    }
   ],
   "source": [
    "\"\"\"grid1=randomized_grid(600,400,50)\n",
    "plot_grid(grid1,600,400)\n",
    "\n",
    "frame_size=(600,400)\n",
    "scale_points=100\n",
    "bs_centers = randomized_grid(h=frame_size[0], w=frame_size[1],scale=scale_points) # valorar introducir la scale en un random limitado\n",
    "bs_select = np.random.choice(lst_bs, size=len(bs_centers), replace=True)\n",
    "#bs_select=random.sample.choice(lst_bs, len(bs_centers), replace=True)\"\"\""
   ]
  },
  {
   "cell_type": "code",
   "execution_count": 8,
   "id": "af70e9a1",
   "metadata": {},
   "outputs": [],
   "source": [
    "#https://gist.github.com/adewes/5884820\n",
    "\n",
    "def get_random_color(pastel_factor = 0.5):\n",
    "    return [(x+pastel_factor)/(1.0+pastel_factor) for x in [random.uniform(0,1.0) for i in [1,2,3]]]\n",
    "\n",
    "def color_distance(c1,c2):\n",
    "    return sum([abs(x[0]-x[1]) for x in zip(c1,c2)])\n",
    "\n",
    "def generate_new_color(existing_colors,pastel_factor = 0.5):\n",
    "    max_distance = None\n",
    "    best_color = None\n",
    "    for i in range(0,100):\n",
    "        color = get_random_color(pastel_factor = pastel_factor)\n",
    "        if not existing_colors:\n",
    "            return color\n",
    "        best_distance = min([color_distance(color,c) for c in existing_colors])\n",
    "        if not max_distance or best_distance > max_distance:\n",
    "            max_distance = best_distance\n",
    "            best_color = color\n",
    "    return best_color\n",
    "\n",
    "def generate_palette(n_colors,pastel_factor=0.5):\n",
    "    palette_color = []\n",
    "\n",
    "    for i in range(0,n_colors):\n",
    "        palette_color.append(generate_new_color(palette_color,pastel_factor = pastel_factor))\n",
    "       # print(palette_color)\n",
    "    return palette_color  \n",
    "\n",
    "   "
   ]
  },
  {
   "cell_type": "code",
   "execution_count": 9,
   "id": "077c64f6",
   "metadata": {},
   "outputs": [],
   "source": [
    "scale_points=100 # higher, less bs's\n",
    "\n",
    "#h,w vienen de la pintura original, con esto se construye elframe\n",
    "\n",
    "\n",
    "def paint_generator (paint_idx,scale):   \n",
    "    \n",
    "#random parameters\n",
    "\n",
    "    lst_frame_sizes=[(600,600),(400,600),(600,400),(800,400),(400,800),(600,200), (200,600),(200,200),(400,400)]\n",
    "    #lst_frame_sizes=[(128,128),(64,64),(192,192),(28,28)]\n",
    "    #lst_frame_sizes=[(128,128)]\n",
    "\n",
    "    #______________frame selection from the list\n",
    "    frame_size=random.choice(lst_frame_sizes)\n",
    "\n",
    "    #print(\"Randomly selected frame size:\",frame_size)\n",
    "\n",
    "    bs_centers = randomized_grid(h=frame_size[0], w=frame_size[1],scale=scale) # valorar introducir la scale en un random limitado\n",
    "\n",
    "    plot_grid (grid=bs_centers,h=frame_size[0],w=frame_size[1])\n",
    "\n",
    "    #print('Num de brush strokes {}. Donde las coordenadas de los centroides{}:'.format(len(bs_centers),bs_centers))\n",
    "    lst_bs=load_lst_of_bs(bs_path)\n",
    "   \n",
    "\n",
    "    #______________elegir aleatoriamente n=len(bs_centers) centroides donde se van a situar los bs, selección de bs\n",
    "    #bs_select=random.sample(lst_bs, len(bs_centers))\n",
    "    bs_select = np.random.choice(lst_bs, size=len(bs_centers), replace=True)\n",
    "    #print(\"brush strokes seleccionados de la db de bs:\", bs_select)\n",
    "\n",
    "    #______________ seleccionar un angulo para girar la figura [0,360]\n",
    "    lst_degrees=[x for x in range(360)]\n",
    "    degree=random.sample(lst_degrees, len(bs_centers))\n",
    "    #print(\"grados de giro para los bs:\", degree)\n",
    "\n",
    "    #______________añadir un cambio en el tamaño del bs en base a un %. Rango elegido :de -30 a 30\n",
    "    lst_pct=[(x) for x in range(-10,10)]    \n",
    "    lst_scale_percent=np.random.choice(lst_pct, len(bs_centers))\n",
    "    \n",
    "    #lst_scale_percent=random.choice(np.arange(0.0, 0.5, 0.1))\n",
    "    #print(\"escala de tamaño a aplicar en %:\", lst_scale_percent)\n",
    "\n",
    "    #______________colors\n",
    "    palette = generate_palette(len(bs_centers),pastel_factor=0.5)\n",
    "    palette_array = np.array(palette)[np.newaxis, :, :]\n",
    "    #plt.imshow(palette_array)\n",
    "    \n",
    "    #plt.axis('off')    \n",
    "    #plt.show()\n",
    "    lst_colors=palette_array.tolist()\n",
    "    #print('Array con los rgb de la paleta seleccionada {}.'.format(lst_colors))\n",
    "    \n",
    "    \n",
    "#painting\n",
    "\n",
    "    #generating the frame from frame_size\n",
    "    blank_image = np.zeros((frame_size[0],frame_size[1],3), np.uint8)\n",
    "    #adding bs's en bs_centers, en el color de la paleta\n",
    "    #[0]\n",
    "    lst_imag=[]\n",
    "    for k in range (len(bs_centers)):\n",
    "\n",
    "        bs=bs_select[k]\n",
    "        bs_xy=bs_centers[k]\n",
    "        bs_color=lst_colors[0][k]\n",
    "        bs_scale=lst_scale_percent[k]\n",
    "        bs_angle=degree[k]\n",
    "\n",
    "        #print (\"\\n figura bs:\",bs,\"\\n coord:\",bs_xy,\"\\n color:\",bs_color,'\\n scale:',bs_scale,\"\\n angle:\",bs_angle )\n",
    "        #blank_image[bs_xy[0],bs_xy[1]]=bs_color\n",
    "\n",
    "        #rotation\n",
    "        bs_k_im=Image.open(bs_path + bs)\n",
    "        rotated=bs_k_im.rotate(bs_angle, expand=True)\n",
    "        bs_k = np.asarray(rotated)\n",
    "\n",
    "        #resize\n",
    "        \n",
    "        width = int(bs_k.shape[1] * (1 + bs_scale / 100))\n",
    "        height = int(bs_k.shape[0] * (1 +  bs_scale / 100))\n",
    "        #print(bs_k.shape[0],bs_k.shape[1])\n",
    "        bs_k = cv2.resize(bs_k, (width, height))\n",
    "\n",
    "\n",
    "        #centramos el bs en el punto donde tenemos que colocarlo\n",
    "        bs_center=(int(bs_k.shape[0] /2) , int(bs_k.shape[1] /2))\n",
    "        adjust=(bs_xy[0]-bs_center[0],bs_xy[1]-bs_center[1])\n",
    "\n",
    "        rgb_tresh=0\n",
    "        (x,y) = np.where((bs_k[:,:, 0] > rgb_tresh) & (bs_k[ :,:, 1] > rgb_tresh) & (bs_k[:, :, 2] >  rgb_tresh))\n",
    "        (x,y) = (x + adjust[0], y + adjust[1] )\n",
    "        \n",
    "            \n",
    "        #generamos un array de imagenes donde layer=index_array =orden_de_pintura =k \n",
    "        imag_k = np.ones((frame_size[0],frame_size[1],3),np.float64)  \n",
    "\n",
    "        x2= x[(y< frame_size[1]) & (x <frame_size[0]) & (x>0) & (y>0)]\n",
    "        y2= y[(y< frame_size[1]) & (x <frame_size[0]) & (x>0) & (y>0) ]\n",
    "        x=x2\n",
    "        y=y2\n",
    "        imag_k[x,y] = lst_colors[0][k]\n",
    "\n",
    "        lst_imag.append(imag_k)\n",
    "        #print(imag_k.shape, lst_colors[0][k])\n",
    "        #print the image kept in list, first we need to transpose\n",
    "        #imag_k_t= imag_k.transpose(1, 0, 2)\n",
    "        #print(imag_k_t.shape)\n",
    "        #plt.axis([0, frame_size[0],0, frame_size[1]])\n",
    "        #plt.imshow(imag_k_t)     \n",
    "        \n",
    "\n",
    "        #implot = plt.imshow(blank_image)\n",
    "\n",
    "        #plt.axis('equal')\n",
    "        #plt.xlim(0, frame_size[0]) \n",
    "        #plt.ylim(0, frame_size[1])\n",
    "        #plt.scatter(x,y,color=lst_colors[0][k])\n",
    "        alpha=random.choice(np.arange(0.0, 1.0, 0.1))\n",
    "        plt.scatter(x,y,color=[lst_colors[0][k]],s=1, alpha=alpha)\n",
    "        #print the image kept in list   \n",
    " \n",
    "        #plt.show()\n",
    "        #bs_k_im\n",
    "        \n",
    "     \n",
    "    plt.axis([0, frame_size[0],0, frame_size[1]])\n",
    "    #print('frame_size_saved:',frame_size[0],frame_size[1])\n",
    "    plt.gca().set_aspect('equal', adjustable='box')\n",
    "    #plt.gca().get_yaxis().set_visible(False)\n",
    "    #plt.gca().get_xaxis().set_visible(False)\n",
    "    \n",
    "    #plt.gca().set_axis_off()\n",
    "    #plt.subplots_adjust(top = 1, bottom = 0, right = 1, left = 0, hspace = 0, wspace = 0)\n",
    "    plt.margins(0,0)\n",
    "     \n",
    "        \n",
    "    #para guardar, eliminamos los ejes\n",
    "    \n",
    "    #plt.axis('off')\n",
    "    paint_id=\"paint_\" + (\"0\"*4 + str(paint_idx))[-5:] \n",
    "#plt.savefig(paint_path + paint_id + \".png\")\n",
    "    #bbox_inches='tight'\n",
    "    #pad_inches=0.0\n",
    "    \n",
    "    #para mostrar, dejamos los axis\n",
    "    #plt.axis('off')  \n",
    "    \n",
    "    plt.show()   \n",
    "    \n",
    "    #array_imag=paint_df(lst_imag,paint_id)\n",
    "    \n",
    "  \n",
    "    #Image.fromarray((array_imag * 255).astype('uint8'),'RGB').save(paint_path + paint_id + \".png\")  \n",
    "    \n",
    "    \n",
    "    #plt.xlim(0, frame_size[0]) \n",
    "    #plt.ylim(0, frame_size[1])\n",
    "    return lst_imag, paint_id    \n",
    "    \n",
    "    "
   ]
  },
  {
   "cell_type": "code",
   "execution_count": 10,
   "id": "515ef2aa",
   "metadata": {},
   "outputs": [
    {
     "data": {
      "image/png": "[encoded data removed]",
      "text/plain": [
       "<Figure size 432x288 with 1 Axes>"
      ]
     },
     "metadata": {
      "needs_background": "light"
     },
     "output_type": "display_data"
    },
    {
     "data": {
      "image/png": "[encoded data removed]",
      "text/plain": [
       "<Figure size 432x288 with 1 Axes>"
      ]
     },
     "metadata": {
      "needs_background": "light"
     },
     "output_type": "display_data"
    }
   ],
   "source": [
    "a,b = paint_generator(999,scale=50)\n",
    "\n",
    "\n",
    "#como input, necesitmamos la imagen orig\n",
    "#a partir de esta se selecciona la paleta\n",
    "# hacerlo todo por segmento de image segmentation\n",
    "\n",
    "# el tamaño de los brochazos tiene que ir siendo menor según se dan capas"
   ]
  },
  {
   "cell_type": "code",
   "execution_count": 17,
   "id": "01c8e7d6",
   "metadata": {},
   "outputs": [
    {
     "data": {
      "text/plain": [
       "<matplotlib.image.AxesImage at 0x7fbfc95c6f10>"
      ]
     },
     "execution_count": 17,
     "metadata": {},
     "output_type": "execute_result"
    },
    {
     "data": {
      "image/png": "[encoded data removed]",
      "text/plain": [
       "<Figure size 432x288 with 1 Axes>"
      ]
     },
     "metadata": {
      "needs_background": "light"
     },
     "output_type": "display_data"
    }
   ],
   "source": [
    "\n",
    "bs_path = './data/bs_external/'\n",
    "bs_path_o = './data/bs_external/original_bs/'\n",
    "\n",
    "name='brush_fromweb2_large_horizontal'\n",
    "bs= name  + '.png'\n",
    "\n",
    "# grayscale image\n",
    "gray_image = cv2.imread(bs_path_o + bs, cv2.IMREAD_GRAYSCALE)\n",
    "#print(gray_image.shape)\n",
    "\n",
    "scale_percent= 1/2\n",
    "width = int(gray_image.shape[1] * scale_percent )\n",
    "height = int(gray_image.shape[0] * scale_percent )\n",
    "\n",
    "# resize image\n",
    "gray_image = cv2.resize(gray_image, (width, height))    \n",
    "\n",
    "# Convert to 3-channel image\n",
    "rgb_image = cv2.cvtColor(gray_image, cv2.COLOR_GRAY2BGR)   \n",
    "\n",
    "\n",
    "#print(rgb_image.shape)\n",
    "plt.imshow(rgb_image)\n",
    "\n",
    "\n",
    "\n",
    "#bs_to_rgb('brush_fromweb2_large_vertical')    \n",
    "#bs_to_rgb('brush_fromweb2_large_horizontal')    \n",
    "#bs_to_rgb('brush_fromweb2_small_vertical')    \n",
    "#bs_to_rgb('brush_fromweb2_small_horizontal')    \n"
   ]
  },
  {
   "cell_type": "code",
   "execution_count": 28,
   "id": "a8bcfa26",
   "metadata": {},
   "outputs": [],
   "source": [
    "\n",
    "from PIL import Image\n",
    "\n",
    "img = Image.open(bs_path_o + bs)\n",
    "img = img.convert(\"RGB\")\n",
    " \n",
    "d = img.getdata()\n",
    " \n",
    "new_image = []\n",
    "for item in d:\n",
    "   \n",
    "    # change all white (also shades of whites)\n",
    "    # pixels to yellow\n",
    "    if item[0] in list(range(230, 256)):\n",
    "        new_image.append((255, 224, 100))\n",
    "    else:\n",
    "        #new_image.append((255, 234, 100))\n",
    "        new_image.append(item)\n",
    "         \n",
    "# update image data\n",
    "img.putdata(new_image)\n",
    " \n",
    "# save new image\n",
    "#img.save(\"flower_image_altered.jpg\")"
   ]
  },
  {
   "cell_type": "code",
   "execution_count": 30,
   "id": "cabf2171",
   "metadata": {},
   "outputs": [
    {
     "data": {
      "text/plain": [
       "<matplotlib.image.AxesImage at 0x7fbfc94d3b50>"
      ]
     },
     "execution_count": 30,
     "metadata": {},
     "output_type": "execute_result"
    },
    {
     "data": {
      "image/png": "[encoded data removed]",
      "text/plain": [
       "<Figure size 432x288 with 1 Axes>"
      ]
     },
     "metadata": {
      "needs_background": "light"
     },
     "output_type": "display_data"
    }
   ],
   "source": [
    "plt.imshow(img)"
   ]
  },
  {
   "cell_type": "code",
   "execution_count": null,
   "id": "7b563ac4",
   "metadata": {},
   "outputs": [],
   "source": []
  },
  {
   "cell_type": "code",
   "execution_count": null,
   "id": "59fb4b38",
   "metadata": {},
   "outputs": [],
   "source": []
  },
  {
   "cell_type": "code",
   "execution_count": null,
   "id": "c5088b6e",
   "metadata": {},
   "outputs": [],
   "source": []
  },
  {
   "cell_type": "code",
   "execution_count": null,
   "id": "1f595aa1",
   "metadata": {},
   "outputs": [],
   "source": []
  },
  {
   "cell_type": "code",
   "execution_count": null,
   "id": "e24f901f",
   "metadata": {},
   "outputs": [],
   "source": []
  },
  {
   "cell_type": "code",
   "execution_count": null,
   "id": "a7d35e41",
   "metadata": {},
   "outputs": [],
   "source": []
  },
  {
   "cell_type": "code",
   "execution_count": null,
   "id": "4366e2fe",
   "metadata": {},
   "outputs": [],
   "source": []
  },
  {
   "cell_type": "code",
   "execution_count": null,
   "id": "cb2b47dc",
   "metadata": {},
   "outputs": [],
   "source": []
  },
  {
   "cell_type": "markdown",
   "id": "f2f4848c",
   "metadata": {},
   "source": [
    "## para una v2m, añadir curvatura a los brochazos\n",
    "\n",
    "\n",
    "\n",
    "import cv2\n",
    "import numpy as np\n",
    "\n",
    "#Load the image\n",
    "img = cv2.imread(bs_path_o + bs)\n",
    "\n",
    "\n",
    "#Define the rectangle coordinates\n",
    "x, y, w, h = 100, 350, 250, 34\n",
    "\n",
    "#Define the radius of curvature\n",
    "radius = 50\n",
    "\n",
    "#Define the center of the rectangle\n",
    "rect_center = (x + w//2, y + h//2)\n",
    "\n",
    "#Define the rectangles corner points\n",
    "rect = np.array([[x, y], [x + w, y], [x + w, y + h], [x, y + h]], dtype=np.float32)\n",
    "\n",
    "#Define the curve corner points\n",
    "curve = np.zeros((4, 2), dtype=np.float32)\n",
    "for i in range(4):\n",
    "    vec = rect[i] - rect_center\n",
    "    length = np.linalg.norm(vec)\n",
    "    scale = radius / length\n",
    "    curve[i] = rect_center + vec * scale\n",
    "\n",
    "#Draw the curved rectangle on the image\n",
    "img = cv2.fillConvexPoly(img, curve.astype(int), (0, 255, 0))\n",
    "\n",
    "#Show the image\n",
    "cv2.imshow(\"Curved Rectangle\", img)\n",
    "cv2.waitKey(0)\n",
    "cv2.destroyAllWindows()"
   ]
  },
  {
   "cell_type": "code",
   "execution_count": null,
   "id": "2caa3628",
   "metadata": {},
   "outputs": [],
   "source": []
  },
  {
   "cell_type": "code",
   "execution_count": null,
   "id": "c5237bbc",
   "metadata": {},
   "outputs": [],
   "source": []
  },
  {
   "cell_type": "code",
   "execution_count": null,
   "id": "41ba7371",
   "metadata": {},
   "outputs": [],
   "source": []
  },
  {
   "cell_type": "code",
   "execution_count": null,
   "id": "24dd4a87",
   "metadata": {},
   "outputs": [],
   "source": []
  },
  {
   "cell_type": "code",
   "execution_count": null,
   "id": "df169c8e",
   "metadata": {},
   "outputs": [],
   "source": []
  }
 ],
 "metadata": {
  "kernelspec": {
   "display_name": "Python 3 (ipykernel)",
   "language": "python",
   "name": "python3"
  },
  "language_info": {
   "codemirror_mode": {
    "name": "ipython",
    "version": 3
   },
   "file_extension": ".py",
   "mimetype": "text/x-python",
   "name": "python",
   "nbconvert_exporter": "python",
   "pygments_lexer": "ipython3",
   "version": "3.8.11"
  }
 },
 "nbformat": 4,
 "nbformat_minor": 5
}
