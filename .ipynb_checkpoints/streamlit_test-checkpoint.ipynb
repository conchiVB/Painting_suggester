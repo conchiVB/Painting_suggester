{
 "cells": [
  {
   "cell_type": "code",
   "execution_count": null,
   "id": "d85bebd3",
   "metadata": {},
   "outputs": [],
   "source": [
    "#!pip install streamlit\n",
    "#!pip3 install --upgrade tensorflow\n",
    "#!pip3 install --upgrade keras"
   ]
  },
  {
   "cell_type": "code",
   "execution_count": 3,
   "id": "5f16b59a",
   "metadata": {},
   "outputs": [
    {
     "name": "stderr",
     "output_type": "stream",
     "text": [
      "2023-01-02 21:01:40.602 \n",
      "  \u001b[33m\u001b[1mWarning:\u001b[0m to view this Streamlit app on a browser, run it with the following\n",
      "  command:\n",
      "\n",
      "    streamlit run /home/dsc/anaconda3/lib/python3.8/site-packages/ipykernel_launcher.py [ARGUMENTS]\n"
     ]
    }
   ],
   "source": [
    "import streamlit as st\n",
    "import os\n",
    "import asyncio\n",
    "from PIL import Image\n",
    "\n",
    "def get_or_create_eventloop():\n",
    "    try:\n",
    "        return asyncio.get_event_loop()\n",
    "    except RuntimeError as ex:\n",
    "        if \"There is no current event loop in thread\" in str(ex):\n",
    "            loop = asyncio.new_event_loop()\n",
    "            asyncio.set_event_loop(loop)\n",
    "            return asyncio.get_event_loop()\n",
    "\n",
    "def save_uploadedfile(uploadedfile):        \n",
    "    filename=uploadedfile.name\n",
    "    filename_new=\"tmp_file.\" + filename.split(\".\")[-1]    \n",
    "    with open(os.path.join(\"./data/tmp/\",filename_new),\"wb\") as f:\n",
    "        f.write(uploadedfile.getbuffer())\n",
    "        #st.success(\\\"Saved File:{} to ./data/tmp/\\\".format(uploadedfile.name)) \n",
    "    return filename_new                           \n",
    "        \n",
    "        \n",
    "def load_image():\n",
    "    col1, col2 = st.columns(2)\n",
    "    uploaded_file = st.sidebar.file_uploader(\"Pick a painting to test\", type=[\"png\", \"jpg\", \"jpeg\"])\n",
    "    #uploaded_file = st.file_uploader(label='Pick a painting to test')\n",
    "    if uploaded_file is not None:\n",
    "        image_data = uploaded_file.getvalue()        \n",
    "        #st.image(image_data)\n",
    "        name_file = uploaded_file.name \n",
    "        filename_new=save_uploadedfile(uploaded_file)\n",
    "        \n",
    "        import Paleta_picture\n",
    "        df_colours=Paleta_picture.exact_color(\"./data/tmp/\",filename_new, 900, 10, 2.5,500)\n",
    "        df_colours.to_csv('./data/tmp/tmp_df_colours.csv',index=False)\n",
    "        image_resize= Image.open('./data/tmp/resize_tmp_file.jpg')\n",
    "        st.image(image_resize, 'Original image')\n",
    "        image_colors= Image.open('./data/tmp/tmp_colors.png')\n",
    "        st.image(image_colors, caption='Palette of colours') \n",
    "        #path_in = uploaded_file.name\n",
    "        #print(path_in)\n",
    "        #%run -m Paleta_picture\n",
    "        \n",
    "def main():\n",
    "    \n",
    "    #get_or_create_eventloop()\n",
    "    st.set_page_config(layout=\"wide\", page_title=\"Painting suggester\")\n",
    "    #st.title('Painting suggester')\n",
    "    load_image()\n",
    "\n",
    "\n",
    "if __name__ == '__main__':\n",
    "    main()\n",
    "\n",
    "\n"
   ]
  },
  {
   "cell_type": "markdown",
   "id": "5c64e8f5",
   "metadata": {},
   "source": [
    "### añadir fondo a streamlit display\n",
    "https://levelup.gitconnected.com/how-to-add-a-background-image-to-your-streamlit-app-96001e0377b2"
   ]
  },
  {
   "cell_type": "code",
   "execution_count": null,
   "id": "4d619208",
   "metadata": {},
   "outputs": [],
   "source": []
  }
 ],
 "metadata": {
  "kernelspec": {
   "display_name": "Python 3 (ipykernel)",
   "language": "python",
   "name": "python3"
  },
  "language_info": {
   "codemirror_mode": {
    "name": "ipython",
    "version": 3
   },
   "file_extension": ".py",
   "mimetype": "text/x-python",
   "name": "python",
   "nbconvert_exporter": "python",
   "pygments_lexer": "ipython3",
   "version": "3.8.11"
  }
 },
 "nbformat": 4,
 "nbformat_minor": 5
}
