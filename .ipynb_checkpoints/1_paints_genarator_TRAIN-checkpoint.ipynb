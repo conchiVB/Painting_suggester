{
 "cells": [
  {
   "cell_type": "markdown",
   "id": "b23fdf5f",
   "metadata": {},
   "source": [
    "## GENERATING THE DDBB OF PICTURES TO TRAIN THE MODEL\n",
    "\n",
    "\n",
    "\n",
    "\n",
    "1. choosing the brush stroke:\n",
    "    - from the brush stroke data base, randomly select a bs shape, (./data/brush_strokes/00_bs_db/) (1 to n bs's at time)\n",
    "    - apply transformations (size, rotation degrees, mirror,..) \n",
    "    - select a color from the palette  https://stackoverflow.com/questions/28999287/generate-random-colors-rgb\n",
    "    \n",
    "\n",
    "2. painting:\n",
    "    - include the bs in the frame,\n",
    "    - random location, \n",
    "    - retain the new variable \"deepness\"\n",
    "    \n",
    "    \n",
    "    \n",
    "  ____  \n",
    "   \n",
    "### Notas a tener en cuenta:\n",
    "    - concentración de pinceladas en el mismo sitio (por el tema de aleatoriedad)\n",
    "    - trabajar con paletas de colores o randoms que produzcan saltos controlados entre un color y otro (evitar concentración en el mismo color,.. )\n",
    "    - permitir que se den varias pinceladas en el mismo color (dejando que se elijan 1 o mas bs de cada selección)\n",
    "    - si existe superposición de colores completa, desestimar el bs que ha desaparecido en su totalidad ocultado por otro posterior.\n",
    "    - dar un color inicial al fondo\n",
    "    - formato del frame en el que trabajar, a partir de varios modelos o en modo aleatorio, horizontal,vertical??\n",
    "    - ...\n",
    "____________________\n",
    "\n",
    "\n",
    "\n",
    "## Posible plan B ...¿?\n",
    "\n",
    "\n",
    "    Crear una especie de app que a partir de una foto de un cuadro + una foto de combinación de colores (reconocer los colores de la foto). Cree un cuadro, similar al de la foto inicial pero con los colores extraidos del input2.\n",
    "    Generar pinturas, fotos,... etc a partir de colores que se extraen de algún sitio --- mediante foto /video....\n",
    " \n",
    " \n",
    "\n"
   ]
  },
  {
   "cell_type": "code",
   "execution_count": 7,
   "id": "91a6c72c",
   "metadata": {},
   "outputs": [
    {
     "name": "stdout",
     "output_type": "stream",
     "text": [
      "Collecting colourlovers\n",
      "  Downloading colourlovers-0.2.0-py3-none-any.whl (12 kB)\n",
      "Requirement already satisfied: Pillow in /home/dsc/anaconda3/lib/python3.8/site-packages (from colourlovers) (7.0.0)\n",
      "Installing collected packages: colourlovers\n",
      "Successfully installed colourlovers-0.2.0\n"
     ]
    }
   ],
   "source": [
    "#!pip install colourlovers     descartado, encontrado un punto a seguir que no era este"
   ]
  },
  {
   "cell_type": "code",
   "execution_count": 36,
   "id": "1a46410c",
   "metadata": {},
   "outputs": [],
   "source": [
    "import numpy as np\n",
    "import cv2"
   ]
  },
  {
   "cell_type": "markdown",
   "id": "7a7e8105",
   "metadata": {},
   "source": [
    "_____\n",
    "### NOTA: Ver como se ha desarrollado este proyecto, transmisión de técnica pictórica\n",
    "\n",
    "https://github.com/matteo-ronchetti/Pointillism/commit/cb6d4454b636488fc2a1993b93f338a2341ba459\n",
    "\n",
    "____"
   ]
  },
  {
   "cell_type": "code",
   "execution_count": 37,
   "id": "d447c7db",
   "metadata": {},
   "outputs": [],
   "source": [
    "#https://github.com/matteo-ronchetti/Pointillism/commit/cb6d4454b636488fc2a1993b93f338a2341ba459\n",
    "# utilizar esta función para repartir las coordenadas de los bs en toda la dimensión del frame, analizarla en detalle, \n",
    "#muy útil. Ver si se puede jugar un poco a que el reparto sea mas desigual\n",
    "import cv2\n",
    "import random\n",
    "\n",
    "import matplotlib.pyplot as plt\n",
    "\n",
    "\n",
    "def randomized_grid(h, w, scale):\n",
    "    if ( scale==0):\n",
    "        scale=min(h,w)//3\n",
    "    assert (scale > 0)\n",
    "\n",
    "    r = scale//2\n",
    "\n",
    "    grid = []\n",
    "    for i in range(0, h, scale):\n",
    "        for j in range(0, w, scale):\n",
    "            y = random.randint(-r, r) + i\n",
    "            x = random.randint(-r, r) + j\n",
    "\n",
    "            grid.append((y % h, x % w))\n",
    "\n",
    "    random.shuffle(grid)\n",
    "    return grid\n",
    "    \n",
    "#type(grid)\n",
    "#len(grid)\n",
    "#type(grid[0])\n",
    "def plot_grid(grid):\n",
    "    x_val = [x[0] for x in grid]\n",
    "    y_val = [x[1] for x in grid]\n",
    "    \n",
    "    plt.scatter(x_val,y_val)\n",
    "    plt.show()\n",
    "\n",
    "\n"
   ]
  },
  {
   "cell_type": "code",
   "execution_count": 38,
   "id": "022ff3aa",
   "metadata": {},
   "outputs": [
    {
     "data": {
      "image/png": "[encoded data removed]",
      "text/plain": [
       "<Figure size 432x288 with 1 Axes>"
      ]
     },
     "metadata": {
      "needs_background": "light"
     },
     "output_type": "display_data"
    }
   ],
   "source": [
    "#llamada____________________\n",
    "\n",
    "grid_g = randomized_grid(h=800, w=800,scale=100)\n",
    "\n",
    "plot_grid (grid=grid_g)\n",
    "    \n",
    "\n",
    "#path_bs='./data/brush_strokes/'\n",
    "#img = cv2.imread(path_bs + \"bs_01.jpg\")\n",
    "#grid = randomized_grid(img.shape[0], img.shape[1], scale=min(img.shape[0],img.shape[1])//5)\n",
    "\n",
    "#print (img.shape[0],img.shape[1], img.shape[0]*img.shape[1], len(grid))\n",
    "#print(img.shape[0]*img.shape[1]/len(grid))"
   ]
  },
  {
   "cell_type": "markdown",
   "id": "a77f19b1",
   "metadata": {},
   "source": [
    "## Paleta de colores \n",
    "\n",
    "primeros intentos\n",
    "https://codeboje.de/fun-colors-or-making-art-python/\n",
    "\n",
    "Palette from picture https://kylermintah.medium.com/coding-a-color-palette-generator-in-python-inspired-by-procreate-5x-b10df37834ae\n",
    "\n",
    "\n",
    "\n",
    "\n",
    "## para aplicar colores a los bs\n",
    "https://stackoverflow.com/questions/28999287/generate-random-colors-rgb\n",
    "\n",
    "##### ver si puedo modificar la selección de colores del modo siguiente:\n",
    "- elegir los colores de algún sitio (es un plus- plus para despuès, aunque no necesario, pero mola)\n",
    "- ver si hay características, además del grado de pastel, que se puedan parametrizar\n",
    "- limitar a colores que se alejen del blanco o negro .. que se alejen de extremos.\n",
    "\n",
    "\n",
    "\n"
   ]
  },
  {
   "cell_type": "code",
   "execution_count": 39,
   "id": "b3d994f2",
   "metadata": {},
   "outputs": [],
   "source": [
    "#https://gist.github.com/adewes/5884820\n",
    "\n",
    "import random\n",
    "import numpy as np\n",
    "import matplotlib.pyplot as plt\n",
    "\n",
    "%matplotlib inline\n",
    "\n",
    "\n",
    "def get_random_color(pastel_factor = 0.5):\n",
    "    return [(x+pastel_factor)/(1.0+pastel_factor) for x in [random.uniform(0,1.0) for i in [1,2,3]]]\n",
    "\n",
    "def color_distance(c1,c2):\n",
    "    return sum([abs(x[0]-x[1]) for x in zip(c1,c2)])\n",
    "\n",
    "def generate_new_color(existing_colors,pastel_factor = 0.5):\n",
    "    max_distance = None\n",
    "    best_color = None\n",
    "    for i in range(0,100):\n",
    "        color = get_random_color(pastel_factor = pastel_factor)\n",
    "        if not existing_colors:\n",
    "            return color\n",
    "        best_distance = min([color_distance(color,c) for c in existing_colors])\n",
    "        if not max_distance or best_distance > max_distance:\n",
    "            max_distance = best_distance\n",
    "            best_color = color\n",
    "    return best_color\n",
    "\n",
    "def generate_palette(n_colors,pastel_factor=0.5):\n",
    "    palette_color = []\n",
    "\n",
    "    for i in range(0,n_colors):\n",
    "        palette_color.append(generate_new_color(palette_color,pastel_factor = pastel_factor))\n",
    "       # print(palette_color)\n",
    "    return palette_color  \n",
    "\n",
    "   "
   ]
  },
  {
   "cell_type": "code",
   "execution_count": 40,
   "id": "cd08780e",
   "metadata": {},
   "outputs": [
    {
     "data": {
      "image/png": "[encoded data removed]",
      "text/plain": [
       "<Figure size 432x288 with 1 Axes>"
      ]
     },
     "metadata": {
      "needs_background": "light"
     },
     "output_type": "display_data"
    }
   ],
   "source": [
    "#https://stackoverflow.com/questions/51728957/create-a-color-palette-image-from-a-list-of-rgb-color\n",
    "#llamada____________________\n",
    "\n",
    "palette = generate_palette(15,pastel_factor=0.2)\n",
    "\n",
    "palette_array = np.array(palette)[np.newaxis, :, :]\n",
    "#print(palette_array)\n",
    "plt.imshow(palette_array)\n",
    "plt.axis('off')\n",
    "plt.show()"
   ]
  },
  {
   "cell_type": "code",
   "execution_count": 41,
   "id": "39af53f9",
   "metadata": {},
   "outputs": [
    {
     "data": {
      "text/plain": [
       "(1, 15, 3)"
      ]
     },
     "execution_count": 41,
     "metadata": {},
     "output_type": "execute_result"
    }
   ],
   "source": [
    "palette_array.shape"
   ]
  },
  {
   "cell_type": "markdown",
   "id": "beee0dcf",
   "metadata": {},
   "source": [
    "### Pintar sobre un frame\n",
    "- seleccionar frame vertical/horizontal....a partir de unas medidas +- limitadas\n",
    "- random del número de elementos a pintar (rango limitado)\n",
    "- random del elemento de nuestra bs_db\n",
    "- random del número de colores a usar (rango limitado)\n",
    "- a partir del dato anterior, crear paletta\n",
    "- pintar en el frame a partir de una selección de centros aleatoria\n",
    "- \n",
    "\n",
    "\n",
    "**Notas**\n",
    "- si tenemos + puntos que colores, se puede repetir algún color. Coger color aleatorio hasta terminar con los posibles, utilizar todos si los puntos de los bs son <= n_colores en paletta.\n",
    "- que se puedan seleccionar varias figuras para un mismo color, 1 a n (n puede ser 3-5, testear)\n",
    "\n"
   ]
  },
  {
   "cell_type": "code",
   "execution_count": null,
   "id": "9743d96d",
   "metadata": {},
   "outputs": [],
   "source": []
  },
  {
   "cell_type": "code",
   "execution_count": 42,
   "id": "27195aac",
   "metadata": {},
   "outputs": [],
   "source": [
    "#db of  brush strokes images in list\n",
    "\n",
    "import os\n",
    "\n",
    "# folder path\n",
    "dir_path = './data/brush_strokes/00_bs_db/'\n",
    "\n",
    "# list to store files\n",
    "lst_bs = []\n",
    "\n",
    "# Iterate directory\n",
    "for path in os.listdir(dir_path):\n",
    "    # check if current path is a file\n",
    "    if os.path.isfile(os.path.join(dir_path, path)):\n",
    "        lst_bs.append(path)\n",
    "#print(lst_bs, len(lst_bs))\n"
   ]
  },
  {
   "cell_type": "code",
   "execution_count": 43,
   "id": "749fddc8",
   "metadata": {},
   "outputs": [
    {
     "name": "stdout",
     "output_type": "stream",
     "text": [
      "Randomly selected frame size: (600, 200)\n",
      "Num de brush strokes 8. Donde las coordenadas de los centroides[(372, 126), (209, 26), (65, 149), (567, 24), (421, 158), (422, 59), (261, 12), (133, 151)]:\n",
      "['bsu_00061.jpg', 'bsu_00063.jpg', 'bsu_00096.jpg', 'bsu_00021.jpg', 'bsu_00139.jpg', 'bsu_00012.jpg', 'bsu_00001.jpg', 'bsu_00112.jpg']\n",
      "[131, 170, 203, 145, 83, 343, 82, 180]\n",
      "[-25, -11, 12, 5, -19, 14, -20, 21]\n"
     ]
    },
    {
     "data": {
      "image/png": "[encoded data removed]",
      "text/plain": [
       "<Figure size 432x288 with 1 Axes>"
      ]
     },
     "metadata": {
      "needs_background": "light"
     },
     "output_type": "display_data"
    },
    {
     "name": "stdout",
     "output_type": "stream",
     "text": [
      "Array con los colores seleccionados [[[0.9284969485279078, 0.8829984218120438, 0.6043963767180883], [0.40969316267060457, 0.34972779723812003, 0.9481445566793377], [0.5853956511072664, 0.5285222619513286, 0.4153017405662425], [0.6081848778209414, 0.9430017210186535, 0.9906263015898319], [0.9715451914851014, 0.37682435255511987, 0.8424019331254904], [0.3362877122379205, 0.9943541830837885, 0.6379765817317347], [0.7103162953898758, 0.7164645043504496, 0.7563680787702088], [0.9150820429843716, 0.341347030914184, 0.3851163951127427]]].\n"
     ]
    }
   ],
   "source": [
    "#frame. çTtamaños fijos, tupla con los posibles tamaños, selecc. aleatoria.\n",
    "\n",
    "lst_frame_sizes=[(600,600),(400,600),(600,400),(800,400),(400,800),(600,200), (200,600)]\n",
    "\n",
    "import random\n",
    "\n",
    "#______________frame selection from the list\n",
    "frame_size=random.choice(lst_frame_sizes)\n",
    "\n",
    "print(\"Randomly selected frame size:\",frame_size)\n",
    "\n",
    "\n",
    "bs_centers = randomized_grid(h=frame_size[0], w=frame_size[1],scale=150) # valorar introducir la scale en un random limitado\n",
    " \n",
    "\n",
    "print('Num de brush strokes {}. Donde las coordenadas de los centroides{}:'.format(len(bs_centers),bs_centers))\n",
    "\n",
    "\n",
    "#______________elegir aleatoriamente n=len(bs_centers) centroides donde se van a situar los bs, selección de bs\n",
    "bs_select=random.sample(lst_bs, len(bs_centers))\n",
    "print(bs_select)\n",
    "\n",
    "#______________ seleccionar un angulo para girar la figura [0,360]\n",
    "lst_degrees=[x for x in range(360)]\n",
    "degree=random.sample(lst_degrees, len(bs_centers))\n",
    "print(degree)\n",
    "\n",
    "#______________añadir un cambio en el tamaño del bs (-30)\n",
    "lst_pct=[(x-30) for x in range(61)]\n",
    "lst_scale_percent=random.sample(lst_pct, len(bs_centers))\n",
    "print(lst_scale_percent)\n",
    "\n",
    "\n",
    "\n",
    "#______________colors\n",
    "palette = generate_palette(len(bs_centers),pastel_factor=0.5)\n",
    "palette_array = np.array(palette)[np.newaxis, :, :]\n",
    "plt.imshow(palette_array)\n",
    "plt.axis('off')\n",
    "plt.show()\n",
    "lst_colors=palette_array.tolist()\n",
    "print('Array con los colores seleccionados {}.'.format(lst_colors))\n",
    "\n",
    "\n",
    "\n"
   ]
  },
  {
   "cell_type": "code",
   "execution_count": 52,
   "id": "aa972085",
   "metadata": {},
   "outputs": [
    {
     "ename": "IndexError",
     "evalue": "list index out of range",
     "output_type": "error",
     "traceback": [
      "\u001b[0;31m---------------------------------------------------------------------------\u001b[0m",
      "\u001b[0;31mIndexError\u001b[0m                                Traceback (most recent call last)",
      "\u001b[0;32m/tmp/ipykernel_2219/136982355.py\u001b[0m in \u001b[0;36m<module>\u001b[0;34m\u001b[0m\n\u001b[1;32m      5\u001b[0m \u001b[0;31m#adding bs's en bs_centers, en el color de la paleta\u001b[0m\u001b[0;34m\u001b[0m\u001b[0;34m\u001b[0m\u001b[0;34m\u001b[0m\u001b[0m\n\u001b[1;32m      6\u001b[0m \u001b[0;31m#[0]\u001b[0m\u001b[0;34m\u001b[0m\u001b[0;34m\u001b[0m\u001b[0;34m\u001b[0m\u001b[0m\n\u001b[0;32m----> 7\u001b[0;31m \u001b[0mbs\u001b[0m\u001b[0;34m=\u001b[0m\u001b[0mbs_select\u001b[0m\u001b[0;34m[\u001b[0m\u001b[0mk\u001b[0m\u001b[0;34m]\u001b[0m\u001b[0;34m\u001b[0m\u001b[0;34m\u001b[0m\u001b[0m\n\u001b[0m\u001b[1;32m      8\u001b[0m \u001b[0mbs_xy\u001b[0m\u001b[0;34m=\u001b[0m\u001b[0mbs_centers\u001b[0m\u001b[0;34m[\u001b[0m\u001b[0mk\u001b[0m\u001b[0;34m]\u001b[0m\u001b[0;34m\u001b[0m\u001b[0;34m\u001b[0m\u001b[0m\n\u001b[1;32m      9\u001b[0m \u001b[0mbs_color\u001b[0m\u001b[0;34m=\u001b[0m\u001b[0mlst_colors\u001b[0m\u001b[0;34m[\u001b[0m\u001b[0;36m0\u001b[0m\u001b[0;34m]\u001b[0m\u001b[0;34m[\u001b[0m\u001b[0mk\u001b[0m\u001b[0;34m]\u001b[0m\u001b[0;34m\u001b[0m\u001b[0;34m\u001b[0m\u001b[0m\n",
      "\u001b[0;31mIndexError\u001b[0m: list index out of range"
     ]
    }
   ],
   "source": [
    "from PIL import Image\n",
    "k=\n",
    "#generating the frame from frame_size\n",
    "blank_image = np.zeros((frame_size[0],frame_size[1],3), np.uint8)\n",
    "#adding bs's en bs_centers, en el color de la paleta\n",
    "#[0]\n",
    "bs=bs_select[k]\n",
    "bs_xy=bs_centers[k]\n",
    "bs_color=lst_colors[0][k]\n",
    "bs_scale=lst_scale_percent[k]\n",
    "bs_angle=degree[k]\n",
    "\n",
    "#blank_image[bs_xy[0],bs_xy[1]]=bs_color\n",
    "\n",
    "#rotation\n",
    "bs_k_im=Image.open(dir_path + bs)\n",
    "rotated=bs_k_im.rotate(bs_angle, expand=True)\n",
    "bs_k = np.asarray(rotated)\n",
    "\n",
    "#resize\n",
    "width = int(bs_k.shape[1] * (1 + bs_scale / 100))\n",
    "height = int(bs_k.shape[0] * (1 +  bs_scale / 100))\n",
    "#print(bs_k.shape[0],bs_k.shape[1])\n",
    "bs_k = cv2.resize(bs_k, (width, height))\n",
    "\n",
    "\n",
    "#centramos el bs en el punto donde tenemos que colocarlo\n",
    "bs_center=(int(bs_k.shape[0] /2) , int(bs_k.shape[1] /2))\n",
    "adjust=(bs_xy[0]-bs_center[0],bs_xy[1]-bs_center[1])\n",
    "\n",
    "rgb_tresh=200\n",
    "(x,y) = np.where((bs_k[:,:, 0] >rgb_tresh) & (bs_k[ :,:, 1] >rgb_tresh) & (bs_k[:, :, 2] >rgb_tresh))\n",
    "(x,y) = (x + adjust[0], y + adjust[1] )\n",
    "\n",
    "\n",
    "#implot = plt.imshow(blank_image)\n",
    "\n",
    "plt.axis('equal')\n",
    "plt.scatter(x,y,color=lst_colors[0][k])\n",
    "\n",
    "#plt.show()\n",
    "bs_k_im\n"
   ]
  },
  {
   "cell_type": "code",
   "execution_count": 32,
   "id": "2a060fa4",
   "metadata": {},
   "outputs": [
    {
     "name": "stdout",
     "output_type": "stream",
     "text": [
      "244 27\n",
      "blank image: (600, 400, 3) / imagen shape (135, 55, 3) / centro imagen (505, 244) / imagen scale 4 \n"
     ]
    }
   ],
   "source": [
    "print(bs_xy[1],\n",
    "bs_center[1])\n",
    "\n",
    "print('blank image: {} / imagen shape {} / centro imagen {} / imagen scale {} '.format(blank_image.shape,bs_k.shape,bs_xy,bs_scale))\n",
    "\n",
    "\n",
    "\n"
   ]
  },
  {
   "cell_type": "code",
   "execution_count": 34,
   "id": "06bca650",
   "metadata": {},
   "outputs": [],
   "source": [
    "#https://stackoverflow.com/questions/14063070/overlay-a-smaller-image-on-a-larger-image-python-opencv\n",
    "\n",
    "def overlay_image_alpha(img, img_overlay, x, y, alpha_mask=None):\n",
    "    \"\"\"Overlay `img_overlay` onto `img` at (x, y) and blend using optional `alpha_mask`.\n",
    "\n",
    "    `alpha_mask` must have same HxW as `img_overlay` and values in range [0, 1].\n",
    "    \"\"\"\n",
    "\n",
    "    if y < 0 or y + img_overlay.shape[0] > img.shape[0] or x < 0 or x + img_overlay.shape[1] > img.shape[1]:\n",
    "        y_origin = 0 if y > 0 else -y\n",
    "        y_end = img_overlay.shape[0] if y < 0 else min(img.shape[0] - y, img_overlay.shape[0])\n",
    "\n",
    "        x_origin = 0 if x > 0 else -x\n",
    "        x_end = img_overlay.shape[1] if x < 0 else min(img.shape[1] - x, img_overlay.shape[1])\n",
    "\n",
    "        img_overlay_crop = img_overlay[y_origin:y_end, x_origin:x_end]\n",
    "        alpha = alpha_mask[y_origin:y_end, x_origin:x_end] if alpha_mask is not None else None\n",
    "    else:\n",
    "        img_overlay_crop = img_overlay\n",
    "        alpha = alpha_mask\n",
    "\n",
    "    y1 = max(y, 0)\n",
    "    y2 = min(img.shape[0], y1 + img_overlay_crop.shape[0])\n",
    "\n",
    "    x1 = max(x, 0)\n",
    "    x2 = min(img.shape[1], x1 + img_overlay_crop.shape[1])\n",
    "\n",
    "    img_crop = img[y1:y2, x1:x2]\n",
    "    img_crop[:] = alpha * img_overlay_crop + (1.0 - alpha) * img_crop if alpha is not None else img_overlay_crop"
   ]
  },
  {
   "cell_type": "code",
   "execution_count": 35,
   "id": "7fbfcc79",
   "metadata": {},
   "outputs": [
    {
     "ename": "ValueError",
     "evalue": "could not broadcast input array from shape (135,17,3) into shape (135,0,3)",
     "output_type": "error",
     "traceback": [
      "\u001b[0;31m---------------------------------------------------------------------------\u001b[0m",
      "\u001b[0;31mValueError\u001b[0m                                Traceback (most recent call last)",
      "\u001b[0;32m/tmp/ipykernel_2219/1415444758.py\u001b[0m in \u001b[0;36m<module>\u001b[0;34m\u001b[0m\n\u001b[0;32m----> 1\u001b[0;31m \u001b[0moverlay_image_alpha\u001b[0m\u001b[0;34m(\u001b[0m\u001b[0mblank_image\u001b[0m\u001b[0;34m,\u001b[0m\u001b[0mbs_k\u001b[0m\u001b[0;34m,\u001b[0m\u001b[0madjust\u001b[0m\u001b[0;34m[\u001b[0m\u001b[0;36m0\u001b[0m\u001b[0;34m]\u001b[0m\u001b[0;34m,\u001b[0m\u001b[0madjust\u001b[0m\u001b[0;34m[\u001b[0m\u001b[0;36m1\u001b[0m\u001b[0;34m]\u001b[0m\u001b[0;34m,\u001b[0m\u001b[0malpha_mask\u001b[0m\u001b[0;34m=\u001b[0m\u001b[0;32mNone\u001b[0m\u001b[0;34m)\u001b[0m\u001b[0;34m\u001b[0m\u001b[0;34m\u001b[0m\u001b[0m\n\u001b[0m\u001b[1;32m      2\u001b[0m \u001b[0mImage\u001b[0m\u001b[0;34m.\u001b[0m\u001b[0mfromarray\u001b[0m\u001b[0;34m(\u001b[0m\u001b[0mblank_image\u001b[0m\u001b[0;34m)\u001b[0m\u001b[0;34m.\u001b[0m\u001b[0msave\u001b[0m\u001b[0;34m(\u001b[0m\u001b[0;34m\"img_result_borrar.jpg\"\u001b[0m\u001b[0;34m)\u001b[0m\u001b[0;34m\u001b[0m\u001b[0;34m\u001b[0m\u001b[0m\n",
      "\u001b[0;32m/tmp/ipykernel_2219/2951508600.py\u001b[0m in \u001b[0;36moverlay_image_alpha\u001b[0;34m(img, img_overlay, x, y, alpha_mask)\u001b[0m\n\u001b[1;32m     27\u001b[0m \u001b[0;34m\u001b[0m\u001b[0m\n\u001b[1;32m     28\u001b[0m     \u001b[0mimg_crop\u001b[0m \u001b[0;34m=\u001b[0m \u001b[0mimg\u001b[0m\u001b[0;34m[\u001b[0m\u001b[0my1\u001b[0m\u001b[0;34m:\u001b[0m\u001b[0my2\u001b[0m\u001b[0;34m,\u001b[0m \u001b[0mx1\u001b[0m\u001b[0;34m:\u001b[0m\u001b[0mx2\u001b[0m\u001b[0;34m]\u001b[0m\u001b[0;34m\u001b[0m\u001b[0;34m\u001b[0m\u001b[0m\n\u001b[0;32m---> 29\u001b[0;31m     \u001b[0mimg_crop\u001b[0m\u001b[0;34m[\u001b[0m\u001b[0;34m:\u001b[0m\u001b[0;34m]\u001b[0m \u001b[0;34m=\u001b[0m \u001b[0malpha\u001b[0m \u001b[0;34m*\u001b[0m \u001b[0mimg_overlay_crop\u001b[0m \u001b[0;34m+\u001b[0m \u001b[0;34m(\u001b[0m\u001b[0;36m1.0\u001b[0m \u001b[0;34m-\u001b[0m \u001b[0malpha\u001b[0m\u001b[0;34m)\u001b[0m \u001b[0;34m*\u001b[0m \u001b[0mimg_crop\u001b[0m \u001b[0;32mif\u001b[0m \u001b[0malpha\u001b[0m \u001b[0;32mis\u001b[0m \u001b[0;32mnot\u001b[0m \u001b[0;32mNone\u001b[0m \u001b[0;32melse\u001b[0m \u001b[0mimg_overlay_crop\u001b[0m\u001b[0;34m\u001b[0m\u001b[0;34m\u001b[0m\u001b[0m\n\u001b[0m",
      "\u001b[0;31mValueError\u001b[0m: could not broadcast input array from shape (135,17,3) into shape (135,0,3)"
     ]
    }
   ],
   "source": [
    "overlay_image_alpha(blank_image,bs_k,adjust[0],adjust[1],alpha_mask=None)\n",
    "Image.fromarray(blank_image).save(\"img_result_borrar.jpg\")"
   ]
  },
  {
   "cell_type": "code",
   "execution_count": 33,
   "id": "4480b17a",
   "metadata": {},
   "outputs": [
    {
     "ename": "NameError",
     "evalue": "name 'img_crop' is not defined",
     "output_type": "error",
     "traceback": [
      "\u001b[0;31m---------------------------------------------------------------------------\u001b[0m",
      "\u001b[0;31mNameError\u001b[0m                                 Traceback (most recent call last)",
      "\u001b[0;32m/tmp/ipykernel_2135/3709417187.py\u001b[0m in \u001b[0;36m<module>\u001b[0;34m\u001b[0m\n\u001b[0;32m----> 1\u001b[0;31m \u001b[0mplt\u001b[0m\u001b[0;34m.\u001b[0m\u001b[0mimshow\u001b[0m\u001b[0;34m(\u001b[0m\u001b[0mimg_crop\u001b[0m\u001b[0;34m)\u001b[0m\u001b[0;34m\u001b[0m\u001b[0;34m\u001b[0m\u001b[0m\n\u001b[0m\u001b[1;32m      2\u001b[0m \u001b[0;31m#plt.imshow(bs_k)\u001b[0m\u001b[0;34m\u001b[0m\u001b[0;34m\u001b[0m\u001b[0;34m\u001b[0m\u001b[0m\n\u001b[1;32m      3\u001b[0m \u001b[0mprint\u001b[0m \u001b[0;34m(\u001b[0m\u001b[0madjust\u001b[0m\u001b[0;34m[\u001b[0m\u001b[0;36m0\u001b[0m\u001b[0;34m]\u001b[0m\u001b[0;34m,\u001b[0m\u001b[0madjust\u001b[0m\u001b[0;34m[\u001b[0m\u001b[0;36m1\u001b[0m\u001b[0;34m]\u001b[0m\u001b[0;34m)\u001b[0m\u001b[0;34m\u001b[0m\u001b[0;34m\u001b[0m\u001b[0m\n",
      "\u001b[0;31mNameError\u001b[0m: name 'img_crop' is not defined"
     ]
    }
   ],
   "source": [
    "plt.imshow(img_crop)\n",
    "#plt.imshow(bs_k)\n",
    "print (adjust[0],adjust[1])\n"
   ]
  },
  {
   "cell_type": "code",
   "execution_count": 37,
   "id": "6261c170",
   "metadata": {},
   "outputs": [],
   "source": [
    "import cv2\n",
    "\n",
    "def merge_image(back, front, x,y):\n",
    "    # convert to rgba\n",
    "    if back.shape[2] == 3:\n",
    "        back = cv2.cvtColor(back, cv2.COLOR_BGR2BGRA)\n",
    "    if front.shape[2] == 3:\n",
    "        front = cv2.cvtColor(front, cv2.COLOR_BGR2BGRA)\n",
    "\n",
    "    # crop the overlay from both images\n",
    "    bh,bw = back.shape[:2]\n",
    "    fh,fw = front.shape[:2]\n",
    "    x1, x2 = max(x, 0), min(x+fw, bw)\n",
    "    y1, y2 = max(y, 0), min(y+fh, bh)\n",
    "    front_cropped = front[y1-y:y2-y, x1-x:x2-x]\n",
    "    back_cropped = back[y1:y2, x1:x2]\n",
    "\n",
    "    alpha_front = front_cropped[:,:,3:4] / 255\n",
    "    alpha_back = back_cropped[:,:,3:4] / 255\n",
    "    \n",
    "    # replace an area in result with overlay\n",
    "    result = back.copy()\n",
    "    print(f'af: {alpha_front.shape}\\nab: {alpha_back.shape}\\nfront_cropped: {front_cropped.shape}\\nback_cropped: {back_cropped.shape}')\n",
    "    result[y1:y2, x1:x2, :3] = alpha_front * front_cropped[:,:,:3] + (1-alpha_front) * back_cropped[:,:,:3]\n",
    "    result[y1:y2, x1:x2, 3:4] = (alpha_front + alpha_back) / (1 + alpha_front*alpha_back) * 255\n",
    "\n",
    "    return result"
   ]
  },
  {
   "cell_type": "code",
   "execution_count": 41,
   "id": "519e6a10",
   "metadata": {},
   "outputs": [
    {
     "name": "stdout",
     "output_type": "stream",
     "text": [
      "af: (0, 54, 1)\n",
      "ab: (0, 54, 1)\n",
      "front_cropped: (0, 54, 4)\n",
      "back_cropped: (0, 54, 4)\n"
     ]
    },
    {
     "data": {
      "text/plain": [
       "<matplotlib.image.AxesImage at 0x7f7eb1be74c0>"
      ]
     },
     "execution_count": 41,
     "metadata": {},
     "output_type": "execute_result"
    },
    {
     "data": {
      "image/png": "[encoded data removed]",
      "text/plain": [
       "<Figure size 432x288 with 1 Axes>"
      ]
     },
     "metadata": {
      "needs_background": "light"
     },
     "output_type": "display_data"
    }
   ],
   "source": [
    "aa=merge_image(blank_image,bs_k,adjust[0],adjust[1])\n",
    "\n",
    "plt.imshow(aa)\n"
   ]
  },
  {
   "cell_type": "code",
   "execution_count": 151,
   "id": "21a77d5b",
   "metadata": {},
   "outputs": [
    {
     "data": {
      "text/plain": [
       "matplotlib.collections.PathCollection"
      ]
     },
     "execution_count": 151,
     "metadata": {},
     "output_type": "execute_result"
    }
   ],
   "source": [
    "blank_image[1:10,1:20] +=[]"
   ]
  },
  {
   "cell_type": "code",
   "execution_count": 145,
   "id": "dc8e3521",
   "metadata": {},
   "outputs": [
    {
     "ename": "error",
     "evalue": "OpenCV(4.3.0) /io/opencv/modules/core/src/arithm.cpp:666: error: (-209:Sizes of input arguments do not match) The operation is neither 'array op array' (where arrays have the same size and the same number of channels), nor 'array op scalar', nor 'scalar op array' in function 'arithm_op'\n",
     "output_type": "error",
     "traceback": [
      "\u001b[0;31m---------------------------------------------------------------------------\u001b[0m",
      "\u001b[0;31merror\u001b[0m                                     Traceback (most recent call last)",
      "\u001b[0;32m/tmp/ipykernel_2130/3261094513.py\u001b[0m in \u001b[0;36m<module>\u001b[0;34m\u001b[0m\n\u001b[1;32m     13\u001b[0m \u001b[0;31m# OPTIONAL: make the circles transparent (larger alpha --> more transparent)\u001b[0m\u001b[0;34m\u001b[0m\u001b[0;34m\u001b[0m\u001b[0;34m\u001b[0m\u001b[0m\n\u001b[1;32m     14\u001b[0m \u001b[0malpha\u001b[0m \u001b[0;34m=\u001b[0m \u001b[0;36m0\u001b[0m\u001b[0;34m\u001b[0m\u001b[0;34m\u001b[0m\u001b[0m\n\u001b[0;32m---> 15\u001b[0;31m \u001b[0mproj_image\u001b[0m \u001b[0;34m=\u001b[0m \u001b[0mcv2\u001b[0m\u001b[0;34m.\u001b[0m\u001b[0maddWeighted\u001b[0m\u001b[0;34m(\u001b[0m\u001b[0mproj_image\u001b[0m\u001b[0;34m,\u001b[0m \u001b[0;36m1\u001b[0m \u001b[0;34m-\u001b[0m \u001b[0malpha\u001b[0m\u001b[0;34m,\u001b[0m\u001b[0mbs_k\u001b[0m \u001b[0;34m,\u001b[0m \u001b[0malpha\u001b[0m\u001b[0;34m,\u001b[0m \u001b[0;36m0\u001b[0m\u001b[0;34m)\u001b[0m\u001b[0;34m\u001b[0m\u001b[0;34m\u001b[0m\u001b[0m\n\u001b[0m",
      "\u001b[0;31merror\u001b[0m: OpenCV(4.3.0) /io/opencv/modules/core/src/arithm.cpp:666: error: (-209:Sizes of input arguments do not match) The operation is neither 'array op array' (where arrays have the same size and the same number of channels), nor 'array op scalar', nor 'scalar op array' in function 'arithm_op'\n"
     ]
    }
   ],
   "source": [
    "import numpy as np\n",
    "import matplotlib.pyplot as plt\n",
    "import imageio\n",
    "from contextlib import contextmanager\n",
    "\n",
    "@contextmanager\n",
    "def plot_over(img, extent=None, origin=\"upper\", dpi=100):\n",
    "    h, w, d = img.shape\n",
    "    assert d == 3\n",
    "    if extent is None:\n",
    "        xmin, xmax, ymin, ymax = -0.5, w + 0.5, -0.5, h + 0.5\n",
    "    else:\n",
    "        xmin, xmax, ymin, ymax = extent\n",
    "    if origin == \"upper\":\n",
    "        ymin, ymax = ymax, ymin\n",
    "    elif origin != \"lower\":\n",
    "        raise ValueError(\"origin must be 'upper' or 'lower'\")\n",
    "    fig = plt.figure(figsize=(w / dpi, h / dpi), dpi=dpi)\n",
    "    ax = plt.Axes(fig, (0, 0, 1, 1))\n",
    "    ax.set_axis_off()\n",
    "    ax.set_xlim(xmin, xmax)\n",
    "    ax.set_ylim(ymin, ymax)\n",
    "    fig.add_axes(ax)\n",
    "    fig.set_facecolor((0, 0, 0, 0))\n",
    "    yield ax\n",
    "    fig.canvas.draw()\n",
    "    plot = np.frombuffer(fig.canvas.buffer_rgba(), dtype=np.uint8).reshape(h, w, 4)\n",
    "    plt.close(fig)\n",
    "    rgb = plot[..., :3]\n",
    "    alpha = plot[..., 3, None]\n",
    "    img[...] = ((255 - alpha) * img.astype(np.uint16) + alpha * rgb.astype(np.uint16)) // 255\n",
    "\n",
    "img = imageio.imread(\"image.jpg\")\n",
    "img_with_plot = img.copy()\n",
    "with plot_over(img_with_plot) as ax:\n",
    "    ax.scatter(...)\n",
    "    # etc\n",
    "imageio.imwrite(\"result.png\", img_with_plot)"
   ]
  },
  {
   "cell_type": "code",
   "execution_count": 118,
   "id": "b5d70504",
   "metadata": {},
   "outputs": [
    {
     "data": {
      "image/png": "[encoded data removed]",
      "text/plain": [
       "<Figure size 432x288 with 1 Axes>"
      ]
     },
     "metadata": {
      "needs_background": "light"
     },
     "output_type": "display_data"
    }
   ],
   "source": [
    "import matplotlib.pyplot as plt\n",
    "im = plt.imread(dir_path + bs_select[k])\n",
    "implot = plt.imshow(im)\n",
    "\n",
    "# put a blue dot at (10, 20)\n",
    "plt.scatter([10], [20])\n",
    "\n",
    "# put a red dot, size 40, at 2 locations:\n",
    "plt.scatter(x=[30, 40], y=[50, 60], c='r', s=40)\n",
    "\n",
    "plt.show()"
   ]
  },
  {
   "cell_type": "code",
   "execution_count": 143,
   "id": "42dcdec9",
   "metadata": {},
   "outputs": [
    {
     "data": {
      "text/plain": [
       "PIL.JpegImagePlugin.JpegImageFile"
      ]
     },
     "execution_count": 143,
     "metadata": {},
     "output_type": "execute_result"
    }
   ],
   "source": [
    "#lst_f= [x,y for x,y in (x,y)  if x>0 ]\n",
    "frame_size\n",
    "type(x)\n",
    "frame_size\n",
    "adjust[1]\n",
    "type(bs_k_im)"
   ]
  },
  {
   "cell_type": "code",
   "execution_count": 55,
   "id": "7813a813",
   "metadata": {},
   "outputs": [
    {
     "name": "stdout",
     "output_type": "stream",
     "text": [
      "(95, 90)\n"
     ]
    },
    {
     "data": {
      "text/plain": [
       "(51, -5)"
      ]
     },
     "execution_count": 55,
     "metadata": {},
     "output_type": "execute_result"
    }
   ],
   "source": [
    "\n",
    "\n",
    "\n",
    "\n",
    "print(bs_center)\n",
    "adjust=(bs_xy[0]-bs_center[0],bs_xy[1]-bs_center[1])\n",
    "adjust\n"
   ]
  },
  {
   "cell_type": "code",
   "execution_count": 57,
   "id": "c39ca0a6",
   "metadata": {},
   "outputs": [
    {
     "name": "stdout",
     "output_type": "stream",
     "text": [
      "191 181\n"
     ]
    },
    {
     "data": {
      "text/plain": [
       "(array([ 58,  60,  61, ..., 226, 226, 227]),\n",
       " array([94, 94, 94, ..., 81, 82, 79]))"
      ]
     },
     "execution_count": 57,
     "metadata": {},
     "output_type": "execute_result"
    },
    {
     "data": {
      "image/png": "[encoded data removed]",
      "text/plain": [
       "<Figure size 432x288 with 1 Axes>"
      ]
     },
     "metadata": {
      "needs_background": "light"
     },
     "output_type": "display_data"
    }
   ],
   "source": [
    "1 +  bs_scale / 100\n",
    "print(bs_k.shape[0],bs_k.shape[1])\n",
    "plt.imshow(bs_k_im)\n",
    "(x,y)"
   ]
  },
  {
   "cell_type": "code",
   "execution_count": 81,
   "id": "d0730369",
   "metadata": {},
   "outputs": [
    {
     "name": "stdout",
     "output_type": "stream",
     "text": [
      "[94 94 94 ... 81 82 79]\n"
     ]
    }
   ],
   "source": []
  },
  {
   "cell_type": "code",
   "execution_count": 39,
   "id": "1a1bdaa6",
   "metadata": {},
   "outputs": [
    {
     "data": {
      "text/plain": [
       "'bsu_00018.jpg'"
      ]
     },
     "execution_count": 39,
     "metadata": {},
     "output_type": "execute_result"
    },
    {
     "data": {
      "image/png": "[encoded data removed]",
      "text/plain": [
       "<Figure size 432x288 with 1 Axes>"
      ]
     },
     "metadata": {
      "needs_background": "light"
     },
     "output_type": "display_data"
    }
   ],
   "source": [
    "\n",
    "plt.imshow(bs_k)\n",
    "bs"
   ]
  },
  {
   "cell_type": "code",
   "execution_count": 45,
   "id": "d0a2ac5c",
   "metadata": {},
   "outputs": [
    {
     "data": {
      "text/plain": [
       "(146, 85)"
      ]
     },
     "execution_count": 45,
     "metadata": {},
     "output_type": "execute_result"
    }
   ],
   "source": [
    "bs_color\n",
    "bs_xy\n",
    "bs\n",
    "bs_scale\n",
    "bs_angle\n",
    "\n",
    "bs_k\n",
    "bs_scale\n",
    "bs_angle\n",
    "bs_xy"
   ]
  },
  {
   "cell_type": "code",
   "execution_count": 10,
   "id": "5b8ebe35",
   "metadata": {},
   "outputs": [
    {
     "data": {
      "text/plain": [
       "[-0.05, -0.04, -0.03, -0.02, -0.01, 0.0, 0.01, 0.02, 0.03, 0.04, 0.05]"
      ]
     },
     "execution_count": 10,
     "metadata": {},
     "output_type": "execute_result"
    }
   ],
   "source": [
    "lst_size_pct=[(x-5)/100 for x in range(11)]\n",
    "lst_size_pct"
   ]
  },
  {
   "cell_type": "code",
   "execution_count": 108,
   "id": "51d2fdab",
   "metadata": {},
   "outputs": [
    {
     "data": {
      "image/png": "[encoded data removed]",
      "text/plain": [
       "<Figure size 432x288 with 1 Axes>"
      ]
     },
     "metadata": {
      "needs_background": "light"
     },
     "output_type": "display_data"
    },
    {
     "data": {
      "image/png": "[encoded data removed]",
      "text/plain": [
       "<Figure size 432x288 with 1 Axes>"
      ]
     },
     "metadata": {
      "needs_background": "light"
     },
     "output_type": "display_data"
    },
    {
     "data": {
      "image/png": "[encoded data removed]",
      "text/plain": [
       "<Figure size 432x288 with 1 Axes>"
      ]
     },
     "metadata": {
      "needs_background": "light"
     },
     "output_type": "display_data"
    }
   ],
   "source": [
    "#vamos añadiendo los bs, localizando los puntos de las mask en el frame y añadiendo colores.....\n",
    "#el primero\n",
    "#tener  en cuenta el tamaño de los bs, aunque luego se manipula, todos tienen que tener un tamaño limitado en la base\n",
    "#https://stackoverflow.com/questions/33287156/specify-color-of-each-point-in-scatter-plot-matplotlib\n",
    "\n",
    "plot_grid (grid=bs_centers)\n",
    "\n",
    "#plt.scatter (bs_centers[0][0],bs_centers[0][1])\n",
    "#plt.scatter (list(zip(*bs_centers))[0],list(zip(*bs_centers))[1])\n",
    "plt.imshow(palette_array)\n",
    "plt.axis('off')\n",
    "plt.show()\n",
    "\n",
    "for k in range(len(bs_centers)):\n",
    "    plt.scatter (list(zip(*bs_centers))[0][k],list(zip(*bs_centers))[1][k],color=lst_colors[0][k])\n",
    "\n",
    "for k in range(len(bs_centers)):\n",
    "    plt.scatter (list(zip(*bs_centers))[0][k],list(zip(*bs_centers))[1][k],color=lst_colors[0][k])\n"
   ]
  },
  {
   "cell_type": "code",
   "execution_count": 163,
   "id": "ffcb822c",
   "metadata": {},
   "outputs": [
    {
     "data": {
      "text/plain": [
       "<matplotlib.collections.PathCollection at 0x7f92d1da0d00>"
      ]
     },
     "execution_count": 163,
     "metadata": {},
     "output_type": "execute_result"
    },
    {
     "data": {
      "image/png": "[encoded data removed]",
      "text/plain": [
       "<Figure size 432x288 with 1 Axes>"
      ]
     },
     "metadata": {
      "needs_background": "light"
     },
     "output_type": "display_data"
    }
   ],
   "source": [
    "# nota_1  https://levelup.gitconnected.com/how-to-approach-image-overlay-problems-ad2d4a8e22bc\n",
    "k=10\n",
    "\n",
    "image_1 = cv2.imread(dir_path + bs_select[k])\n",
    "image_1 = (255-image_1)\n",
    "gray = cv2.cvtColor(image_1, cv2.COLOR_BGR2GRAY) #to gray scale\n",
    "blur = cv2.GaussianBlur(gray, (3,3), 0)\n",
    "thresh  = cv2.threshold(blur, 225, 255, cv2.THRESH_BINARY + cv2.THRESH_OTSU)[1]\n",
    "#print(image_1)\n",
    "\n",
    "#convertir de vuelta el thresh a rgb\n",
    "backtorgb = cv2.cvtColor(thresh,cv2.COLOR_GRAY2RGB)\n",
    "cv2.imwrite(\"test_borrar.jpg\", backtorgb)\n",
    "\n",
    "\n",
    "#(x, y) = np.where((backtorgb[:,:, 0] ==0) & (backtorgb[ :,:, 1]==0) & (backtorgb[:, :, 2]==0))\n",
    "#plt.scatter(x, y,color=lst_colors[0][k])\n",
    "\n",
    "(x,y) = np.where((image_1[:,:, 0] <230) & (image_1[ :,:, 1] <230) & (image_1[:, :, 2] <230))\n",
    "plt.axis('equal')\n",
    "plt.scatter(y,x,color=lst_colors[0][k])\n"
   ]
  },
  {
   "cell_type": "code",
   "execution_count": null,
   "id": "0dc99ff9",
   "metadata": {},
   "outputs": [],
   "source": []
  },
  {
   "cell_type": "code",
   "execution_count": 164,
   "id": "6824168b",
   "metadata": {},
   "outputs": [
    {
     "data": {
      "image/png": "[encoded data removed]",
      "text/plain": [
       "<Figure size 432x288 with 1 Axes>"
      ]
     },
     "metadata": {
      "needs_background": "light"
     },
     "output_type": "display_data"
    },
    {
     "data": {
      "image/png": "[encoded data removed]",
      "text/plain": [
       "<Figure size 432x288 with 1 Axes>"
      ]
     },
     "metadata": {
      "needs_background": "light"
     },
     "output_type": "display_data"
    }
   ],
   "source": [
    "plt.subplot(1,1,1),plt.imshow(backtorgb,'gray',vmin=0,vmax=255)\n",
    "plt.show()\n",
    "#plt.title('test')\n",
    "#plt.xticks([]),plt.yticks([])\n",
    "plt.subplot(1,1,1),plt.imshow(image_1,'gray',vmin=0,vmax=255)\n",
    "plt.show()"
   ]
  },
  {
   "cell_type": "code",
   "execution_count": 86,
   "id": "68385e66",
   "metadata": {},
   "outputs": [
    {
     "data": {
      "text/plain": [
       "<matplotlib.image.AxesImage at 0x7f92d2d451c0>"
      ]
     },
     "execution_count": 86,
     "metadata": {},
     "output_type": "execute_result"
    },
    {
     "data": {
      "image/png": "[encoded data removed]",
      "text/plain": [
       "<Figure size 432x288 with 1 Axes>"
      ]
     },
     "metadata": {
      "needs_background": "light"
     },
     "output_type": "display_data"
    }
   ],
   "source": [
    "plt.imshow(thresh,'gray',vmin=0,vmax=255)"
   ]
  },
  {
   "cell_type": "code",
   "execution_count": null,
   "id": "fd4ab226",
   "metadata": {},
   "outputs": [],
   "source": []
  },
  {
   "cell_type": "code",
   "execution_count": null,
   "id": "d828a6e9",
   "metadata": {},
   "outputs": [],
   "source": []
  },
  {
   "cell_type": "code",
   "execution_count": null,
   "id": "ccb41923",
   "metadata": {},
   "outputs": [],
   "source": []
  },
  {
   "cell_type": "code",
   "execution_count": 77,
   "id": "65d2ac8f",
   "metadata": {},
   "outputs": [
    {
     "ename": "AttributeError",
     "evalue": "module 'matplotlib.colors' has no attribute 'normalize'",
     "output_type": "error",
     "traceback": [
      "\u001b[0;31m---------------------------------------------------------------------------\u001b[0m",
      "\u001b[0;31mAttributeError\u001b[0m                            Traceback (most recent call last)",
      "\u001b[0;32m/tmp/ipykernel_2176/3160509241.py\u001b[0m in \u001b[0;36m<module>\u001b[0;34m\u001b[0m\n\u001b[1;32m      5\u001b[0m \u001b[0ma\u001b[0m \u001b[0;34m=\u001b[0m \u001b[0mnp\u001b[0m\u001b[0;34m.\u001b[0m\u001b[0mrandom\u001b[0m\u001b[0;34m.\u001b[0m\u001b[0mrandn\u001b[0m\u001b[0;34m(\u001b[0m\u001b[0;36m10\u001b[0m\u001b[0;34m,\u001b[0m\u001b[0;36m10\u001b[0m\u001b[0;34m)\u001b[0m\u001b[0;34m\u001b[0m\u001b[0;34m\u001b[0m\u001b[0m\n\u001b[1;32m      6\u001b[0m \u001b[0;34m\u001b[0m\u001b[0m\n\u001b[0;32m----> 7\u001b[0;31m \u001b[0mnorm\u001b[0m \u001b[0;34m=\u001b[0m \u001b[0mcolors\u001b[0m\u001b[0;34m.\u001b[0m\u001b[0mnormalize\u001b[0m\u001b[0;34m(\u001b[0m\u001b[0;34m)\u001b[0m\u001b[0;34m\u001b[0m\u001b[0;34m\u001b[0m\u001b[0m\n\u001b[0m\u001b[1;32m      8\u001b[0m \u001b[0mcmap\u001b[0m \u001b[0;34m=\u001b[0m \u001b[0mcm\u001b[0m\u001b[0;34m.\u001b[0m\u001b[0mhsv\u001b[0m\u001b[0;34m\u001b[0m\u001b[0;34m\u001b[0m\u001b[0m\n\u001b[1;32m      9\u001b[0m \u001b[0ma_colors\u001b[0m \u001b[0;34m=\u001b[0m \u001b[0mcmap\u001b[0m\u001b[0;34m(\u001b[0m\u001b[0mnorm\u001b[0m\u001b[0;34m(\u001b[0m\u001b[0ma\u001b[0m\u001b[0;34m)\u001b[0m\u001b[0;34m)\u001b[0m\u001b[0;34m\u001b[0m\u001b[0;34m\u001b[0m\u001b[0m\n",
      "\u001b[0;31mAttributeError\u001b[0m: module 'matplotlib.colors' has no attribute 'normalize'"
     ]
    }
   ],
   "source": [
    "import matplotlib.pyplot as plt\n",
    "from matplotlib import colors, cm\n",
    "import numpy as np\n",
    "\n",
    "a = np.random.randn(10,10)\n",
    "\n",
    "norm = colors.normalize()\n",
    "cmap = cm.hsv\n",
    "a_colors = cmap(norm(a))\n",
    "\n",
    "col1 = colors.colorConverter.to_rgba('w')\n",
    "col2 = colors.colorConverter.to_rgba('k')\n",
    "\n",
    "a_colors[a<-0.1,:] = col1\n",
    "a_colors[a>0.1,:] = col2\n",
    "plt.imshow(a_colors, interpolation='nearest')\n",
    "plt.show()"
   ]
  },
  {
   "cell_type": "code",
   "execution_count": null,
   "id": "32622336",
   "metadata": {},
   "outputs": [],
   "source": [
    "\n"
   ]
  },
  {
   "cell_type": "code",
   "execution_count": null,
   "id": "a671c71e",
   "metadata": {},
   "outputs": [],
   "source": []
  },
  {
   "cell_type": "code",
   "execution_count": null,
   "id": "96b2ebea",
   "metadata": {},
   "outputs": [],
   "source": []
  },
  {
   "cell_type": "code",
   "execution_count": null,
   "id": "5285d78f",
   "metadata": {},
   "outputs": [],
   "source": []
  },
  {
   "cell_type": "code",
   "execution_count": null,
   "id": "4db91f78",
   "metadata": {},
   "outputs": [],
   "source": []
  },
  {
   "cell_type": "code",
   "execution_count": null,
   "id": "6a6cd3c4",
   "metadata": {},
   "outputs": [],
   "source": []
  },
  {
   "cell_type": "code",
   "execution_count": null,
   "id": "9ae5f059",
   "metadata": {},
   "outputs": [],
   "source": []
  },
  {
   "cell_type": "code",
   "execution_count": null,
   "id": "71698a1c",
   "metadata": {},
   "outputs": [],
   "source": []
  },
  {
   "cell_type": "code",
   "execution_count": null,
   "id": "bddf1417",
   "metadata": {},
   "outputs": [],
   "source": [
    "# Aplicar un ratio de tamaño a los bs - percent by which the image is resized\n",
    "scale_percent = lst_scale_percent(0)\n",
    "\n",
    "#calculate the 50 percent of original dimensions\n",
    "width = int(src.shape[1] * scale_percent / 100)\n",
    "height = int(src.shape[0] * scale_percent / 100)\n",
    "\n",
    "# dsize\n",
    "dsize = (width, height)\n",
    "\n",
    "# resize image\n",
    "output = cv2.resize(src, dsize)\n"
   ]
  },
  {
   "cell_type": "code",
   "execution_count": null,
   "id": "6206e05e",
   "metadata": {},
   "outputs": [],
   "source": [
    "\n"
   ]
  },
  {
   "cell_type": "code",
   "execution_count": null,
   "id": "1bdea5db",
   "metadata": {},
   "outputs": [],
   "source": []
  },
  {
   "cell_type": "code",
   "execution_count": 199,
   "id": "b917f654",
   "metadata": {},
   "outputs": [
    {
     "data": {
      "text/plain": [
       "list"
      ]
     },
     "execution_count": 199,
     "metadata": {},
     "output_type": "execute_result"
    }
   ],
   "source": [
    "type(bs_centers) #coordenadas\n",
    "type(bs_select) #figuras\n",
    "type(degree) # degrees to apply to figures\n",
    "\n",
    "type(lst_colors) # colors\n"
   ]
  },
  {
   "cell_type": "code",
   "execution_count": 115,
   "id": "5ca6a9cd",
   "metadata": {},
   "outputs": [
    {
     "ename": "AttributeError",
     "evalue": "'numpy.ndarray' object has no attribute 'paste'",
     "output_type": "error",
     "traceback": [
      "\u001b[0;31m---------------------------------------------------------------------------\u001b[0m",
      "\u001b[0;31mAttributeError\u001b[0m                            Traceback (most recent call last)",
      "\u001b[0;32m/tmp/ipykernel_2130/708025686.py\u001b[0m in \u001b[0;36m<module>\u001b[0;34m\u001b[0m\n\u001b[1;32m      9\u001b[0m \u001b[0mmask\u001b[0m \u001b[0;34m=\u001b[0m \u001b[0mImage\u001b[0m\u001b[0;34m.\u001b[0m\u001b[0mopen\u001b[0m\u001b[0;34m(\u001b[0m\u001b[0mdir_path\u001b[0m \u001b[0;34m+\u001b[0m \u001b[0mbs_file\u001b[0m\u001b[0;34m)\u001b[0m\u001b[0;34m.\u001b[0m\u001b[0mconvert\u001b[0m\u001b[0;34m(\u001b[0m\u001b[0;34m'L'\u001b[0m\u001b[0;34m)\u001b[0m\u001b[0;34m.\u001b[0m\u001b[0mresize\u001b[0m\u001b[0;34m(\u001b[0m\u001b[0mim1\u001b[0m\u001b[0;34m.\u001b[0m\u001b[0msize\u001b[0m\u001b[0;34m)\u001b[0m\u001b[0;34m\u001b[0m\u001b[0;34m\u001b[0m\u001b[0m\n\u001b[1;32m     10\u001b[0m \u001b[0;34m\u001b[0m\u001b[0m\n\u001b[0;32m---> 11\u001b[0;31m \u001b[0mim_blend\u001b[0m \u001b[0;34m=\u001b[0m \u001b[0mImage\u001b[0m\u001b[0;34m.\u001b[0m\u001b[0mcomposite\u001b[0m\u001b[0;34m(\u001b[0m\u001b[0mim1\u001b[0m\u001b[0;34m,\u001b[0m \u001b[0mim2\u001b[0m\u001b[0;34m,\u001b[0m\u001b[0mmask\u001b[0m\u001b[0;34m)\u001b[0m\u001b[0;34m\u001b[0m\u001b[0;34m\u001b[0m\u001b[0m\n\u001b[0m\u001b[1;32m     12\u001b[0m \u001b[0mim_blend\u001b[0m\u001b[0;34m\u001b[0m\u001b[0;34m\u001b[0m\u001b[0m\n\u001b[1;32m     13\u001b[0m \u001b[0mmask\u001b[0m\u001b[0;34m\u001b[0m\u001b[0;34m\u001b[0m\u001b[0m\n",
      "\u001b[0;32m~/anaconda3/lib/python3.8/site-packages/PIL/Image.py\u001b[0m in \u001b[0;36mcomposite\u001b[0;34m(image1, image2, mask)\u001b[0m\n\u001b[1;32m   3205\u001b[0m \u001b[0;34m\u001b[0m\u001b[0m\n\u001b[1;32m   3206\u001b[0m     \u001b[0mimage\u001b[0m \u001b[0;34m=\u001b[0m \u001b[0mimage2\u001b[0m\u001b[0;34m.\u001b[0m\u001b[0mcopy\u001b[0m\u001b[0;34m(\u001b[0m\u001b[0;34m)\u001b[0m\u001b[0;34m\u001b[0m\u001b[0;34m\u001b[0m\u001b[0m\n\u001b[0;32m-> 3207\u001b[0;31m     \u001b[0mimage\u001b[0m\u001b[0;34m.\u001b[0m\u001b[0mpaste\u001b[0m\u001b[0;34m(\u001b[0m\u001b[0mimage1\u001b[0m\u001b[0;34m,\u001b[0m \u001b[0;32mNone\u001b[0m\u001b[0;34m,\u001b[0m \u001b[0mmask\u001b[0m\u001b[0;34m)\u001b[0m\u001b[0;34m\u001b[0m\u001b[0;34m\u001b[0m\u001b[0m\n\u001b[0m\u001b[1;32m   3208\u001b[0m     \u001b[0;32mreturn\u001b[0m \u001b[0mimage\u001b[0m\u001b[0;34m\u001b[0m\u001b[0;34m\u001b[0m\u001b[0m\n\u001b[1;32m   3209\u001b[0m \u001b[0;34m\u001b[0m\u001b[0m\n",
      "\u001b[0;31mAttributeError\u001b[0m: 'numpy.ndarray' object has no attribute 'paste'"
     ]
    }
   ],
   "source": [
    "from PIL import Image, ImageDraw, ImageFilter\n",
    "\n",
    "#frame_size=random.choice(lst_frame_sizes)\n",
    "im1 = Image.open('./data/nat_geo.jpg')\n",
    "bs_file='bsu_00010.jpg'\n",
    "im2=np.zeros_like(im1) \n",
    "\n",
    "im3=Image.open(dir_path + bs_file)\n",
    "mask = Image.open(dir_path + bs_file).convert('L').resize(im1.size)\n",
    "\n",
    "im_blend = Image.composite(im1, im2,mask)\n",
    "im_blend\n",
    "mask\n",
    "im3"
   ]
  },
  {
   "cell_type": "code",
   "execution_count": null,
   "id": "fb9842cb",
   "metadata": {},
   "outputs": [],
   "source": [
    "\n",
    "\n",
    "mask = Image.open('data/src/horse.png').convert('L').resize(im1.size)\n",
    "\n",
    "\n",
    "im = Image.composite(im1, im2, mask)"
   ]
  },
  {
   "cell_type": "code",
   "execution_count": null,
   "id": "a38f3335",
   "metadata": {},
   "outputs": [],
   "source": []
  },
  {
   "cell_type": "code",
   "execution_count": null,
   "id": "01f2bba3",
   "metadata": {},
   "outputs": [],
   "source": []
  },
  {
   "cell_type": "code",
   "execution_count": null,
   "id": "e7dd7260",
   "metadata": {},
   "outputs": [],
   "source": []
  },
  {
   "cell_type": "code",
   "execution_count": 287,
   "id": "a4353dcf",
   "metadata": {},
   "outputs": [
    {
     "data": {
      "image/png": "[encoded data removed]",
      "text/plain": [
       "<Figure size 720x720 with 2 Axes>"
      ]
     },
     "metadata": {
      "needs_background": "light"
     },
     "output_type": "display_data"
    }
   ],
   "source": [
    "\n",
    "#rotation sample\n",
    "\n",
    "from PIL import Image\n",
    "from numpy import asarray\n",
    "# open image\n",
    "bs_file='bsu_00023.jpg'\n",
    "image=Image.open(dir_path + bs_file)\n",
    "image_cv= cv2.imread(dir_path + bs_file)\n",
    "# rotate image\n",
    "rotated=image.rotate(-30, expand=True)\n",
    "numpydata = asarray(rotated)\n",
    "\n",
    "\n",
    "plt.figure(figsize=(10,10))\n",
    "titles = ['Original',\"Rotate x degree counter clock wise\"]\n",
    "images = [image_cv,numpydata]\n",
    "\n",
    "for i in range(2):\n",
    "    plt.subplot(2,2,i+1)\n",
    "    plt.imshow(cv2.cvtColor(images[i], cv2.COLOR_BGR2RGB))\n",
    "    plt.title(titles[i])\n",
    "plt.tight_layout()\n",
    "plt.show()\n"
   ]
  },
  {
   "cell_type": "code",
   "execution_count": 161,
   "id": "f3ff81c2",
   "metadata": {},
   "outputs": [],
   "source": []
  },
  {
   "cell_type": "code",
   "execution_count": 162,
   "id": "39e9784f",
   "metadata": {},
   "outputs": [],
   "source": []
  },
  {
   "cell_type": "code",
   "execution_count": 163,
   "id": "503110e5",
   "metadata": {},
   "outputs": [
    {
     "data": {
      "text/plain": [
       "[251, 120, 223, 352, 9, 253, 211, 17, 37, 338, 128, 323]"
      ]
     },
     "execution_count": 163,
     "metadata": {},
     "output_type": "execute_result"
    }
   ],
   "source": [
    "degree"
   ]
  },
  {
   "cell_type": "code",
   "execution_count": null,
   "id": "6b8fe076",
   "metadata": {},
   "outputs": [],
   "source": []
  }
 ],
 "metadata": {
  "kernelspec": {
   "display_name": "Python 3 (ipykernel)",
   "language": "python",
   "name": "python3"
  },
  "language_info": {
   "codemirror_mode": {
    "name": "ipython",
    "version": 3
   },
   "file_extension": ".py",
   "mimetype": "text/x-python",
   "name": "python",
   "nbconvert_exporter": "python",
   "pygments_lexer": "ipython3",
   "version": "3.8.11"
  }
 },
 "nbformat": 4,
 "nbformat_minor": 5
}
