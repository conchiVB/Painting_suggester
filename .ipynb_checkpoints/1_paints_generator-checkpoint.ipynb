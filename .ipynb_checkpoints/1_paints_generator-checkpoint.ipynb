{
 "cells": [
  {
   "cell_type": "markdown",
   "id": "b23fdf5f",
   "metadata": {},
   "source": [
    "## GENERATING THE DDBB OF PICTURES TO TRAIN THE MODEL\n",
    "\n",
    "\n",
    "\n",
    "\n",
    "1. choosing the brush stroke:\n",
    "    - from the brush stroke data base, randomly select a bs shape, (./data/brush_strokes/00_bs_db/) (1 to n bs's at time)\n",
    "    - apply transformations (size, rotation degrees, mirror,..) \n",
    "    - select a color from the palette  https://stackoverflow.com/questions/28999287/generate-random-colors-rgb\n",
    "    \n",
    "\n",
    "2. painting:\n",
    "    - include the bs in the frame,\n",
    "    - random location, \n",
    "    - retain the new variable \"deepness\"\n",
    "    \n",
    "    \n",
    "    \n",
    "___\n",
    "\n"
   ]
  },
  {
   "cell_type": "code",
   "execution_count": 464,
   "id": "1a46410c",
   "metadata": {},
   "outputs": [],
   "source": [
    "import numpy as np\n",
    "import cv2\n",
    "\n",
    "\n",
    "import random\n",
    "import matplotlib.pyplot as plt\n",
    "\n",
    "%matplotlib inline\n",
    "\n",
    "import os\n",
    "\n",
    "from PIL import Image\n",
    "\n",
    "import pandas as pd"
   ]
  },
  {
   "cell_type": "markdown",
   "id": "7a7e8105",
   "metadata": {},
   "source": [
    "_____\n",
    "NOTA: Ver como se ha desarrollado este proyecto, transmisión de técnica pictórica\n",
    "https://github.com/matteo-ronchetti/Pointillism/commit/cb6d4454b636488fc2a1993b93f338a2341ba459\n",
    "\n",
    "____"
   ]
  },
  {
   "cell_type": "code",
   "execution_count": 465,
   "id": "d447c7db",
   "metadata": {},
   "outputs": [],
   "source": [
    "#https://github.com/matteo-ronchetti/Pointillism/commit/cb6d4454b636488fc2a1993b93f338a2341ba459\n",
    "# función para repartir las coordenadas de los bs en toda la dimensión del frame\n",
    "\n",
    "def randomized_grid(h, w, scale):\n",
    "    if ( scale==0):\n",
    "        scale=min(h,w)//3\n",
    "    assert (scale > 0)\n",
    "\n",
    "    r = scale//2\n",
    "\n",
    "    grid = []\n",
    "    for i in range(0, h, scale):\n",
    "        for j in range(0, w, scale):\n",
    "            y = random.randint(-r, r) + i\n",
    "            x = random.randint(-r, r) + j\n",
    "\n",
    "            grid.append((y % h, x % w))\n",
    "\n",
    "    random.shuffle(grid)\n",
    "    return grid\n",
    "    \n",
    "#type(grid)\n",
    "#len(grid)\n",
    "#type(grid[0])\n",
    "def plot_grid(grid,h,w):\n",
    "    x_val = [x[0] for x in grid]\n",
    "    y_val = [x[1] for x in grid]\n",
    "    \n",
    "    plt.axis([0, h,0, w])    \n",
    "    plt.gca().set_aspect('equal', adjustable='box')\n",
    "    \n",
    "    plt.scatter(x_val,y_val)\n",
    "    plt.show()\n",
    "\n",
    "\n"
   ]
  },
  {
   "cell_type": "markdown",
   "id": "a77f19b1",
   "metadata": {},
   "source": [
    "##  Palette of colours\n",
    "\n",
    "first try https://codeboje.de/fun-colors-or-making-art-python/\n",
    "\n",
    "Palette from picture https://kylermintah.medium.com/coding-a-color-palette-generator-in-python-inspired-by-procreate-5x-b10df37834ae\n",
    "\n",
    "\n",
    "Apply colours to bs https://stackoverflow.com/questions/28999287/generate-random-colors-rgb\n",
    "___"
   ]
  },
  {
   "cell_type": "code",
   "execution_count": 466,
   "id": "b3d994f2",
   "metadata": {},
   "outputs": [],
   "source": [
    "#https://gist.github.com/adewes/5884820\n",
    "\n",
    "def get_random_color(pastel_factor = 0.5):\n",
    "    return [(x+pastel_factor)/(1.0+pastel_factor) for x in [random.uniform(0,1.0) for i in [1,2,3]]]\n",
    "\n",
    "def color_distance(c1,c2):\n",
    "    return sum([abs(x[0]-x[1]) for x in zip(c1,c2)])\n",
    "\n",
    "def generate_new_color(existing_colors,pastel_factor = 0.5):\n",
    "    max_distance = None\n",
    "    best_color = None\n",
    "    for i in range(0,100):\n",
    "        color = get_random_color(pastel_factor = pastel_factor)\n",
    "        if not existing_colors:\n",
    "            return color\n",
    "        best_distance = min([color_distance(color,c) for c in existing_colors])\n",
    "        if not max_distance or best_distance > max_distance:\n",
    "            max_distance = best_distance\n",
    "            best_color = color\n",
    "    return best_color\n",
    "\n",
    "def generate_palette(n_colors,pastel_factor=0.5):\n",
    "    palette_color = []\n",
    "\n",
    "    for i in range(0,n_colors):\n",
    "        palette_color.append(generate_new_color(palette_color,pastel_factor = pastel_factor))\n",
    "       # print(palette_color)\n",
    "    return palette_color  \n",
    "\n",
    "   "
   ]
  },
  {
   "cell_type": "markdown",
   "id": "604e4aa2",
   "metadata": {},
   "source": [
    "Nota: https://stackoverflow.com/questions/51728957/create-a-color-palette-image-from-a-list-of-rgb-color\n"
   ]
  },
  {
   "cell_type": "markdown",
   "id": "beee0dcf",
   "metadata": {},
   "source": [
    "### Creating the paintings\n",
    "\n",
    "Generating the elements of the painting:\n",
    "\n",
    "- selection of frame size from a limited list\n",
    "- random of the number of bs to paint and the coordenates in the above frame\n",
    "- random of the bs from the bs database (shape)\n",
    "- random angle to apply to the above bs\n",
    "- random pct of resize to apply to the bs\n",
    "- random palette ofcolours to apply (n = number of bs to paint)\n",
    "\n",
    "Painting:\n",
    "\n",
    "- With the above elements, create a paint. \n",
    "- Save the paint\n",
    "\n",
    "Output:\n",
    "- List of frames(n), each with an individual bs from the saved paint\n"
   ]
  },
  {
   "cell_type": "code",
   "execution_count": 467,
   "id": "27195aac",
   "metadata": {},
   "outputs": [],
   "source": [
    "#db of  brush strokes images in list\n",
    "\n",
    "def load_lst_of_bs():\n",
    "\n",
    "    # list to store files\n",
    "    lst_bs = []\n",
    "\n",
    "    # Iterate directory\n",
    "    for path in os.listdir(dir_path):\n",
    "        # check if current path is a file\n",
    "        if os.path.isfile(os.path.join(dir_path, path)):\n",
    "            lst_bs.append(path)\n",
    "    #print(lst_bs, len(lst_bs))\n",
    "    return lst_bs"
   ]
  },
  {
   "cell_type": "code",
   "execution_count": 519,
   "id": "cdfa04fb",
   "metadata": {},
   "outputs": [],
   "source": [
    "# lst of arrays to df into csv\n",
    "\n",
    "def paint_df(lst_imag, paint_id):\n",
    "    \n",
    "    all_bs=[item for item in range(len(lst_imag))]\n",
    "    #print('n_bs:',all_bs)\n",
    "    for k in range(len(lst_imag)):\n",
    "        \n",
    "        imag_k_t= lst_imag[k]\n",
    "        \n",
    "        if k==0:               \n",
    "            array_imag=np.where(imag_k_t==1,0,imag_k_t)            \n",
    "        else:             \n",
    "            array_imag=array_imag + np.where(imag_k_t==1,0,imag_k_t)\n",
    "            \n",
    "    #df= pd.DataFrame.from_records(array_imag)    \n",
    "        \n",
    "    \n",
    "    #pesa mas este formato que el comentado anterior, pero es mas intuitivo para después incluir depth\n",
    "\n",
    "    data_to_df = []\n",
    "    for i in range(array_imag.shape[1]):\n",
    "        for j in range(array_imag.shape[0]):\n",
    "            data_to_df.append({'x': j, 'y': i, 'RGB': array_imag[j, i]})\n",
    "\n",
    "    \n",
    "\n",
    "    df = pd.DataFrame(data_to_df)\n",
    "    df.to_csv(paint_path + paint_id + '.csv', index=False)  #, index=False\n",
    "     \n",
    "    return"
   ]
  },
  {
   "cell_type": "code",
   "execution_count": 520,
   "id": "a454ea03",
   "metadata": {},
   "outputs": [],
   "source": [
    "\n",
    "dir_path = './data/brush_strokes/00_bs_db/'\n",
    "paint_path = './data/brush_strokes/02_paintings/'\n",
    "\n",
    "scale_points=200 # higher, less bs's\n",
    "\n",
    "\n",
    "def paint_generator (paint_idx):   \n",
    "    \n",
    "#random parameters\n",
    "\n",
    "    #lst_frame_sizes=[(600,600),(400,600),(600,400),(800,400),(400,800),(600,200), (200,600),(200,200),(400,400)]\n",
    "    #lst_frame_sizes=[(28,128),(64,64),(192,192),(28,28)]\n",
    "    lst_frame_sizes=[(100,256)]\n",
    "\n",
    "    #______________frame selection from the list\n",
    "    frame_size=random.choice(lst_frame_sizes)\n",
    "\n",
    "    #print(\"Randomly selected frame size:\",frame_size)\n",
    "\n",
    "    bs_centers = randomized_grid(h=frame_size[0], w=frame_size[1],scale=scale_points) # valorar introducir la scale en un random limitado\n",
    "\n",
    "    plot_grid (grid=bs_centers,h=frame_size[0],w=frame_size[1])\n",
    "\n",
    "    #print('Num de brush strokes {}. Donde las coordenadas de los centroides{}:'.format(len(bs_centers),bs_centers))\n",
    "    lst_bs=load_lst_of_bs()\n",
    "\n",
    "    #______________elegir aleatoriamente n=len(bs_centers) centroides donde se van a situar los bs, selección de bs\n",
    "    bs_select=random.sample(lst_bs, len(bs_centers))\n",
    "    #print(\"brush strokes seleccionados de la db de bs:\", bs_select)\n",
    "\n",
    "    #______________ seleccionar un angulo para girar la figura [0,360]\n",
    "    lst_degrees=[x for x in range(360)]\n",
    "    degree=random.sample(lst_degrees, len(bs_centers))\n",
    "    #print(\"grados de giro para los bs:\", degree)\n",
    "\n",
    "    #______________añadir un cambio en el tamaño del bs en base a un %. Rango elegido :de -30 a 30\n",
    "    lst_pct=[(x) for x in range(100,250)]\n",
    "    lst_scale_percent=random.sample(lst_pct, len(bs_centers))\n",
    "    #print(\"escala de tamaño a aplicar en %:\", lst_scale_percent)\n",
    "\n",
    "    #______________colors\n",
    "    palette = generate_palette(len(bs_centers),pastel_factor=0.5)\n",
    "    palette_array = np.array(palette)[np.newaxis, :, :]\n",
    "    plt.imshow(palette_array)\n",
    "    \n",
    "    plt.axis('off')    \n",
    "    plt.show()\n",
    "    lst_colors=palette_array.tolist()\n",
    "    #print('Array con los rgb de la paleta seleccionada {}.'.format(lst_colors))\n",
    "    \n",
    "    \n",
    "#painting\n",
    "\n",
    "    #generating the frame from frame_size\n",
    "    blank_image = np.zeros((frame_size[0],frame_size[1],3), np.uint8)\n",
    "    #adding bs's en bs_centers, en el color de la paleta\n",
    "    #[0]\n",
    "    lst_imag=[]\n",
    "    for k in range (len(bs_centers)):\n",
    "\n",
    "        bs=bs_select[k]\n",
    "        bs_xy=bs_centers[k]\n",
    "        bs_color=lst_colors[0][k]\n",
    "        bs_scale=lst_scale_percent[k]\n",
    "        bs_angle=degree[k]\n",
    "\n",
    "        #print (\"\\n figura bs:\",bs,\"\\n coord:\",bs_xy,\"\\n color:\",bs_color,'\\n scale:',bs_scale,\"\\n angle:\",bs_angle )\n",
    "        #blank_image[bs_xy[0],bs_xy[1]]=bs_color\n",
    "\n",
    "        #rotation\n",
    "        bs_k_im=Image.open(dir_path + bs)\n",
    "        rotated=bs_k_im.rotate(bs_angle, expand=True)\n",
    "        bs_k = np.asarray(rotated)\n",
    "\n",
    "        #resize\n",
    "        width = int(bs_k.shape[1] * (1 + bs_scale / 100))\n",
    "        height = int(bs_k.shape[0] * (1 +  bs_scale / 100))\n",
    "        #print(bs_k.shape[0],bs_k.shape[1])\n",
    "        bs_k = cv2.resize(bs_k, (width, height))\n",
    "\n",
    "\n",
    "        #centramos el bs en el punto donde tenemos que colocarlo\n",
    "        bs_center=(int(bs_k.shape[0] /2) , int(bs_k.shape[1] /2))\n",
    "        adjust=(bs_xy[0]-bs_center[0],bs_xy[1]-bs_center[1])\n",
    "\n",
    "        rgb_tresh=200\n",
    "        (x,y) = np.where((bs_k[:,:, 0] > rgb_tresh) & (bs_k[ :,:, 1] > rgb_tresh) & (bs_k[:, :, 2] >  rgb_tresh))\n",
    "        (x,y) = (x + adjust[0], y + adjust[1] )\n",
    "        \n",
    "            \n",
    "        #generamos un array de imagenes donde layer=index_array =orden_de_pintura =k \n",
    "        imag_k = np.ones((frame_size[0],frame_size[1],3),np.float64)  \n",
    "\n",
    "        x2= x[(y< frame_size[1]) & (x <frame_size[0]) & (x>0) & (y>0)]\n",
    "        y2= y[(y< frame_size[1]) & (x <frame_size[0]) & (x>0) & (y>0) ]\n",
    "        x=x2\n",
    "        y=y2\n",
    "        imag_k[x,y] = lst_colors[0][k]\n",
    "\n",
    "        lst_imag.append(imag_k)\n",
    "        #print(imag_k.shape, lst_colors[0][k])\n",
    "        #print the image kept in list, first we need to transpose\n",
    "        #imag_k_t= imag_k.transpose(1, 0, 2)\n",
    "        #print(imag_k_t.shape)\n",
    "        #plt.axis([0, frame_size[0],0, frame_size[1]])\n",
    "        #plt.imshow(imag_k_t)     \n",
    "        \n",
    "\n",
    "        #implot = plt.imshow(blank_image)\n",
    "\n",
    "        #plt.axis('equal')\n",
    "        #plt.xlim(0, frame_size[0]) \n",
    "        #plt.ylim(0, frame_size[1])\n",
    "        #plt.scatter(x,y,color=lst_colors[0][k])\n",
    "        plt.scatter(x,y,color=[lst_colors[0][k]],s=1, alpha=1)\n",
    "        #print the image kept in list   \n",
    " \n",
    "        #plt.show()\n",
    "        #bs_k_im\n",
    "        \n",
    "     \n",
    "    plt.axis([0, frame_size[0],0, frame_size[1]])\n",
    "    #print('frame_size_saved:',frame_size[0],frame_size[1])\n",
    "    plt.gca().set_aspect('equal', adjustable='box')\n",
    "    plt.gca().get_yaxis().set_visible(False)\n",
    "    plt.gca().get_xaxis().set_visible(False) \n",
    "    \n",
    "    #plt.gca().set_axis_off()\n",
    "    #plt.subplots_adjust(top = 1, bottom = 0, right = 1, left = 0, hspace = 0, wspace = 0)\n",
    "    plt.margins(0,0)\n",
    "    \n",
    "    \n",
    "        \n",
    "    #para guardar, eliminamos los ejes\n",
    "    \n",
    "    #plt.axis('off')\n",
    "    paint_id=\"paint_\" + (\"0\"*4 + str(paint_idx))[-5:] \n",
    "    plt.savefig(paint_path + paint_id + \".png\")\n",
    "    #bbox_inches='tight'\n",
    "    #pad_inches=0.0\n",
    "    \n",
    "    #para mostrar, dejamos los axis\n",
    "    #plt.axis('off')  \n",
    "    \n",
    "    plt.show()   \n",
    "    \n",
    "    paint_df(lst_imag,paint_id)\n",
    "    \n",
    "    \n",
    "    #plt.xlim(0, frame_size[0]) \n",
    "    #plt.ylim(0, frame_size[1])\n",
    "    return lst_imag, paint_id    \n",
    "    \n",
    "    "
   ]
  },
  {
   "cell_type": "markdown",
   "id": "258518f0",
   "metadata": {},
   "source": [
    "#mostrar cada brush stroke en una capa\n",
    "lst_imag=lst_imag_2\n",
    "\n",
    "print(\"number of brush strokes:{0}\".format(len(lst_imag)))\n",
    "for k in range(len(lst_imag)):\n",
    "    imag_k_t= lst_imag[k].transpose(1, 0, 2)\n",
    "    #print(imag_k_t.shape)\n",
    "    \n",
    "    plt.axis([0, lst_imag[k].shape[0],0, lst_imag[k].shape[1]])\n",
    "    plt.gca().get_yaxis().set_visible(False)\n",
    "    plt.gca().get_xaxis().set_visible(False)\n",
    "    \n",
    "    plt.imshow(imag_k_t)\n",
    "    plt.show()\n",
    "\n"
   ]
  },
  {
   "cell_type": "markdown",
   "id": "a7d0aedf",
   "metadata": {},
   "source": [
    "## OVERLAPING \n",
    "\n",
    "### notes\n",
    "https://stackoverflow.com/questions/60399182/testing-if-two-sprite-overlap-while-using-matrices\n",
    "\n",
    "\n",
    "\n",
    "https://gis.stackexchange.com/questions/60017/how-to-computational-efficiently-check-if-there-are-any-overlapping-polygons-in\n",
    "You can take advantage of matrix operations for this problem and achieve an O(n) time complexity.\n",
    "\n",
    "The idea is to have an ones-and-zeros matrix e.g. mask per polygon. Then all you need to do is to add these matrices together(linear time and very efficiently if you use numpy sparse matrix). If there is a number greater than one it means there is overlap.\n",
    "\n",
    "If you have two decimal points you can multiply by 100 to still be able to convert to a matrix.\n",
    "\n",
    "You can extend the same solution to find out which ones are overlapping if you choose exponentially increasing numbers. For instance, the first polygon is a matrix of ones-and-zeros, the second is tens-and-zeros, third is hundreds and zeros, etc. this way if you have a 1000101 in a cell at the end it means polygons number 1, 3, and 7 overlap.\n"
   ]
  },
  {
   "cell_type": "markdown",
   "id": "99761fef",
   "metadata": {},
   "source": [
    "# Nota: output -deepness\n",
    "\n",
    "registrsr desde la capa 0 a la n-1, len(lst_imag_deep_3[0]) para cada bs, el max entre la capa anterior yla actual\n",
    "\n",
    "en la última capa, el número que haya desaparecido se elimina.\n",
    "hacer este paso antes de asignar layers\n",
    "\n",
    "\n",
    "lst_imag_deep_3[0].shape\n",
    "lst_imag_deep_3[0]\n"
   ]
  },
  {
   "cell_type": "code",
   "execution_count": 521,
   "id": "897ea4be",
   "metadata": {},
   "outputs": [],
   "source": [
    "# delete bs that are covered completely by others. Desapear in the final picture.\n",
    "\n",
    "# in the lst of bs's, from first to last, check whether the next layer is covering the previous one,  \n",
    "# .- label each bs with its id number 1,2,3. Compare each bs with the previous.If there is overlap \n",
    "# keep the maximum value (ej max(1,3)-->3) \n",
    "# .- after de final bs hasbeen checked, we will have al numbers (of bs) that are visible in the final picture,\n",
    "# .- any number from 1 to nbs that is not in the final picture, will be deleted from the list.\n",
    "\n",
    "def clean_invisible_bs(lst_imag):\n",
    "    #print('n_bs:',len(lst_imag))\n",
    "    all_bs=[item for item in range(len(lst_imag))]\n",
    "    #print('n_bs:',all_bs)\n",
    "    for k in range(len(lst_imag)):\n",
    "        \n",
    "        imag_k_t= lst_imag[k]\n",
    "        \n",
    "        if k==0:               \n",
    "            imag_acum=np.where(imag_k_t==1,0,k+1)  # label the bs with k (from 1 to n bs's)           \n",
    "        else:             \n",
    "            imag_acum=imag_acum + np.where(imag_k_t==1,0,k+1) \n",
    "            imag_acum=np.where(imag_acum > k+1,k+1,imag_acum)  \n",
    "        \n",
    "        \n",
    "        #diferent numbers found in imag_acum after last iteration of K\n",
    "        distinct_bs=np.unique(imag_acum)\n",
    "        delete_bs=[item for item in all_bs if item not in distinct_bs]\n",
    "        delete_bs.sort(reverse=True)\n",
    "        #print(f'bs:',k+1,distinct_bs)        \n",
    "        \n",
    "    return delete_bs"
   ]
  },
  {
   "cell_type": "markdown",
   "id": "7137ea87",
   "metadata": {},
   "source": [
    "lst_imag_test=lst_imag_6\n",
    "print(len(lst_imag_test))\n",
    "\n",
    "lst_delete, img_final= clean_invisible_bs(lst_imag_test)\n",
    "\n",
    "\n",
    "print(lst_delete)\n",
    "\n"
   ]
  },
  {
   "cell_type": "code",
   "execution_count": 522,
   "id": "4ea19ccb",
   "metadata": {},
   "outputs": [],
   "source": [
    "#find layers to assing by checking overlaping\n",
    "#solution:overlaping recognition when:   \n",
    "#sum(M1[ones to zeros]+M2[ones to zeros] transformed zeros to ones) <> product(M1[ones]+M2[ones])\n",
    "def register_deepness(lst_imag):\n",
    "    \n",
    "    #drop invisible bs's\n",
    "    #print('before_clean:',len(lst_imag))\n",
    "    lst_delete =clean_invisible_bs(lst_imag)\n",
    "    for k in lst_delete:        \n",
    "        lst_imag.pop(k)\n",
    "    #print('after_clean:',len(lst_imag))\n",
    "    \n",
    "\n",
    "    lst_imag_deep=[]\n",
    "    for k in range(len(lst_imag)):\n",
    "        imag_k_t= lst_imag[k]\n",
    "        #print('image',k)\n",
    "\n",
    "        layer_found=0    \n",
    "\n",
    "        if k==0:               \n",
    "            lst_imag_deep.append(imag_k_t) \n",
    "            layer_found=1\n",
    "            #print('layer 0',len(lst_imag_deep)-1)\n",
    "        else:\n",
    "            max_layer_id=max(len(lst_imag_deep),0)\n",
    "            for k_i in range(max_layer_id, 0 , -1):\n",
    "                #print('k_i=',k_i)\n",
    "                imag_cmp=lst_imag_deep[k_i-1]\n",
    "\n",
    "                #comparación la sum(M1[ones to zeros]+M2[ones to zeros]  zero to ones) <> product(M1+M2 ones)\n",
    "                sum_acumM_newM0=np.where(imag_cmp==1,0,imag_cmp) + np.where(imag_k_t==1,0,imag_k_t)\n",
    "                sum_acumM_newM= np.where(sum_acumM_newM0==0,1,sum_acumM_newM0)            \n",
    "                product_acumM_newM=np.multiply(imag_cmp,imag_k_t)\n",
    "\n",
    "                if (sum_acumM_newM==product_acumM_newM).all(): #no overlaping, if not in layer 0 then go to next layer\n",
    "                    if k_i-1 ==0:\n",
    "                        lst_imag_deep[k_i-1]= sum_acumM_newM #in first layer,include the item in this layer\n",
    "                        layer_found=1\n",
    "                        #print('layer k_i',k_i-1)\n",
    "                        break\n",
    "                    else:\n",
    "                        pass                \n",
    "                else: #overlaping\n",
    "                    if k_i ==len(lst_imag_deep): #last layer, add a new one\n",
    "                        lst_imag_deep.append(imag_k_t) \n",
    "                        layer_found=1\n",
    "                        #print('layer last1',len(lst_imag_deep)-1)\n",
    "                        break\n",
    "                    else:#include the item in the layer +1                    \n",
    "                        layer_1=np.multiply(lst_imag_deep[k_i + 1 - 1 ],imag_k_t)\n",
    "                        lst_imag_deep[k_i + 1 - 1 ]= layer_1 #change layer for a new one with the new element \n",
    "                        layer_found=1\n",
    "                        #print('layer k_i+1 -1 ',k_i+1 -1 )\n",
    "                        break\n",
    "                    pass   \n",
    "\n",
    "        if layer_found==0: # not clasified yet, add new layer\n",
    "            lst_imag_deep.append(imag_k_t) \n",
    "            #print('layer last2',len(lst_imag_deep)-1)\n",
    "        else:\n",
    "            pass\n",
    "        \n",
    "    print('layers:',len( lst_imag_deep))\n",
    "    \n",
    "    \n",
    "\n",
    "    return lst_imag_deep"
   ]
  },
  {
   "cell_type": "markdown",
   "id": "2635391a",
   "metadata": {},
   "source": [
    "#mostrar cada capa, donde pueden coexistir varios elementos\n",
    "\n",
    "lst_imag_deep=register_deepness(lst_imag)\n",
    "print(\"number of layers:\",len(lst_imag_deep))\n",
    "for k in range(len(lst_imag_deep)):\n",
    "    imag_k_t= lst_imag_deep[k].transpose(1, 0, 2)\n",
    "    #print(imag_k_t.shape)\n",
    "    plt.axis([0, lst_imag_deep[k].shape[0],0, lst_imag_deep[k].shape[1]])\n",
    "    plt.gca().get_yaxis().set_visible(False)\n",
    "    plt.gca().get_xaxis().set_visible(False)\n",
    "    \n",
    "    plt.imshow(imag_k_t)\n",
    "    plt.show()\n",
    "    \n",
    "    "
   ]
  },
  {
   "cell_type": "markdown",
   "id": "2573f534",
   "metadata": {},
   "source": [
    "# TRAINING DATA\n",
    "\n",
    "Create the training / validation data\n",
    "\n",
    "* first try: pictures with few strokes\n",
    "* next steps: increase the num of strokes\n",
    "\n",
    "\n",
    "The data can be handled as:\n",
    "* image: a numpy array (x,y,[rgb]) and an array with the deepness\n",
    "* dataset: columns x,y,r,g,b,stroke_id, deepness\n",
    "\n",
    "\n",
    "____"
   ]
  },
  {
   "cell_type": "markdown",
   "id": "0d8030c9",
   "metadata": {},
   "source": [
    "extraction of the skeleton of a stroke\n",
    "https://scikit-image.org/docs/dev/auto_examples/edges/plot_skeleton.html\n",
    "\n",
    "curiosity:https://github.com/Huage001/PaintTransformer\n"
   ]
  },
  {
   "cell_type": "code",
   "execution_count": 523,
   "id": "2b6402ae",
   "metadata": {},
   "outputs": [],
   "source": [
    "# generating the output. matrix (x,y,n), where n=number of layer\n",
    "\n",
    "def out_layers(lst_imag_deep):\n",
    "    \n",
    "    for k in range(len(lst_imag_deep)):\n",
    "\n",
    "            imag_k= lst_imag_deep[k]\n",
    "\n",
    "            if k==0:               \n",
    "                bs_depth=np.where(imag_k==1,0,k+1)  # label each bs with a number :k (from 1 to n bs's)           \n",
    "            else:\n",
    "                bs_depth=bs_depth + np.where(imag_k==1,0,k+1) \n",
    "                bs_depth=np.where(bs_depth > k+1,k+1,bs_depth)          \n",
    "\n",
    "            #diferent numbers found in imag_acum after last iteration of K\n",
    "            distinct_bs=np.unique(bs_depth)     \n",
    "\n",
    "    #bs_depth \n",
    "    print('distinct layers_id for bs in same layer:',distinct_bs)\n",
    "\n",
    "    #___________________________________________________________________________\n",
    "\n",
    "    depth_t=[]\n",
    "    \n",
    "    for i in range(bs_depth.shape[1]):\n",
    "        for j in range(bs_depth.shape[0]):\n",
    "            depth_t.append([j,i,bs_depth[j,i,0]])\n",
    "    print('output shape: (x,y,nlayer):', bs_depth.shape) \n",
    "    #print(len(depth_t)   )   \n",
    "    \n",
    "    \n",
    "    #depth_t = []\n",
    "    #for i in range(bs_depth.shape[1]):\n",
    "    #    for j in range(bs_depth.shape[0]):\n",
    "    #        depth_t.append({'x': j, 'y': i, 'number': bs_depth[i, j,0]})\n",
    "\n",
    "    #depth_t_df = pd.DataFrame(depth_t)        \n",
    "    #___________________________________________________________________________\n",
    "\n",
    "    #graph of layers\n",
    "\n",
    "    depth_t_df=pd.DataFrame(depth_t, columns=['x','y','number'])\n",
    "    #depth_t_df\n",
    "\n",
    "    groups = depth_t_df.groupby('number')\n",
    "\n",
    "    plt.axis([0, bs_depth.shape[0],0, bs_depth.shape[1]])\n",
    "    plt.gca().set_aspect('equal', adjustable='box')\n",
    "    plt.gca().get_yaxis().set_visible(False)\n",
    "    plt.gca().get_xaxis().set_visible(False)\n",
    "\n",
    "    for name, group in groups:\n",
    "\n",
    "        plt.plot(group.x, group.y, marker='o', linestyle='', markersize=12, label=name)\n",
    "\n",
    "    plt.legend()    \n",
    "    plt.show()\n",
    "\n",
    "    return depth_t_df#depth_t"
   ]
  },
  {
   "cell_type": "code",
   "execution_count": 548,
   "id": "8f19a919",
   "metadata": {},
   "outputs": [
    {
     "data": {
      "image/png": "[encoded data removed]",
      "text/plain": [
       "<Figure size 432x288 with 1 Axes>"
      ]
     },
     "metadata": {
      "needs_background": "light"
     },
     "output_type": "display_data"
    },
    {
     "data": {
      "image/png": "[encoded data removed]",
      "text/plain": [
       "<Figure size 432x288 with 1 Axes>"
      ]
     },
     "metadata": {
      "needs_background": "light"
     },
     "output_type": "display_data"
    },
    {
     "data": {
      "image/png": "[encoded data removed]",
      "text/plain": [
       "<Figure size 432x288 with 1 Axes>"
      ]
     },
     "metadata": {
      "needs_background": "light"
     },
     "output_type": "display_data"
    },
    {
     "name": "stdout",
     "output_type": "stream",
     "text": [
      "layers: 1\n",
      "distinct layers_id for bs in same layer: [0 1]\n",
      "output shape: (x,y,nlayer): (100, 256, 3)\n"
     ]
    },
    {
     "data": {
      "image/png": "[encoded data removed]",
      "text/plain": [
       "<Figure size 432x288 with 1 Axes>"
      ]
     },
     "metadata": {
      "needs_background": "light"
     },
     "output_type": "display_data"
    },
    {
     "data": {
      "image/png": "[encoded data removed]",
      "text/plain": [
       "<Figure size 432x288 with 1 Axes>"
      ]
     },
     "metadata": {
      "needs_background": "light"
     },
     "output_type": "display_data"
    },
    {
     "data": {
      "image/png": "[encoded data removed]",
      "text/plain": [
       "<Figure size 432x288 with 1 Axes>"
      ]
     },
     "metadata": {
      "needs_background": "light"
     },
     "output_type": "display_data"
    },
    {
     "data": {
      "image/png": "[encoded data removed]",
      "text/plain": [
       "<Figure size 432x288 with 1 Axes>"
      ]
     },
     "metadata": {
      "needs_background": "light"
     },
     "output_type": "display_data"
    },
    {
     "name": "stdout",
     "output_type": "stream",
     "text": [
      "layers: 1\n",
      "distinct layers_id for bs in same layer: [0 1]\n",
      "output shape: (x,y,nlayer): (100, 256, 3)\n"
     ]
    },
    {
     "data": {
      "image/png": "[encoded data removed]",
      "text/plain": [
       "<Figure size 432x288 with 1 Axes>"
      ]
     },
     "metadata": {
      "needs_background": "light"
     },
     "output_type": "display_data"
    },
    {
     "data": {
      "image/png": "[encoded data removed]",
      "text/plain": [
       "<Figure size 432x288 with 1 Axes>"
      ]
     },
     "metadata": {
      "needs_background": "light"
     },
     "output_type": "display_data"
    },
    {
     "data": {
      "image/png": "[encoded data removed]",
      "text/plain": [
       "<Figure size 432x288 with 1 Axes>"
      ]
     },
     "metadata": {
      "needs_background": "light"
     },
     "output_type": "display_data"
    },
    {
     "data": {
      "image/png": "[encoded data removed]",
      "text/plain": [
       "<Figure size 432x288 with 1 Axes>"
      ]
     },
     "metadata": {
      "needs_background": "light"
     },
     "output_type": "display_data"
    },
    {
     "name": "stdout",
     "output_type": "stream",
     "text": [
      "layers: 1\n",
      "distinct layers_id for bs in same layer: [0 1]\n",
      "output shape: (x,y,nlayer): (100, 256, 3)\n"
     ]
    },
    {
     "data": {
      "image/png": "[encoded data removed]",
      "text/plain": [
       "<Figure size 432x288 with 1 Axes>"
      ]
     },
     "metadata": {
      "needs_background": "light"
     },
     "output_type": "display_data"
    },
    {
     "data": {
      "image/png": "[encoded data removed]",
      "text/plain": [
       "<Figure size 432x288 with 1 Axes>"
      ]
     },
     "metadata": {
      "needs_background": "light"
     },
     "output_type": "display_data"
    },
    {
     "data": {
      "image/png": "[encoded data removed]",
      "text/plain": [
       "<Figure size 432x288 with 1 Axes>"
      ]
     },
     "metadata": {
      "needs_background": "light"
     },
     "output_type": "display_data"
    },
    {
     "data": {
      "image/png": "[encoded data removed]",
      "text/plain": [
       "<Figure size 432x288 with 1 Axes>"
      ]
     },
     "metadata": {
      "needs_background": "light"
     },
     "output_type": "display_data"
    },
    {
     "name": "stdout",
     "output_type": "stream",
     "text": [
      "layers: 2\n",
      "distinct layers_id for bs in same layer: [0 1 2]\n",
      "output shape: (x,y,nlayer): (100, 256, 3)\n"
     ]
    },
    {
     "data": {
      "image/png": "[encoded data removed]",
      "text/plain": [
       "<Figure size 432x288 with 1 Axes>"
      ]
     },
     "metadata": {
      "needs_background": "light"
     },
     "output_type": "display_data"
    },
    {
     "data": {
      "image/png": "[encoded data removed]",
      "text/plain": [
       "<Figure size 432x288 with 1 Axes>"
      ]
     },
     "metadata": {
      "needs_background": "light"
     },
     "output_type": "display_data"
    },
    {
     "data": {
      "image/png": "[encoded data removed]",
      "text/plain": [
       "<Figure size 432x288 with 1 Axes>"
      ]
     },
     "metadata": {
      "needs_background": "light"
     },
     "output_type": "display_data"
    },
    {
     "data": {
      "image/png": "[encoded data removed]",
      "text/plain": [
       "<Figure size 432x288 with 1 Axes>"
      ]
     },
     "metadata": {
      "needs_background": "light"
     },
     "output_type": "display_data"
    },
    {
     "name": "stdout",
     "output_type": "stream",
     "text": [
      "layers: 1\n",
      "distinct layers_id for bs in same layer: [0 1]\n",
      "output shape: (x,y,nlayer): (100, 256, 3)\n"
     ]
    },
    {
     "data": {
      "image/png": "[encoded data removed]",
      "text/plain": [
       "<Figure size 432x288 with 1 Axes>"
      ]
     },
     "metadata": {
      "needs_background": "light"
     },
     "output_type": "display_data"
    },
    {
     "data": {
      "image/png": "[encoded data removed]",
      "text/plain": [
       "<Figure size 432x288 with 1 Axes>"
      ]
     },
     "metadata": {
      "needs_background": "light"
     },
     "output_type": "display_data"
    },
    {
     "data": {
      "image/png": "[encoded data removed]",
      "text/plain": [
       "<Figure size 432x288 with 1 Axes>"
      ]
     },
     "metadata": {
      "needs_background": "light"
     },
     "output_type": "display_data"
    },
    {
     "data": {
      "image/png": "[encoded data removed]",
      "text/plain": [
       "<Figure size 432x288 with 1 Axes>"
      ]
     },
     "metadata": {
      "needs_background": "light"
     },
     "output_type": "display_data"
    },
    {
     "name": "stdout",
     "output_type": "stream",
     "text": [
      "layers: 2\n",
      "distinct layers_id for bs in same layer: [0 1 2]\n",
      "output shape: (x,y,nlayer): (100, 256, 3)\n"
     ]
    },
    {
     "data": {
      "image/png": "[encoded data removed]",
      "text/plain": [
       "<Figure size 432x288 with 1 Axes>"
      ]
     },
     "metadata": {
      "needs_background": "light"
     },
     "output_type": "display_data"
    },
    {
     "data": {
      "image/png": "[encoded data removed]",
      "text/plain": [
       "<Figure size 432x288 with 1 Axes>"
      ]
     },
     "metadata": {
      "needs_background": "light"
     },
     "output_type": "display_data"
    },
    {
     "data": {
      "image/png": "[encoded data removed]",
      "text/plain": [
       "<Figure size 432x288 with 1 Axes>"
      ]
     },
     "metadata": {
      "needs_background": "light"
     },
     "output_type": "display_data"
    },
    {
     "data": {
      "image/png": "[encoded data removed]",
      "text/plain": [
       "<Figure size 432x288 with 1 Axes>"
      ]
     },
     "metadata": {
      "needs_background": "light"
     },
     "output_type": "display_data"
    },
    {
     "name": "stdout",
     "output_type": "stream",
     "text": [
      "layers: 1\n",
      "distinct layers_id for bs in same layer: [0 1]\n",
      "output shape: (x,y,nlayer): (100, 256, 3)\n"
     ]
    },
    {
     "data": {
      "image/png": "[encoded data removed]",
      "text/plain": [
       "<Figure size 432x288 with 1 Axes>"
      ]
     },
     "metadata": {
      "needs_background": "light"
     },
     "output_type": "display_data"
    },
    {
     "data": {
      "image/png": "[encoded data removed]",
      "text/plain": [
       "<Figure size 432x288 with 1 Axes>"
      ]
     },
     "metadata": {
      "needs_background": "light"
     },
     "output_type": "display_data"
    },
    {
     "data": {
      "image/png": "[encoded data removed]",
      "text/plain": [
       "<Figure size 432x288 with 1 Axes>"
      ]
     },
     "metadata": {
      "needs_background": "light"
     },
     "output_type": "display_data"
    },
    {
     "data": {
      "image/png": "[encoded data removed]",
      "text/plain": [
       "<Figure size 432x288 with 1 Axes>"
      ]
     },
     "metadata": {
      "needs_background": "light"
     },
     "output_type": "display_data"
    },
    {
     "name": "stdout",
     "output_type": "stream",
     "text": [
      "layers: 2\n",
      "distinct layers_id for bs in same layer: [0 1 2]\n",
      "output shape: (x,y,nlayer): (100, 256, 3)\n"
     ]
    },
    {
     "data": {
      "image/png": "[encoded data removed]",
      "text/plain": [
       "<Figure size 432x288 with 1 Axes>"
      ]
     },
     "metadata": {
      "needs_background": "light"
     },
     "output_type": "display_data"
    },
    {
     "data": {
      "image/png": "[encoded data removed]",
      "text/plain": [
       "<Figure size 432x288 with 1 Axes>"
      ]
     },
     "metadata": {
      "needs_background": "light"
     },
     "output_type": "display_data"
    },
    {
     "data": {
      "image/png": "[encoded data removed]",
      "text/plain": [
       "<Figure size 432x288 with 1 Axes>"
      ]
     },
     "metadata": {
      "needs_background": "light"
     },
     "output_type": "display_data"
    },
    {
     "data": {
      "image/png": "[encoded data removed]",
      "text/plain": [
       "<Figure size 432x288 with 1 Axes>"
      ]
     },
     "metadata": {
      "needs_background": "light"
     },
     "output_type": "display_data"
    },
    {
     "name": "stdout",
     "output_type": "stream",
     "text": [
      "layers: 2\n",
      "distinct layers_id for bs in same layer: [0 1 2]\n",
      "output shape: (x,y,nlayer): (100, 256, 3)\n"
     ]
    },
    {
     "data": {
      "image/png": "[encoded data removed]",
      "text/plain": [
       "<Figure size 432x288 with 1 Axes>"
      ]
     },
     "metadata": {
      "needs_background": "light"
     },
     "output_type": "display_data"
    },
    {
     "data": {
      "image/png": "[encoded data removed]",
      "text/plain": [
       "<Figure size 432x288 with 1 Axes>"
      ]
     },
     "metadata": {
      "needs_background": "light"
     },
     "output_type": "display_data"
    },
    {
     "data": {
      "image/png": "[encoded data removed]",
      "text/plain": [
       "<Figure size 432x288 with 1 Axes>"
      ]
     },
     "metadata": {
      "needs_background": "light"
     },
     "output_type": "display_data"
    },
    {
     "data": {
      "image/png": "[encoded data removed]",
      "text/plain": [
       "<Figure size 432x288 with 1 Axes>"
      ]
     },
     "metadata": {
      "needs_background": "light"
     },
     "output_type": "display_data"
    },
    {
     "name": "stdout",
     "output_type": "stream",
     "text": [
      "layers: 1\n",
      "distinct layers_id for bs in same layer: [0 1]\n",
      "output shape: (x,y,nlayer): (100, 256, 3)\n"
     ]
    },
    {
     "data": {
      "image/png": "[encoded data removed]",
      "text/plain": [
       "<Figure size 432x288 with 1 Axes>"
      ]
     },
     "metadata": {
      "needs_background": "light"
     },
     "output_type": "display_data"
    }
   ],
   "source": [
    "#generating knum paintings from 1 to knum\n",
    "knum=10\n",
    "\n",
    "for k in range (knum):\n",
    "    \n",
    "    #painting generation\n",
    "    exec(f'lst_imag_{k+1}, paint_id_{k+1} = paint_generator(k+1)')    \n",
    "   \n",
    "    #layer assignment\n",
    "    exec(f'lst_imag_deep_{k+1} = register_deepness(lst_imag_{k+1})')\n",
    "    \n",
    "    #output generation\n",
    "    exec(f'out_layers_{k+1} = out_layers(lst_imag_deep_{k+1})')        \n",
    "    \n",
    "    #include output in csv of paint\n",
    "    exec(f'df_paint_{k+1}=pd.read_csv(paint_path + paint_id_{k+1}+ \".csv\")') \n",
    "    \n",
    "    #final df with paint info and depth\n",
    "    exec(f'df_paint=df_paint_{k+1}.merge(out_layers_{k+1}, on = [\"x\", \"y\"])')   \n",
    "    df_paint=df_paint.rename(columns={\"number\": \"depth\",\"RGB\":\"rgb\"})\n",
    "    exec(f'df_paint.to_csv(paint_path + paint_id_{k+1} + \".csv\", index=False)')  \n",
    "    \n",
    "  \n",
    "\n",
    "    "
   ]
  },
  {
   "cell_type": "code",
   "execution_count": 546,
   "id": "7ed9aadd",
   "metadata": {},
   "outputs": [
    {
     "data": {
      "text/plain": [
       "1"
      ]
     },
     "execution_count": 546,
     "metadata": {},
     "output_type": "execute_result"
    }
   ],
   "source": [
    "df2_paint.head()\n",
    "\n",
    "max(df2_paint.depth)"
   ]
  },
  {
   "cell_type": "code",
   "execution_count": 529,
   "id": "a7faaf7b",
   "metadata": {},
   "outputs": [
    {
     "data": {
      "text/plain": [
       "99"
      ]
     },
     "execution_count": 529,
     "metadata": {},
     "output_type": "execute_result"
    }
   ],
   "source": [
    "out_layers_1.head()\n",
    "max(out_layers_1.x)"
   ]
  },
  {
   "cell_type": "code",
   "execution_count": 540,
   "id": "6a079be1",
   "metadata": {},
   "outputs": [
    {
     "data": {
      "text/html": [
       "<div>\n",
       "<style scoped>\n",
       "    .dataframe tbody tr th:only-of-type {\n",
       "        vertical-align: middle;\n",
       "    }\n",
       "\n",
       "    .dataframe tbody tr th {\n",
       "        vertical-align: top;\n",
       "    }\n",
       "\n",
       "    .dataframe thead th {\n",
       "        text-align: right;\n",
       "    }\n",
       "</style>\n",
       "<table border=\"1\" class=\"dataframe\">\n",
       "  <thead>\n",
       "    <tr style=\"text-align: right;\">\n",
       "      <th></th>\n",
       "      <th>x</th>\n",
       "      <th>y</th>\n",
       "      <th>RGB</th>\n",
       "    </tr>\n",
       "  </thead>\n",
       "  <tbody>\n",
       "    <tr>\n",
       "      <th>0</th>\n",
       "      <td>0</td>\n",
       "      <td>0</td>\n",
       "      <td>[0. 0. 0.]</td>\n",
       "    </tr>\n",
       "    <tr>\n",
       "      <th>1</th>\n",
       "      <td>1</td>\n",
       "      <td>0</td>\n",
       "      <td>[0. 0. 0.]</td>\n",
       "    </tr>\n",
       "    <tr>\n",
       "      <th>2</th>\n",
       "      <td>2</td>\n",
       "      <td>0</td>\n",
       "      <td>[0. 0. 0.]</td>\n",
       "    </tr>\n",
       "    <tr>\n",
       "      <th>3</th>\n",
       "      <td>3</td>\n",
       "      <td>0</td>\n",
       "      <td>[0. 0. 0.]</td>\n",
       "    </tr>\n",
       "    <tr>\n",
       "      <th>4</th>\n",
       "      <td>4</td>\n",
       "      <td>0</td>\n",
       "      <td>[0. 0. 0.]</td>\n",
       "    </tr>\n",
       "  </tbody>\n",
       "</table>\n",
       "</div>"
      ],
      "text/plain": [
       "   x  y         RGB\n",
       "0  0  0  [0. 0. 0.]\n",
       "1  1  0  [0. 0. 0.]\n",
       "2  2  0  [0. 0. 0.]\n",
       "3  3  0  [0. 0. 0.]\n",
       "4  4  0  [0. 0. 0.]"
      ]
     },
     "execution_count": 540,
     "metadata": {},
     "output_type": "execute_result"
    }
   ],
   "source": [
    "#df_paint=pd.read_csv('./data/brush_strokes/02_paintings/paint_00001.csv')  \n",
    "\n",
    "df_paint_2.head()\n",
    "#max(df_paint_2.x)"
   ]
  },
  {
   "cell_type": "markdown",
   "id": "70a01741",
   "metadata": {},
   "source": []
  },
  {
   "cell_type": "markdown",
   "id": "ed3a257d",
   "metadata": {},
   "source": [
    "____\n",
    "____\n",
    "\n",
    "#  Tip: display output of layers\n",
    "\n",
    " display the layers with the previous drawing, beneath, in grey scale\n",
    "____\n",
    "____\n"
   ]
  },
  {
   "cell_type": "code",
   "execution_count": null,
   "id": "ea8f8d38",
   "metadata": {},
   "outputs": [],
   "source": []
  }
 ],
 "metadata": {
  "kernelspec": {
   "display_name": "Python 3 (ipykernel)",
   "language": "python",
   "name": "python3"
  },
  "language_info": {
   "codemirror_mode": {
    "name": "ipython",
    "version": 3
   },
   "file_extension": ".py",
   "mimetype": "text/x-python",
   "name": "python",
   "nbconvert_exporter": "python",
   "pygments_lexer": "ipython3",
   "version": "3.8.11"
  }
 },
 "nbformat": 4,
 "nbformat_minor": 5
}
